{
 "cells": [
  {
   "cell_type": "markdown",
   "id": "9c7dd107",
   "metadata": {},
   "source": [
    "Run code vs. submit answer\n",
    "On the right, you'll see the area where you can write and execute Python scripts and the IPython console. In this exercise, you will practice submitting code. The output of this code will be shown in the IPython Shell. The IPython Shell can also be used interactively to type and execute commands. The code entered directly in IPython shell is not checked for correctness, so it is a great place to experiment.\n",
    "\n",
    "You can submit your script to check for correctness by hitting Submit Answer. Note that you can also use Take Hint or Show Answer if you're stuck.\n",
    "\n",
    "Instructions\n",
    "\n",
    "Hit the Run Code button and observe that the code in your script is executed in the IPython Shell.\n",
    "Next, hit the Submit Answer to execute the code and check it against the solution."
   ]
  },
  {
   "cell_type": "code",
   "execution_count": null,
   "id": "3a88ed8b",
   "metadata": {},
   "outputs": [],
   "source": [
    "# Example 1, do not modify!\n",
    "print(8 / 2)\n",
    "\n",
    "# Example 2, do not modify!\n",
    "print(2**2)"
   ]
  },
  {
   "cell_type": "markdown",
   "id": "0b936f37",
   "metadata": {},
   "source": [
    "Printing output\n",
    "The print() function in a Python script explicitly prints the output. It is time to write your first line of Python code with and without the print() function to observe how it impacts the output of a script.\n",
    "\n",
    "Instructions\n",
    "\n",
    "Write a command that adds 10 and 2.\n",
    "Write a command that multiplies 10 and 2.\n",
    "Print this output explicitly."
   ]
  },
  {
   "cell_type": "code",
   "execution_count": null,
   "id": "ba0a3d61",
   "metadata": {},
   "outputs": [],
   "source": [
    "# Addition, no print output\n",
    "10+2\n",
    "\n",
    "# Multiplication, with print output\n",
    "print(10*2)"
   ]
  },
  {
   "cell_type": "markdown",
   "id": "41a151dc",
   "metadata": {},
   "source": [
    "Finding the average revenue\n",
    "Variables can be used to store information and efficiently recover and manipulate stored values.\n",
    "\n",
    "The revenue of three companies have been stored in three variables: revenue_1, revenue_2, and revenue_3.\n",
    "Let's calculate the total revenue and the average revenue of these companies.\n",
    "\n",
    "Instructions\n",
    "\n",
    "Create a new variable, total that represents the sum of revenue_1, revenue_2 and revenue_3.\n",
    "Find the average of total."
   ]
  },
  {
   "cell_type": "code",
   "execution_count": null,
   "id": "f1fb923d",
   "metadata": {},
   "outputs": [],
   "source": [
    "# Print the total revenue\n",
    "total = revenue_1 + revenue_2 + revenue_3\n",
    "print(total)\n",
    "\n",
    "# Print the average revenue\n",
    "average = total/3\n",
    "print(average)"
   ]
  },
  {
   "cell_type": "markdown",
   "id": "925bb2b1",
   "metadata": {},
   "source": [
    "Creating variables\n",
    "Variables in Python hold a value that may consist of varying data types. Variable names can contain letters, underscores, and numbers.\n",
    "\n",
    "Let's create three types of Python variables that might be useful in finance.\n",
    "\n",
    "Instructions\n",
    "\n",
    "Assign the string 'Apple' to the variable company_1.\n",
    "Assign the integer 2017 to the variable year_1.\n",
    "Assign the float 229.23 to the variable revenue_1."
   ]
  },
  {
   "cell_type": "code",
   "execution_count": null,
   "id": "d83107c4",
   "metadata": {},
   "outputs": [],
   "source": [
    "# Create company_1\n",
    "company_1 = 'Apple'\n",
    "print(company_1)\n",
    "\n",
    "# Create year_1\n",
    "year_1 = 2017\n",
    "print(year_1)\n",
    "\n",
    "# Create revenue_1\n",
    "revenue_1 = 229.23\n",
    "print(revenue_1)"
   ]
  },
  {
   "cell_type": "markdown",
   "id": "f05afbf8",
   "metadata": {},
   "source": [
    "Determining types\n",
    "Python has a built-in command type() that can determine the type of a variable or literal value. Let's determine the data types of the variables you created in the last exercise.\n",
    "\n",
    "Instructions\n",
    "\n",
    "Print the data types associated with the variables company_1, year_1 and revenue_1."
   ]
  },
  {
   "cell_type": "code",
   "execution_count": null,
   "id": "7132354e",
   "metadata": {},
   "outputs": [],
   "source": [
    "# Type of company_1\n",
    "print(type(company_1))\n",
    "\n",
    "# Type of year_1\n",
    "print(type(year_1))\n",
    "\n",
    "# Type of revenue_1\n",
    "print(type(revenue_1))"
   ]
  },
  {
   "cell_type": "markdown",
   "id": "20b83ce8",
   "metadata": {},
   "source": [
    "Booleans in Python\n",
    "Booleans are used to represent True or False statements in Python. Boolean comparisons include:\n",
    "\n",
    "operators\tdescriptions\n",
    ">\tgreater than\n",
    ">=\tgreater than or equal\n",
    "<\tless than\n",
    "<=\tless than or equal\n",
    "==\tequal\n",
    "!=\tdoes not equal\n",
    "Let's use boolean comparison operations to assess the revenues of three companies.\n",
    "\n",
    "Instructions\n",
    "\n",
    "The name of company 1 is provided as company_1. Determine if the variable test_company is equivalent to company_1.\n",
    "The revenue of company 1 and company 2 are provided as revenue_1 and revenue_2, respectively. Using a comparison operator, determine if revenue_1 is greater than revenue_2."
   ]
  },
  {
   "cell_type": "code",
   "execution_count": null,
   "id": "12d7e21a",
   "metadata": {},
   "outputs": [],
   "source": [
    "# Test equality\n",
    "test_company = 'apple'\n",
    "print(company_1 == test_company)\n",
    "\n",
    "# Compare revenue_1 and revenue_2\n",
    "print(revenue_1 > revenue_2)"
   ]
  },
  {
   "cell_type": "markdown",
   "id": "990f1472",
   "metadata": {},
   "source": [
    "Combining data types\n",
    "Different types of data types have different properties. For example, strings and floats cannot be mathematically combined. To convert a variable x to an integer, you can use the command int(x). Similarly, to convert a variable y to a string, you can use the command str(y).\n",
    "\n",
    "It's time for you to change some data types to complete and print a statement.\n",
    "\n",
    "The variables company_1, year_1, and revenue_1 are available in your workspace.\n",
    "\n",
    "Instructions\n",
    "\n",
    "Convert the data type of variables year_1, and revenue_1 to string.\n",
    "Use these new variables to create and print the following sentence: \"The revenue of Apple in 2017 was $229.23 billion.\""
   ]
  },
  {
   "cell_type": "code",
   "execution_count": null,
   "id": "03b75a20",
   "metadata": {},
   "outputs": [],
   "source": [
    "# Update data types\n",
    "year_1_str = str(year_1)\n",
    "revenue_1_str = str(revenue_1)\n",
    "\n",
    "# Create a complete sentence combining only the string data types\n",
    "sentence = 'The revenue of ' + company_1 + ' in ' + year_1_str + ' was $' + revenue_1_str + ' billion.'\n",
    "\n",
    "# Print sentence\n",
    "print(sentence)"
   ]
  },
  {
   "cell_type": "markdown",
   "id": "2bc8cd37",
   "metadata": {},
   "source": [
    "Creating lists in Python\n",
    "A list in Python can contain any number of elements. You generally create a list using square brackets. For example, to create a list of integers, you can use the following command:\n",
    "\n",
    "x = [1, 2, 3]\n",
    "Instructions\n",
    "\n",
    "Create a list named names containing the strings 'Apple Inc', 'Coca-Cola', and 'Walmart', in that order.\n",
    "Print names.\n",
    "Create a list named prices containing the price of each stock, $159.54, $37.13, and $71.17, in that order.\n",
    "Print prices."
   ]
  },
  {
   "cell_type": "code",
   "execution_count": null,
   "id": "7a4a8d6d",
   "metadata": {},
   "outputs": [],
   "source": [
    "# Create and print list names\n",
    "names = [ 'Apple Inc', 'Coca-Cola', 'Walmart']\n",
    "print(names)\n",
    "\n",
    "# Create and print list prices\n",
    "prices = [159.54, 37.13, 71.17]\n",
    "print(prices)"
   ]
  },
  {
   "cell_type": "markdown",
   "id": "ad5c0a87",
   "metadata": {},
   "source": [
    "ndexing list items\n",
    "Each item in a list has an assigned indexed value. Remember that Python is a zero indexed language, and the first element in a list is stored at index zero. In this exercise, you will practice subsetting single elements from a list.\n",
    "\n",
    "Lists names and prices for company names and stock prices are available in your workspace.\n",
    "\n",
    "Instructions\n",
    "\n",
    "Print the first element in names.\n",
    "Print the second element in names.\n",
    "Using a negative index, print the last element in prices."
   ]
  },
  {
   "cell_type": "code",
   "execution_count": null,
   "id": "6b2aba27",
   "metadata": {},
   "outputs": [],
   "source": [
    "# Print the first item in names\n",
    "print(names[0])\n",
    "\n",
    "# Print the second item in names\n",
    "print(names[1])\n",
    "\n",
    "# Print the last element in prices\n",
    "print(prices[-1])"
   ]
  },
  {
   "cell_type": "markdown",
   "id": "9dd1e5c6",
   "metadata": {},
   "source": [
    "Slicing multiple list elements\n",
    "Slicing operations on a list are used to subset multiple elements from a list. The syntax for list slicing is as follows:\n",
    "\n",
    "list[start:end]\n",
    "Remember, this syntax indicates subsetting all elements from the start and up to but not including the end element.\n",
    "\n",
    "Also, you can use extended slicing to efficiently select multiple elements from a list. For example, the following command returns all elements from the list except the first (at index 0):\n",
    "\n",
    "x = [1, 2, 3, 4, 5]\n",
    "x[1:]\n",
    "\n",
    "[2, 3, 4, 5]\n",
    "Similarly, the following command returns all elements from the list except the last two:\n",
    "\n",
    "x[:-2]\n",
    "\n",
    "[1, 2, 3]\n",
    "Instructions\n",
    "\n",
    "Use list slicing to subset the last two elements from names.\n",
    "Use extended slicing and specifying appropriate indices to subset the first two elements from prices."
   ]
  },
  {
   "cell_type": "code",
   "execution_count": null,
   "id": "f1613aa5",
   "metadata": {},
   "outputs": [],
   "source": [
    "# names\n",
    "names = ['Apple Inc', 'Coca-Cola', 'Walmart']\n",
    "\n",
    "# Use slicing on list names\n",
    "names_subset = names[-2:]\n",
    "print(names_subset)\n",
    "\n",
    "# prices\n",
    "prices = [159.54, 37.13, 71.17]\n",
    "\n",
    "# Use extended slicing on the list prices\n",
    "prices_subset = prices[0:2]\n",
    "print(prices_subset)"
   ]
  },
  {
   "cell_type": "markdown",
   "id": "3d05d506",
   "metadata": {},
   "source": [
    "Stock up a nested list\n",
    "Lists can also contain other lists. In the example shown below, x is a nested list consisting of three lists:\n",
    "\n",
    "x = [[1, 2, 3], [4, 5, 6], [7, 8, 9]]\n",
    "You can use indexing to subset lists within a nested list. To extract the first list within x, you can use the following command:\n",
    "\n",
    "x[0]\n",
    "\n",
    "[1, 2, 3]\n",
    "The two lists names and prices you created earlier are available in your workspace.\n",
    "\n",
    "Instructions\n",
    "\n",
    "Create a list named stocks consisting of the lists names and prices, in that order.\n",
    "Use list indexing to subset the list prices from stocks (Remember that prices is the second element in stocks)."
   ]
  },
  {
   "cell_type": "code",
   "execution_count": null,
   "id": "afe6ec3f",
   "metadata": {},
   "outputs": [],
   "source": [
    "# Create and print the nested list stocks\n",
    "stocks = [names, prices]\n",
    "print(stocks)\n",
    "\n",
    "# Use list indexing to obtain the list of prices\n",
    "print(stocks[1])"
   ]
  },
  {
   "cell_type": "markdown",
   "id": "8ae33894",
   "metadata": {},
   "source": [
    "Subset a nested list\n",
    "You can also extract an element from the list you extracted. To do this, you use two indices. The first index is the position of the list, and the second index is the position of the element within the list.\n",
    "\n",
    "For example, if you want to extract 7 from x, you can use the following command:\n",
    "\n",
    "x = [[1, 2, 3], [4, 5, 6], [7, 8, 9]]\n",
    "x[2][0]\n",
    "\n",
    "7\n",
    "Here the first index 2 refers to the third list in x and the second index 0 refers to the first element of the third list in x.\n",
    "\n",
    "The nested list stocks you created in the last exercise is available in your workspace and is printed in the IPython shell on the right.\n",
    "\n",
    "Instructions\n",
    "\n",
    "From the nested list stocks, subset 'Coca-Cola'.\n",
    "From the nested list stocks, subset the price for Walmart stock, i.e., 71.17."
   ]
  },
  {
   "cell_type": "code",
   "execution_count": null,
   "id": "482d69f9",
   "metadata": {},
   "outputs": [],
   "source": [
    "# Use indexing to obtain company name Coca-Cola\n",
    "print(stocks[0][1])\n",
    "\n",
    "# Use indexing to obtain 71.17\n",
    "print(stocks[1][2])"
   ]
  },
  {
   "cell_type": "markdown",
   "id": "8caf5638",
   "metadata": {},
   "source": [
    "Exploring list methods and functions\n",
    "Lists methods and functions are useful for analyses. Functions take objects as inputs or are \"passed\" an object. Methods, in contrast, act on objects. For lists, useful functions include max() and min(), which identify the maximum or minimum value in a list. A useful list method is .sort() which sorts the elements in a list.\n",
    "\n",
    "Instructions\n",
    "\n",
    "Using the method .sort(), sort and print the prices in the list prices.\n",
    "Identify the maximum price in prices using the function max()."
   ]
  },
  {
   "cell_type": "code",
   "execution_count": null,
   "id": "3de27751",
   "metadata": {},
   "outputs": [],
   "source": [
    "# Print the sorted list prices\n",
    "prices = [159.54, 37.13, 71.17]\n",
    "prices.sort()\n",
    "print(prices)\n",
    "\n",
    "# Find the maximum price in the list price\n",
    "price_max = max(prices)\n",
    "print(price_max)"
   ]
  },
  {
   "cell_type": "markdown",
   "id": "003c43a2",
   "metadata": {},
   "source": [
    "Using list methods to add data\n",
    "You can use the .append() and .extend() methods to add elements to a list.\n",
    "\n",
    "The .append() method increases the length of the list by one, so if you want to add only one element to the list, you can use this method.\n",
    "\n",
    "x = [1, 2, 3]\n",
    "x.append(4)\n",
    "x\n",
    "\n",
    "[1, 2, 3, 4]\n",
    "The .extend() method increases the length of the list by the number of elements that are provided to the method, so if you want to add multiple elements to the list, you can use this method.\n",
    "\n",
    "x = [1, 2, 3]\n",
    "x.extend([4, 5])\n",
    "x\n",
    "\n",
    "[1, 2, 3, 4, 5]\n",
    "Instructions\n",
    "\n",
    "Add a single element, 'Amazon.com', to the names.\n",
    "Add the list more_elements which consists of two elements to names."
   ]
  },
  {
   "cell_type": "code",
   "execution_count": null,
   "id": "8b117f51",
   "metadata": {},
   "outputs": [],
   "source": [
    "# Append a name to the list names\n",
    "names.append('Amazon.com')\n",
    "print(names)\n",
    "\n",
    "# Extend list names\n",
    "more_elements = ['DowDuPont', 'Alphabet Inc']\n",
    "names.extend(more_elements)\n",
    "print(names)"
   ]
  },
  {
   "cell_type": "markdown",
   "id": "6c605f7b",
   "metadata": {},
   "source": [
    "Finding stock with maximum price\n",
    "Another useful list method is .index(), which returns the index of the element specified. For example, to get the index of 2 in x, you would use:\n",
    "\n",
    "x = [1, 2, 3, 4]\n",
    "x.index(2)\n",
    "\n",
    "1\n",
    "You can then use this result to subset another list, as you will do in this exercise.\n",
    "\n",
    "The lists prices and names are available in your workspace.\n",
    "\n",
    "Instructions\n",
    "\n",
    "Identify the index of max_price in the list prices.\n",
    "Use this index on the names list to identify the company with maximum stock price."
   ]
  },
  {
   "cell_type": "code",
   "execution_count": null,
   "id": "3f3b57c3",
   "metadata": {},
   "outputs": [],
   "source": [
    "# Do not modify this\n",
    "max_price = max(prices)\n",
    "\n",
    "# Identify index of max price\n",
    "max_index = prices.index(max_price)\n",
    "\n",
    "# Identify the name of the company with max price\n",
    "max_stock_name = names[max_index]\n",
    "\n",
    "# Fill in the blanks \n",
    "print('The largest stock price is associated with ' + max_stock_name + ' and is $' + str(max_price) + '.')"
   ]
  },
  {
   "cell_type": "markdown",
   "id": "9b5f3bd5",
   "metadata": {},
   "source": [
    "Create an array\n",
    "You can use the NumPy package to create arrays. NumPy arrays are optimized for numerical analyses and contain only a single data type. To convert a list to an array, you can use the array() function from NumPy.\n",
    "\n",
    "import numpy as np\n",
    "\n",
    "a_list = [1, 2, 3, 4]\n",
    "a_list\n",
    "\n",
    "[1, 2, 3, 4]\n",
    "\n",
    "an_array = np.array(a_list)\n",
    "an_array\n",
    "\n",
    "array([1, 2, 3, 4])\n",
    "Instructions\n",
    "\n",
    "Import numpy using the alias np.\n",
    "Create prices_array and earnings_array arrays from the lists prices and earnings, respectively."
   ]
  },
  {
   "cell_type": "code",
   "execution_count": null,
   "id": "ab19dcec",
   "metadata": {},
   "outputs": [],
   "source": [
    "# Import numpy as np\n",
    "import numpy as np\n",
    "\n",
    "# Lists\n",
    "prices = [170.12, 93.29, 55.28, 145.30, 171.81, 59.50, 100.50]\n",
    "earnings = [9.2, 5.31, 2.41, 5.91, 15.42, 2.51, 6.79]\n",
    "\n",
    "# NumPy arrays\n",
    "prices_array = np.array(prices)\n",
    "earnings_array = np.array(earnings)\n",
    "\n",
    "# Print the arrays\n",
    "print(prices_array)\n",
    "print(earnings_array)"
   ]
  },
  {
   "cell_type": "markdown",
   "id": "9acb2717",
   "metadata": {},
   "source": [
    "Elementwise operations on arrays\n",
    "Arrays allow for efficient numerical manipulation of its elements. Let's explore element-wise mathematical operations by calculating price to earnings ratio using two arrays, prices_array and earnings_array from the previous exercise.\n",
    "\n",
    "This price to earnings ratio, or PE ratio, is a financial indicator of the dollar amount an investor can expect to invest in a company in order to receive one dollar of that company’s earnings.\n",
    "\n",
    "prices_array and earnings_array are available in your workspace.\n",
    "\n",
    "Instructions\n",
    "\n",
    "Import numpy as np.\n",
    "Create pe_array by dividing prices_array by earnings_array."
   ]
  },
  {
   "cell_type": "code",
   "execution_count": null,
   "id": "f97cca82",
   "metadata": {},
   "outputs": [],
   "source": [
    "# Import numpy as np\n",
    "import numpy as np\n",
    "\n",
    "# Create PE ratio array\n",
    "pe_array = prices_array/earnings_array\n",
    "\n",
    "# Print pe_array\n",
    "print(pe_array)"
   ]
  },
  {
   "cell_type": "markdown",
   "id": "075e8b51",
   "metadata": {},
   "source": [
    "Subsetting elements from an array\n",
    "Subsetting arrays is similar to subsetting lists. In this exercise, you will practice just that.\n",
    "\n",
    "numpy is imported as np and prices_array is available in your workspace.\n",
    "\n",
    "Instructions\n",
    "\n",
    "Subset the first three elements from prices_array.\n",
    "Subset the last three elements from the prices_array using negative index slicing.\n",
    "Subset every third element from the prices_array using step slicing."
   ]
  },
  {
   "cell_type": "code",
   "execution_count": null,
   "id": "97e2341d",
   "metadata": {},
   "outputs": [],
   "source": [
    "# Subset the first three elements\n",
    "prices_subset_1 = prices_array[0:3]\n",
    "print(prices_subset_1)\n",
    "\n",
    "# Subset last three elements \n",
    "prices_subset_2 = prices_array[-3:]\n",
    "print(prices_subset_2)\n",
    "\n",
    "# Subset every third element\n",
    "prices_subset_3 = prices_array[0:7:3]\n",
    "print(prices_subset_3)"
   ]
  },
  {
   "cell_type": "markdown",
   "id": "b1c2e34a",
   "metadata": {},
   "source": [
    "Creating a 2D array\n",
    "Multi-dimensional arrays can be useful for several tasks. In finance, for example, a 2D array may be used to store the prices and earnings for various companies. Let's create this 2D array, stock_array, from a list of prices and earnings.\n",
    "\n",
    "numpy is imported as np and the two lists prices and earnings are available in your workspace.\n",
    "\n",
    "Instructions\n",
    "\n",
    "Create a two dimensional array of prices and earnings (in that order) and assign it to stock_array.\n",
    "Print the shape of stock_array.\n",
    "Transpose stock_array and assign the result to stock_array_transposed.\n",
    "Print the size of stock_array_transposed."
   ]
  },
  {
   "cell_type": "code",
   "execution_count": null,
   "id": "34563fc1",
   "metadata": {},
   "outputs": [],
   "source": [
    "# Create a 2D array of prices and earnings\n",
    "stock_array = np.array([prices, earnings])\n",
    "print(stock_array)\n",
    "\n",
    "# Print the shape of stock_array\n",
    "print(stock_array.shape)\n",
    "\n",
    "# Print the size of stock_array\n",
    "print(stock_array.size)\n",
    "\n",
    "# Transpose stock_array\n",
    "stock_array_transposed = np.transpose(stock_array)\n",
    "print(stock_array_transposed)\n",
    "\n",
    "# Print the shape of stock_array\n",
    "print(stock_array_transposed.shape)\n",
    "\n",
    "# Print the size of stock_array\n",
    "print(stock_array_transposed.size)"
   ]
  },
  {
   "cell_type": "markdown",
   "id": "88b43b96",
   "metadata": {},
   "source": [
    "Subsetting 2D arrays\n",
    "Subsetting 2D arrays is similar to subsetting nested lists. In a 2D array, the indexing or slicing must be specific to the dimension of the array:\n",
    "\n",
    "array[row_index, column_index]\n",
    "numpy is imported as np and the 2D array stock_array_transposed (from the previous exercise) is available in your workspace.\n",
    "\n",
    "Instructions\n",
    "\n",
    "Extract the first column from stock_array_transposed and assign it to prices.\n",
    "Extract the second column from stock_array_transposed and assign it to earnings.\n",
    "Subset the price and earning of the first company (row 0) from stock_array_transposed and assign it to company_1."
   ]
  },
  {
   "cell_type": "code",
   "execution_count": null,
   "id": "1e8903b9",
   "metadata": {},
   "outputs": [],
   "source": [
    "# Subset prices from stock_array_transposed\n",
    "prices = stock_array_transposed[:, 0]\n",
    "print(prices)\n",
    "\n",
    "# Subset earnings from stock_array_transposed\n",
    "earnings = stock_array_transposed[:,1]\n",
    "print(earnings)\n",
    "\n",
    "# Subset the price and earning for first company\n",
    "company_1 = stock_array_transposed[0,:]\n",
    "print(company_1)"
   ]
  },
  {
   "cell_type": "markdown",
   "id": "8b006236",
   "metadata": {},
   "source": [
    "Calculating array stats\n",
    "Not only can you perform elementwise calculations on NumPy arrays, you can also calculate summary stats such as mean and standard deviation of arrays using functions from NumPy.\n",
    "\n",
    "numpy is imported as np and the array prices (from the previous exercise) is available in your workspace.\n",
    "\n",
    "Instructions\n",
    "\n",
    "Calculate the mean of prices.\n",
    "Calculate the standard deviation of prices."
   ]
  },
  {
   "cell_type": "code",
   "execution_count": null,
   "id": "29dd071f",
   "metadata": {},
   "outputs": [],
   "source": [
    "# Calculate the mean \n",
    "prices_mean = np.mean(prices)\n",
    "print(prices_mean)\n",
    "\n",
    "# Calculate the standard deviation \n",
    "prices_std = np.std(prices)\n",
    "print(prices_std)"
   ]
  },
  {
   "cell_type": "markdown",
   "id": "931695de",
   "metadata": {},
   "source": [
    "Generating a sequence of numbers\n",
    "You may want to create an array of a range of numbers (e.g., 1 to 10) without having to type in every single number. The NumPy function arange() is an efficient way to create numeric arrays of a range of numbers. The arguments for arange() include the start, stop, and step interval as shown below:\n",
    "\n",
    "np.arange(start, stop, step)\n",
    "numpy is imported as np.\n",
    "\n",
    "Instructions\n",
    "\n",
    "Create an array company_ids containing the numbers 1 through 7 (inclusive).\n",
    "Create an array company_ids_odd containing only the odd numbers from 1 through 7 (inclusive)."
   ]
  },
  {
   "cell_type": "code",
   "execution_count": null,
   "id": "e1ec093f",
   "metadata": {},
   "outputs": [],
   "source": [
    "# Create and print company IDs\n",
    "company_ids = np.arange(1, 8, 1)\n",
    "print(company_ids)\n",
    "\n",
    "# Use array slicing to select specific company IDs\n",
    "company_ids_odd = np.arange(1, 8, 2)\n",
    "print(company_ids_odd)"
   ]
  },
  {
   "cell_type": "markdown",
   "id": "4884846f",
   "metadata": {},
   "source": [
    "Who's above average?\n",
    "Boolean arrays can be a very powerful way to subset arrays. In this exercise, you will identify the prices that are greater than average from a list of prices.\n",
    "\n",
    "numpy is imported as np and the array prices is available in your workspace.\n",
    "\n",
    "Instructions\n",
    "\n",
    "Find elements in prices that are greater than price_mean and assign the boolean result to boolean_array.\n",
    "Subset prices using boolean_array and assign the result to above_avg."
   ]
  },
  {
   "cell_type": "code",
   "execution_count": null,
   "id": "0bde42fe",
   "metadata": {},
   "outputs": [],
   "source": [
    "# Find the mean\n",
    "price_mean = np.mean(prices)\n",
    "\n",
    "# Create boolean array\n",
    "boolean_array = (prices > price_mean)\n",
    "print(boolean_array)\n",
    "\n",
    "# Select prices that are greater than average\n",
    "above_avg = prices[boolean_array]\n",
    "print(above_avg)"
   ]
  },
  {
   "cell_type": "markdown",
   "id": "b2a77321",
   "metadata": {},
   "source": [
    "Who's in health care?\n",
    "In this exercise, you are provided the names of companies with their associated sector, and your goal is to find all companies that are associated with health care sector.\n",
    "\n",
    "numpy is imported as np and the arrays names and sectors are available in your workspace.\n",
    "\n",
    "Instructions\n",
    "\n",
    "Find elements in sectors that are equivalent to 'Health Care' and assign the result to boolean_array.\n",
    "Subset names using boolean_array and assign the result to health_care."
   ]
  },
  {
   "cell_type": "code",
   "execution_count": null,
   "id": "74126811",
   "metadata": {},
   "outputs": [],
   "source": [
    "# Create boolean array\n",
    "boolean_array = (sectors == 'Health Care')\n",
    "print(boolean_array)\n",
    "\n",
    "# Print only health care companies\n",
    "health_care = names[boolean_array]\n",
    "print(health_care)"
   ]
  },
  {
   "cell_type": "markdown",
   "id": "80d07daa",
   "metadata": {},
   "source": [
    "Importing matplotlib and pyplot\n",
    "Pyplot is a collection of functions in the popular visualization package Matplotlib. Its functions manipulate elements of a figure, such as creating a figure, creating a plotting area, plotting lines, adding plot labels, etc. Let's use the plot() function from pyplot to create a dashed line graph showing the growth of a company's stock. Remember, you can change the color of the line by adding the argument color and the linestlye by adding the argument linestyle.\n",
    "\n",
    "Two lists, days (representing the days since the company became public), and prices (representing the price of the stock corresponding to that day) are available in your workspace.\n",
    "\n",
    "Instructions\n",
    "\n",
    "Selectively import the pyplot module of matplotlib as plt.\n",
    "Plot days on the x-axis and prices on the y-axis as a red colored dashed line.\n",
    "Display the plot with the show() function."
   ]
  },
  {
   "cell_type": "code",
   "execution_count": null,
   "id": "10621f3f",
   "metadata": {},
   "outputs": [],
   "source": [
    "# Import matplotlib.pyplot with the alias plt\n",
    "import matplotlib.pyplot as plt\n",
    "\n",
    "# Plot the price of stock over \n",
    "plt.plot(days, prices, color=\"red\", linestyle=\"--\")\n",
    "\n",
    "# Display the plot\n",
    "plt.show()"
   ]
  },
  {
   "cell_type": "markdown",
   "id": "0a076c1e",
   "metadata": {},
   "source": [
    "Adding axis labels and titles\n",
    "It is important to add labels to your plot so it's clear to other people what information it is trying to convey. In this exercise, you will add labels to the plot you created in the last one.\n",
    "\n",
    "Instructions\n",
    "\n",
    "Add the following labels:\n",
    "x-axis: 'Days'\n",
    "y-axis: 'Prices, $'\n",
    "title: 'Company Stock Prices Over Time'"
   ]
  },
  {
   "cell_type": "code",
   "execution_count": null,
   "id": "865c43cd",
   "metadata": {},
   "outputs": [],
   "source": [
    "import matplotlib.pyplot as plt\n",
    "\n",
    "# Plot price as a function of time\n",
    "plt.plot(days, prices, color=\"red\", linestyle=\"--\")\n",
    "\n",
    "# Add x and y labels\n",
    "plt.xlabel('Days')\n",
    "plt.ylabel('Prices, $')\n",
    "\n",
    "# Add plot title\n",
    "plt.title('Company Stock Prices Over Time')\n",
    "\n",
    "# Show plot\n",
    "plt.show()"
   ]
  },
  {
   "cell_type": "markdown",
   "id": "4699d6b7",
   "metadata": {},
   "source": [
    "Multiple lines on the same plot\n",
    "You can also plot multiple datasets as different lines. To do so, you can use the plot() function multiple times. Let's plot the stocks of two companies over time.\n",
    "\n",
    "matplotlib.pyplot is imported as plt and lists days, prices1, and prices2 are available in your workspace.\n",
    "\n",
    "Instructions\n",
    "\n",
    "Plot prices1 data with a red line, and prices2 data with a green line."
   ]
  },
  {
   "cell_type": "code",
   "execution_count": null,
   "id": "4ea1f472",
   "metadata": {},
   "outputs": [],
   "source": [
    "# Plot two lines of varying colors \n",
    "plt.plot(days, prices1, color='red')\n",
    "plt.plot(days, prices2, color='green')\n",
    "\n",
    "# Add labels\n",
    "plt.xlabel('Days')\n",
    "plt.ylabel('Prices, $')\n",
    "plt.title('Stock Prices Over Time')\n",
    "plt.show()"
   ]
  },
  {
   "cell_type": "markdown",
   "id": "321f4583",
   "metadata": {},
   "source": [
    "Scatterplots\n",
    "The pyplot module can also be used to make other types of plots, like scatterplots. Let's make a scatterplot of the company's stock prices over time.\n",
    "\n",
    "Two lists, days and prices are available in your workspace.\n",
    "\n",
    "Instructions\n",
    "\n",
    "Draw a scatterplot with days on the x-axis and prices on the y-axis with green markers.\n",
    "Display the plot with the show() function."
   ]
  },
  {
   "cell_type": "code",
   "execution_count": null,
   "id": "2885247e",
   "metadata": {},
   "outputs": [],
   "source": [
    "# Import pyplot as plt\n",
    "import matplotlib.pyplot as plt\n",
    "\n",
    "# Plot price as a function of time\n",
    "plt.scatter(days, prices, color='green', s=0.1)\n",
    "\n",
    "# Show plot\n",
    "plt.show()"
   ]
  },
  {
   "cell_type": "markdown",
   "id": "f8d2b946",
   "metadata": {},
   "source": [
    "Is data normally distributed?\n",
    "A histogram is an efficient visual tool to examine whether your data is normally distributed, or centered around the mean.\n",
    "matplotlib.pyplot is imported as plt and the array prices is available in your workspace.\n",
    "\n",
    "Instructions\n",
    "\n",
    "Plot a histogram of prices with 100 bins to confirm that the data is normally distributed.\n",
    "Display the plot."
   ]
  },
  {
   "cell_type": "code",
   "execution_count": null,
   "id": "bca971e5",
   "metadata": {},
   "outputs": [],
   "source": [
    "# Plot histogram \n",
    "plt.hist(prices, bins=100)\n",
    "\n",
    "# Display plot\n",
    "plt.show()"
   ]
  },
  {
   "cell_type": "markdown",
   "id": "4c76cdc4",
   "metadata": {},
   "source": [
    "Comparing two histograms\n",
    "Histograms can also be used to compare the distributions of multiple datasets. In this exercise, you will compare the performance of two different stocks to find out which stock has the most fluctuation.\n",
    "\n",
    "matplotlib.pyplot is imported as plt and lists stock_A and stock_B are available in your workspace.\n",
    "\n",
    "Instructions\n",
    "\n",
    "Plot the histogram of stock_A with 100 bins and a transparency of 0.4.\n",
    "Plot the histogram of stock_B with 100 bins and a transparency of 0.4."
   ]
  },
  {
   "cell_type": "code",
   "execution_count": null,
   "id": "79bc8a7c",
   "metadata": {},
   "outputs": [],
   "source": [
    "# Plot histogram of stocks_A\n",
    "plt.hist(stock_A, bins=100, alpha=0.4)\n",
    "\n",
    "# Plot histogram of stocks_B \n",
    "plt.hist(stock_B, bins=100, alpha=0.4)\n",
    "\n",
    "# Display plot\n",
    "plt.show()"
   ]
  },
  {
   "cell_type": "markdown",
   "id": "91d79eb2",
   "metadata": {},
   "source": [
    "Adding a legend\n",
    "A legend can be useful when plotting multiple datasets to identify which plot is associated with a specific dataset. To add a legend, you can use the label argument. To display the legend on the plot, you can use the function plt.legend().\n",
    "\n",
    "matplotlib.pyplot is imported as plt and lists stock_A and stock_B are available in your workspace.\n",
    "\n",
    "Instructions\n",
    "\n",
    "Plot histograms for stock_A and stock_B and add labels to each plot ('Stock A' and 'Stock B').\n",
    "Display the legend and the plot."
   ]
  },
  {
   "cell_type": "code",
   "execution_count": null,
   "id": "8fc26511",
   "metadata": {},
   "outputs": [],
   "source": [
    "# Plot stock_A and stock_B histograms\n",
    "plt.hist(stock_A, bins=100, alpha=0.4, label='Stock A')\n",
    "plt.hist(stock_B, bins=100, alpha=0.4, label='Stock B')\n",
    "\n",
    "# Add the legend\n",
    "plt.legend()\n",
    "\n",
    "# Display the plot\n",
    "plt.show()"
   ]
  },
  {
   "cell_type": "markdown",
   "id": "c474e349",
   "metadata": {},
   "source": [
    "Lists\n",
    "Stocks in the S&P 100 are selected to represent sector balance and market capitalization. To begin, let's take a look at what data we have associated with S&P companies.\n",
    "\n",
    "Four lists, names, prices, earnings, and sectors, are available in your workspace.\n",
    "\n",
    "Instructions\n",
    "\n",
    "Print the first four items in names.\n",
    "Print the name, price, earning, and sector associated with the last company in the lists."
   ]
  },
  {
   "cell_type": "code",
   "execution_count": null,
   "id": "2d9518b9",
   "metadata": {},
   "outputs": [],
   "source": [
    "# First four items of names\n",
    "print(names[0:4])\n",
    "\n",
    "# Print information on last company\n",
    "print(names[-1])\n",
    "print(prices[-1])\n",
    "print(earnings[-1])\n",
    "print(sectors[-1])"
   ]
  },
  {
   "cell_type": "markdown",
   "id": "0b051db5",
   "metadata": {},
   "source": [
    "Arrays and NumPy\n",
    "NumPy is a scientific computing package in Python that helps you to work with arrays. Let's use array operations to calculate price to earning ratios of the S&P 100 stocks.\n",
    "\n",
    "The S&P 100 data is available as the lists: prices (stock prices per share) and earnings (earnings per share).\n",
    "\n",
    "Instructions\n",
    "\n",
    "Import the numpy as np.\n",
    "Convert the prices and earnings lists to arrays, prices_array and earnings_array, respectively.\n",
    "Calculate the price to earnings ratio as pe."
   ]
  },
  {
   "cell_type": "code",
   "execution_count": null,
   "id": "8bb71432",
   "metadata": {},
   "outputs": [],
   "source": [
    "# Import numpy as np\n",
    "import numpy as np\n",
    "\n",
    "# Convert lists to arrays\n",
    "prices_array = np.array(prices)\n",
    "earnings_array = np.array(earnings)\n",
    "\n",
    "# Calculate P/E ratio \n",
    "pe = prices_array/earnings_array\n",
    "print(pe)"
   ]
  },
  {
   "cell_type": "markdown",
   "id": "09fd9626",
   "metadata": {},
   "source": [
    "Filtering arrays\n",
    "In this lesson, you will focus on two sectors:\n",
    "\n",
    "Information Technology\n",
    "Consumer Staples\n",
    "numpy is imported as np and S&P 100 data is stored as arrays: names, sectors, and pe (price to earnings ratio).\n",
    "\n",
    "Instructions\n",
    "\n",
    "Create a boolean array to determine which elements in sectors are 'Information Technology'.\n",
    "Use the boolean array to subset names and pe in the Information Technology sector.\n",
    "Create a boolean array to determine which elements in sectors are 'Consumer Staples'.\n",
    "Use the boolean array to subset names and pe in the Consumer Staples sector."
   ]
  },
  {
   "cell_type": "code",
   "execution_count": null,
   "id": "79783ad5",
   "metadata": {},
   "outputs": [],
   "source": [
    "# Create boolean array \n",
    "boolean_array = (sectors == 'Information Technology')\n",
    "\n",
    "# Subset sector-specific data\n",
    "it_names = names[boolean_array]\n",
    "it_pe = pe[boolean_array]\n",
    "\n",
    "# Display sector names\n",
    "print(it_names)\n",
    "print(it_pe)\n",
    "\n",
    "# Create boolean array \n",
    "boolean_array = (sectors == 'Consumer Staples')\n",
    "\n",
    "# Subset sector-specific data\n",
    "cs_names = names[boolean_array]\n",
    "cs_pe = pe[boolean_array]\n",
    "\n",
    "# Display sector names\n",
    "print(cs_names)\n",
    "print(cs_pe)"
   ]
  },
  {
   "cell_type": "markdown",
   "id": "a6223c22",
   "metadata": {},
   "source": [
    "ummarizing sector data\n",
    "In this exercise, you will calculate the mean and standard deviation of P/E ratios for Information Technology and Consumer Staples sectors. numpy is imported as np and the it_pe and cs_pe arrays from the previous exercise are available in your workspace.\n",
    "\n",
    "Instructions\n",
    "\n",
    "Calculate the mean and standard deviation of the P/E ratios (it_pe) for the Industrial Technology sector.\n",
    "Calculate the mean and standard deviation of the P/E ratios (cs_pe) for the Consumer Staples sector."
   ]
  },
  {
   "cell_type": "code",
   "execution_count": null,
   "id": "59e55481",
   "metadata": {},
   "outputs": [],
   "source": [
    "# Calculate mean and standard deviation\n",
    "it_pe_mean = np.mean(it_pe)\n",
    "it_pe_std = np.std(it_pe)\n",
    "\n",
    "print(it_pe_mean)\n",
    "print(it_pe_std)\n",
    "\n",
    "# Calculate mean and standard deviation\n",
    "cs_pe_mean = np.mean(cs_pe)\n",
    "cs_pe_std = np.std(cs_pe)\n",
    "\n",
    "print(cs_pe_mean)\n",
    "print(cs_pe_std)"
   ]
  },
  {
   "cell_type": "markdown",
   "id": "06b80b07",
   "metadata": {},
   "source": [
    "Plot P/E ratios\n",
    "Let's take a closer look at the P/E ratios using a scatter plot for each company in these two sectors.\n",
    "\n",
    "The arrays it_pe and cs_pe from the previous exercise are available in your workspace. Also, each company name has been assigned a numeric ID contained in the arrays it_id and cs_id.\n",
    "\n",
    "Instructions\n",
    "\n",
    "Draw a scatter plot of it_pe ratios with red markers and 'IT' label.\n",
    "On the same plot, add the cs_pe ratios with green markers and 'CS' label.\n",
    "Add a legend to this plot.\n",
    "Display the plot."
   ]
  },
  {
   "cell_type": "code",
   "execution_count": null,
   "id": "acb04f74",
   "metadata": {},
   "outputs": [],
   "source": [
    "import matplotlib.pyplot as plt\n",
    "\n",
    "# Make a scatterplot\n",
    "plt.scatter(it_id, it_pe, color = 'red', label = 'IT')\n",
    "plt.scatter(cs_id, cs_pe, color = 'green', label = \"CS\")\n",
    "\n",
    "# Add legend\n",
    "plt.legend()\n",
    "\n",
    "# Add labels\n",
    "plt.xlabel('Company ID')\n",
    "plt.ylabel('P/E Ratio')\n",
    "plt.show()"
   ]
  },
  {
   "cell_type": "markdown",
   "id": "e5c7e345",
   "metadata": {},
   "source": [
    "Histogram of P/E ratios\n",
    "To visualize and understand the distribution of the P/E ratios in the IT sector, you can use a histogram.\n",
    "\n",
    "The array it_pe from the previous exercise is available in your workspace.\n",
    "\n",
    "Instructions\n",
    "\n",
    "Selectively import the pyplot module of matplotlib as plt.\n",
    "Plot a histogram of it_pe with 8 bins.\n",
    "Add the x-label as 'P/E ratio' and y-label as 'Frequency'.\n",
    "Display the plot."
   ]
  },
  {
   "cell_type": "code",
   "execution_count": null,
   "id": "c4a9ff21",
   "metadata": {},
   "outputs": [],
   "source": [
    "# Import matplotlib.pyplot with the alias plt\n",
    "import matplotlib.pyplot as plt\n",
    "\n",
    "# Plot histogram \n",
    "plt.hist(it_pe, bins=8)\n",
    "\n",
    "# Add x-label\n",
    "plt.xlabel('P/E ratio')\n",
    "\n",
    "# Add y-label\n",
    "plt.ylabel('Frequency')\n",
    "\n",
    "# Show plot\n",
    "plt.show()"
   ]
  },
  {
   "cell_type": "markdown",
   "id": "466b5631",
   "metadata": {},
   "source": [
    "Name the outlier\n",
    "You've identified that a company in the Industrial Technology sector has a P/E ratio of greater than 50. Let's identify this company.\n",
    "\n",
    "numpy is imported as np, and arrays it_pe (P/E ratios of Industrial Technology companies) and it_names (names of Industrial Technology companies) are available in your workspace.\n",
    "\n",
    "Instructions\n",
    "\n",
    "Identify the P/E ratio greater than 50 and assign it to outlier_price.\n",
    "Identify the company with P/E ratio greater than 50 and assign it to outlier_name."
   ]
  },
  {
   "cell_type": "code",
   "execution_count": null,
   "id": "ae48b3bd",
   "metadata": {},
   "outputs": [],
   "source": [
    "# Identify P/E ratio within it_pe that is > 50\n",
    "outlier_price = it_pe[it_pe>50]\n",
    "\n",
    "# Identify the company with PE ratio > 50\n",
    "outlier_name = it_names[it_pe>50]\n",
    "\n",
    "# Display results\n",
    "print(\"In 2017, \" + str(outlier_name[0]) + \" had an abnormally high P/E ratio of \" + str(round(outlier_price[0], 2)) + \".\")"
   ]
  }
 ],
 "metadata": {
  "kernelspec": {
   "display_name": "Python 3 (ipykernel)",
   "language": "python",
   "name": "python3"
  },
  "language_info": {
   "codemirror_mode": {
    "name": "ipython",
    "version": 3
   },
   "file_extension": ".py",
   "mimetype": "text/x-python",
   "name": "python",
   "nbconvert_exporter": "python",
   "pygments_lexer": "ipython3",
   "version": "3.9.12"
  }
 },
 "nbformat": 4,
 "nbformat_minor": 5
}
