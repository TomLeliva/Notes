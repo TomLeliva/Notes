{
 "cells": [
  {
   "cell_type": "markdown",
   "id": "05902ae5",
   "metadata": {},
   "source": [
    "Using the matplotlib.pyplot interface\n",
    "There are many ways to use Matplotlib. In this course, we will focus on the pyplot interface, which provides the most flexibility in creating and customizing data visualizations.\n",
    "\n",
    "Initially, we will use the pyplot interface to create two kinds of objects: Figure objects and Axes objects.\n",
    "\n",
    "This course introduces a lot of new concepts, so if you ever need a quick refresher, download the Matplotlib Cheat Sheet and keep it handy!\n",
    "\n",
    "Instructions\n",
    "\n",
    "Import the matplotlib.pyplot API, using the conventional name plt.\n",
    "Create Figure and Axes objects using the plt.subplots function.\n",
    "Show the results, an empty set of axes, using the plt.show function."
   ]
  },
  {
   "cell_type": "code",
   "execution_count": null,
   "id": "c8348108",
   "metadata": {},
   "outputs": [],
   "source": [
    "# Import the matplotlib.pyplot submodule and name it plt\n",
    "import matplotlib.pyplot as plt\n",
    "\n",
    "# Create a Figure and an Axes with plt.subplots\n",
    "fig, ax = plt.subplots()\n",
    "\n",
    "# Call the show function to show the result\n",
    "plt.show()"
   ]
  },
  {
   "cell_type": "markdown",
   "id": "bc3dfbe4",
   "metadata": {},
   "source": [
    "Adding data to an Axes object\n",
    "Adding data to a figure is done by calling methods of the Axes object. In this exercise, we will use the plot method to add data about rainfall in two American cities: Seattle, WA and Austin, TX.\n",
    "\n",
    "The data are stored in two pandas DataFrame objects that are already loaded into memory: seattle_weather stores information about the weather in Seattle, and austin_weather stores information about the weather in Austin. Each of the DataFrames has a \"MONTH\" column that stores the three-letter name of the months. Each also has a column named \"MLY-PRCP-NORMAL\" that stores the average rainfall in each month during a ten-year period.\n",
    "\n",
    "In this exercise, you will create a visualization that will allow you to compare the rainfall in these two cities.\n",
    "\n",
    "Instructions\n",
    "\n",
    "Import the matplotlib.pyplot submodule as plt.\n",
    "Create a Figure and an Axes object by calling plt.subplots.\n",
    "Add data from the seattle_weather DataFrame by calling the Axes plot method.\n",
    "Add data from the austin_weather DataFrame in a similar manner and call plt.show to show the results."
   ]
  },
  {
   "cell_type": "code",
   "execution_count": null,
   "id": "a3c2ae78",
   "metadata": {},
   "outputs": [],
   "source": [
    "import matplotlib.pyplot as plt\n",
    "\n",
    "# Create a Figure and an Axes with plt.subplots\n",
    "fig, ax = plt.subplots()\n",
    "\n",
    "# Plot MLY-PRCP-NORMAL from seattle_weather against the MONTH\n",
    "ax.plot(seattle_weather[\"MONTH\"], seattle_weather['MLY-PRCP-NORMAL'])\n",
    "\n",
    "# Plot MLY-PRCP-NORMAL from austin_weather against MONTH\n",
    "ax.plot(austin_weather['MONTH'], austin_weather['MLY-PRCP-NORMAL'])\n",
    "\n",
    "# Call the show function\n",
    "plt.show()"
   ]
  },
  {
   "cell_type": "markdown",
   "id": "8bfa4e51",
   "metadata": {},
   "source": [
    "Customizing data appearance\n",
    "We can customize the appearance of data in our plots, while adding the data to the plot, using key-word arguments to the plot command.\n",
    "\n",
    "In this exercise, you will customize the appearance of the markers, the linestyle that is used, and the color of the lines and markers for your data.\n",
    "\n",
    "As before, the data is already provided in pandas DataFrame objects loaded into memory: seattle_weather and austin_weather. These each have a \"MONTHS\" column and a \"MLY-PRCP-NORMAL\" that you will plot against each other.\n",
    "\n",
    "In addition, a Figure object named fig and an Axes object named ax have already been created for you.\n",
    "\n",
    "Instructions\n",
    "\n",
    "Call ax.plot to plot \"MLY-PRCP-NORMAL\" against \"MONTHS\" in both DataFrames.\n",
    "Pass the color key-word arguments to these commands to set the color of the Seattle data to blue ('b') and the Austin data to red ('r').\n",
    "Pass the marker key-word arguments to these commands to set the Seattle data to circle markers ('o') and the Austin markers to triangles pointing downwards ('v').\n",
    "Pass the linestyle key-word argument to use dashed lines for the data from both cities ('--')."
   ]
  },
  {
   "cell_type": "code",
   "execution_count": null,
   "id": "9830b736",
   "metadata": {},
   "outputs": [],
   "source": [
    "# Plot Seattle data, setting data appearance\n",
    "ax.plot(seattle_weather[\"MONTH\"], seattle_weather[\"MLY-PRCP-NORMAL\"], color = 'b', marker = 'o', linestyle = '--')\n",
    "\n",
    "# Plot Austin data, setting data appearance\n",
    "ax.plot(austin_weather[\"MONTH\"], austin_weather[\"MLY-PRCP-NORMAL\"], color = 'r', marker = 'v', linestyle = '--')\n",
    "\n",
    "# Call show to display the resulting plot\n",
    "plt.show()"
   ]
  },
  {
   "cell_type": "markdown",
   "id": "a70a2ee7",
   "metadata": {},
   "source": [
    "Customizing axis labels and adding titles\n",
    "Customizing the axis labels requires using the set_xlabel and set_ylabel methods of the Axes object. Adding a title uses the set_title method.\n",
    "\n",
    "In this exercise, you will customize the content of the axis labels and add a title to a plot.\n",
    "\n",
    "As before, the data is already provided in pandas DataFrame objects loaded into memory: seattle_weather and austin_weather. These each have a \"MONTH\" column and a \"MLY-PRCP-NORMAL\" column. These data are plotted against each other in the first two lines of the sample code provided.\n",
    "\n",
    "In addition, a Figure object named fig and an Axes object named ax have already been created for you.\n",
    "\n",
    "Instructions\n",
    "\n",
    "Use the set_xlabel method to add the label: \"Time (months)\".\n",
    "Use the set_ylabel method to add the label: \"Precipitation (inches)\".\n",
    "Use the set_title method to add the title: \"Weather patterns in Austin and Seattle\"."
   ]
  },
  {
   "cell_type": "code",
   "execution_count": null,
   "id": "78be6f3b",
   "metadata": {},
   "outputs": [],
   "source": [
    "ax.plot(seattle_weather[\"MONTH\"], seattle_weather[\"MLY-PRCP-NORMAL\"])\n",
    "ax.plot(austin_weather[\"MONTH\"], austin_weather[\"MLY-PRCP-NORMAL\"])\n",
    "\n",
    "# Customize the x-axis label\n",
    "ax.set_xlabel('Time (months)')\n",
    "\n",
    "# Customize the y-axis label\n",
    "ax.set_ylabel('Precipitation (inches)')\n",
    "\n",
    "# Add the title\n",
    "ax.set_title('Weather patterns in Austin and Seattle')\n",
    "\n",
    "# Display the figure\n",
    "plt.show()"
   ]
  },
  {
   "cell_type": "markdown",
   "id": "53c24736",
   "metadata": {},
   "source": [
    "Creating small multiples with plt.subplots\n",
    "Small multiples are used to plot several datasets side-by-side. In Matplotlib, small multiples can be created using the plt.subplots() function. The first argument is the number of rows in the array of Axes objects generate and the second argument is the number of columns. In this exercise, you will use the Austin and Seattle data to practice creating and populating an array of subplots.\n",
    "\n",
    "The data is given to you in DataFrames: seattle_weather and austin_weather. These each have a \"MONTH\" column and \"MLY-PRCP-NORMAL\" (for average precipitation), as well as \"MLY-TAVG-NORMAL\" (for average temperature) columns. In this exercise, you will plot in a separate subplot the monthly average precipitation and average temperatures in each city.\n",
    "\n",
    "Instructions\n",
    "\n",
    "Create a Figure and an array of subplots with 2 rows and 2 columns.\n",
    "Addressing the top left Axes as index 0, 0, plot the Seattle precipitation.\n",
    "In the top right (index 0,1), plot Seattle temperatures.\n",
    "In the bottom left (1, 0) and bottom right (1, 1) plot Austin precipitations and temperatures."
   ]
  },
  {
   "cell_type": "code",
   "execution_count": null,
   "id": "9c9c57e6",
   "metadata": {},
   "outputs": [],
   "source": [
    "# Create a Figure and an array of subplots with 2 rows and 2 columns\n",
    "fig, ax = plt.subplots(2, 2)\n",
    "\n",
    "# Addressing the top left Axes as index 0, 0, plot month and Seattle precipitation\n",
    "ax[0, 0].plot(seattle_weather['MONTH'], seattle_weather['MLY-PRCP-NORMAL'])\n",
    "\n",
    "# In the top right (index 0,1), plot month and Seattle temperatures\n",
    "ax[0, 1].plot(seattle_weather['MONTH'], seattle_weather['MLY-TAVG-NORMAL'])\n",
    "\n",
    "# In the bottom left (1, 0) plot month and Austin precipitations\n",
    "ax[1, 0].plot(austin_weather['MONTH'], austin_weather['MLY-PRCP-NORMAL'])\n",
    "\n",
    "# In the bottom right (1, 1) plot month and Austin temperatures\n",
    "ax[1, 1].plot(austin_weather['MONTH'], austin_weather['MLY-TAVG-NORMAL'])\n",
    "plt.show()"
   ]
  },
  {
   "cell_type": "markdown",
   "id": "ade5f85e",
   "metadata": {},
   "source": [
    "Small multiples with shared y axis\n",
    "When creating small multiples, it is often preferable to make sure that the different plots are displayed with the same scale used on the y-axis. This can be configured by setting the sharey key-word to True.\n",
    "\n",
    "In this exercise, you will create a Figure with two Axes objects that share their y-axis. As before, the data is provided in seattle_weather and austin_weather DataFrames.\n",
    "\n",
    "Instructions\n",
    "100 XP\n",
    "Create a Figure with an array of two Axes objects that share their y-axis range.\n",
    "Plot Seattle's \"MLY-PRCP-NORMAL\" in a solid blue line in the top Axes.\n",
    "Add Seattle's \"MLY-PRCP-25PCTL\" and \"MLY-PRCP-75PCTL\" in dashed blue lines to the top Axes.\n",
    "Plot Austin's \"MLY-PRCP-NORMAL\" in a solid red line in the bottom Axes and the \"MLY-PRCP-25PCTL\" and \"MLY-PRCP-75PCTL\" in dashed red lines."
   ]
  },
  {
   "cell_type": "code",
   "execution_count": null,
   "id": "e6ff994f",
   "metadata": {},
   "outputs": [],
   "source": [
    "# Create a figure and an array of axes: 2 rows, 1 column with shared y axis\n",
    "fig, ax = plt.subplots(2, 1, sharey=True)\n",
    "\n",
    "# Plot Seattle precipitation data in the top axes\n",
    "ax[0].plot(seattle_weather['MONTH'] ,seattle_weather[\"MLY-PRCP-NORMAL\"], color = 'b')\n",
    "ax[0].plot(seattle_weather['MONTH'] ,seattle_weather[\"MLY-PRCP-25PCTL\"], color = 'b', linestyle = '--')\n",
    "ax[0].plot(seattle_weather['MONTH'] ,seattle_weather[\"MLY-PRCP-75PCTL\"], color = 'b', linestyle = '--')\n",
    "\n",
    "# Plot Austin precipitation data in the bottom axes\n",
    "ax[1].plot(austin_weather['MONTH'], austin_weather[\"MLY-PRCP-NORMAL\"], color = 'r')\n",
    "ax[1].plot(austin_weather['MONTH'], austin_weather[\"MLY-PRCP-25PCTL\"], color = 'r', linestyle = '--')\n",
    "ax[1].plot(austin_weather['MONTH'], austin_weather[\"MLY-PRCP-75PCTL\"], color = 'r', linestyle = '--')\n",
    "\n",
    "plt.show()"
   ]
  },
  {
   "cell_type": "markdown",
   "id": "599ce761",
   "metadata": {},
   "source": [
    "Read data with a time index\n",
    "pandas DataFrame objects can have an index that denotes time. This is useful because Matplotlib recognizes that these measurements represent time and labels the values on the axis accordingly.\n",
    "\n",
    "In this exercise, you will read data from a CSV file called climate_change.csv that contains measurements of CO2 levels and temperatures made on the 6th of every month from 1958 until 2016. You will use pandas' read_csv function.\n",
    "\n",
    "To designate the index as a DateTimeIndex, you will use the parse_dates and index_col key-word arguments both to parse this column as a variable that contains dates and also to designate it as the index for this DataFrame.\n",
    "\n",
    "By the way, if you haven't downloaded it already, check out the Matplotlib Cheat Sheet. It includes an overview of the most important concepts, functions and methods and might come in handy if you ever need a quick refresher!\n",
    "\n",
    "Instructions\n",
    "\n",
    "Import the pandas library as pd.\n",
    "Read in the data from a CSV file called 'climate_change.csv' using pd.read_csv.\n",
    "Use the parse_dates key-word argument to parse the \"date\" column as dates.\n",
    "Use the index_col key-word argument to set the \"date\" column as the index."
   ]
  },
  {
   "cell_type": "code",
   "execution_count": null,
   "id": "291bdc09",
   "metadata": {},
   "outputs": [],
   "source": [
    "# Import pandas as pd\n",
    "import pandas as pd\n",
    "\n",
    "# Read the data from file using read_csv\n",
    "climate_change = pd.read_csv('climate_change.csv', parse_dates = ['date'], index_col = 'date')"
   ]
  },
  {
   "cell_type": "markdown",
   "id": "5a954965",
   "metadata": {},
   "source": [
    "Plot time-series data\n",
    "To plot time-series data, we use the Axes object plot command. The first argument to this method are the values for the x-axis and the second argument are the values for the y-axis.\n",
    "\n",
    "This exercise provides data stored in a DataFrame called climate_change. This variable has a time-index with the dates of measurements and two data columns: \"co2\" and \"relative_temp\".\n",
    "\n",
    "In this case, the index of the DataFrame would be used as the x-axis values and we will plot the values stored in the \"relative_temp\" column as the y-axis values. We will also properly label the x-axis and y-axis.\n",
    "\n",
    "Instructions\n",
    "\n",
    "Add the data from climate_change to the plot: use the DataFrame index for the x value and the \"relative_temp\" column for the y values.\n",
    "Set the x-axis label to 'Time'.\n",
    "Set the y-axis label to 'Relative temperature (Celsius)'.\n",
    "Show the figure."
   ]
  },
  {
   "cell_type": "code",
   "execution_count": null,
   "id": "7087e50a",
   "metadata": {},
   "outputs": [],
   "source": [
    "import matplotlib.pyplot as plt\n",
    "fig, ax = plt.subplots()\n",
    "\n",
    "# Add the time-series for \"relative_temp\" to the plot\n",
    "ax.plot(climate_change.index, climate_change['relative_temp'])\n",
    "\n",
    "# Set the x-axis label\n",
    "ax.set_xlabel('Time')\n",
    "\n",
    "# Set the y-axis label\n",
    "ax.set_ylabel('Relative temperature (Celsius)')\n",
    "\n",
    "# Show the figure\n",
    "plt.show()"
   ]
  },
  {
   "cell_type": "markdown",
   "id": "0d7626c7",
   "metadata": {},
   "source": [
    "Using a time index to zoom in\n",
    "When a time-series is represented with a time index, we can use this index for the x-axis when plotting. We can also select a range of dates to zoom in on a particular period within the time-series using pandas' indexing facilities. In this exercise, you will select a portion of a time-series dataset and you will plot that period.\n",
    "\n",
    "The data to use is stored in a DataFrame called climate_change, which has a time-index with dates of measurements and two data columns: \"co2\" and \"relative_temp\".\n",
    "\n",
    "Instructions\n",
    "\n",
    "Use plt.subplots to create a Figure with one Axes called fig and ax, respectively.\n",
    "Create a variable called seventies that includes all the data between \"1970-01-01\" and \"1979-12-31\".\n",
    "Add the data from seventies to the plot: use the DataFrame index for the x value and the \"co2\" column for the y values."
   ]
  },
  {
   "cell_type": "code",
   "execution_count": null,
   "id": "0f967eb1",
   "metadata": {},
   "outputs": [],
   "source": [
    "import matplotlib.pyplot as plt\n",
    "\n",
    "# Use plt.subplots to create fig and ax\n",
    "fig, ax = plt.subplots()\n",
    "\n",
    "# Create variable seventies with data from \"1970-01-01\" to \"1979-12-31\"\n",
    "seventies = climate_change[\"1970-01-01\":\"1979-12-31\"]\n",
    "\n",
    "# Add the time-series for \"co2\" data from seventies to the plot\n",
    "ax.plot(seventies.index, seventies[\"co2\"])\n",
    "\n",
    "# Show the figure\n",
    "plt.show()"
   ]
  },
  {
   "cell_type": "markdown",
   "id": "f992c9ad",
   "metadata": {},
   "source": [
    "Plotting two variables\n",
    "If you want to plot two time-series variables that were recorded at the same times, you can add both of them to the same subplot.\n",
    "\n",
    "If the variables have very different scales, you'll want to make sure that you plot them in different twin Axes objects. These objects can share one axis (for example, the time, or x-axis) while not sharing the other (the y-axis).\n",
    "\n",
    "To create a twin Axes object that shares the x-axis, we use the twinx method.\n",
    "\n",
    "In this exercise, you'll have access to a DataFrame that has the climate_change data loaded into it. This DataFrame was loaded with the \"date\" column set as a DateTimeIndex, and it has a column called \"co2\" with carbon dioxide measurements and a column called \"relative_temp\" with temperature measurements.\n",
    "\n",
    "Instructions\n",
    "\n",
    "Use plt.subplots to create a Figure and Axes objects called fig and ax, respectively.\n",
    "Plot the carbon dioxide variable in blue using the Axes plot method.\n",
    "Use the Axes twinx method to create a twin Axes that shares the x-axis.\n",
    "Plot the relative temperature variable in red on the twin Axes using its plot method."
   ]
  },
  {
   "cell_type": "code",
   "execution_count": null,
   "id": "7340796a",
   "metadata": {},
   "outputs": [],
   "source": [
    "import matplotlib.pyplot as plt\n",
    "\n",
    "# Initalize a Figure and Axes\n",
    "fig, ax = plt.subplots()\n",
    "\n",
    "# Plot the CO2 variable in blue\n",
    "ax.plot(climate_change.index, climate_change['co2'], color='b')\n",
    "\n",
    "# Create a twin Axes that shares the x-axis\n",
    "ax2 = ax.twinx()\n",
    "\n",
    "# Plot the relative temperature in red\n",
    "ax2.plot(climate_change.index, climate_change['relative_temp'], color='r')\n",
    "\n",
    "plt.show()"
   ]
  },
  {
   "cell_type": "markdown",
   "id": "8538a05b",
   "metadata": {},
   "source": [
    "Defining a function that plots time-series data\n",
    "Once you realize that a particular section of code that you have written is useful, it is a good idea to define a function that saves that section of code for you, rather than copying it to other parts of your program where you would like to use this code.\n",
    "\n",
    "Here, we will define a function that takes inputs such as a time variable and some other variable and plots them as x and y inputs. Then, it sets the labels on the x- and y-axis and sets the colors of the y-axis label, the y-axis ticks and the tick labels.\n",
    "\n",
    "Instructions\n",
    "\n",
    "Define a function called plot_timeseries that takes as input an Axes object (axes), data (x,y), a string with the name of a color and strings for x- and y-axis labels.\n",
    "Plot y as a function of in the color provided as the input color.\n",
    "Set the x- and y-axis labels using the provided input xlabel and ylabel, setting the y-axis label color using color.\n",
    "Set the y-axis tick parameters using the tick_params method of the Axes object, setting the colors key-word to color."
   ]
  },
  {
   "cell_type": "code",
   "execution_count": null,
   "id": "8d453ffb",
   "metadata": {},
   "outputs": [],
   "source": [
    "# Define a function called plot_timeseries\n",
    "def plot_timeseries(axes, x, y, color, xlabel, ylabel):\n",
    "\n",
    "  # Plot the inputs x,y in the provided color\n",
    "  axes.plot(x, y, color=color)\n",
    "\n",
    "  # Set the x-axis label\n",
    "  axes.set_xlabel(xlabel)\n",
    "\n",
    "  # Set the y-axis label\n",
    "  axes.set_ylabel(ylabel, color=color)\n",
    "\n",
    "  # Set the colors tick params for y-axis\n",
    "  axes.tick_params('y', colors=color)"
   ]
  },
  {
   "cell_type": "markdown",
   "id": "59948e3c",
   "metadata": {},
   "source": [
    "Using a plotting function\n",
    "Defining functions allows us to reuse the same code without having to repeat all of it. Programmers sometimes say \"Don't repeat yourself\".\n",
    "\n",
    "In the previous exercise, you defined a function called plot_timeseries:\n",
    "\n",
    "plot_timeseries(axes, x, y, color, xlabel, ylabel)\n",
    "that takes an Axes object (as the argument axes), time-series data (as x and y arguments) the name of a color (as a string, provided as the color argument) and x-axis and y-axis labels (as xlabel and ylabel arguments). In this exercise, the function plot_timeseries is already defined and provided to you.\n",
    "\n",
    "Use this function to plot the climate_change time-series data, provided as a pandas DataFrame object that has a DateTimeIndex with the dates of the measurements and co2 and relative_temp columns.\n",
    "\n",
    "Instructions\n",
    "\n",
    "In the provided ax object, use the function plot_timeseries to plot the \"co2\" column in blue, with the x-axis label \"Time (years)\" and y-axis label \"CO2 levels\".\n",
    "Use the ax.twinx method to add an Axes object to the figure that shares the x-axis with ax.\n",
    "Use the function plot_timeseries to add the data in the \"relative_temp\" column in red to the twin Axes object, with the x-axis label \"Time (years)\" and y-axis label \"Relative temperature (Celsius)\"."
   ]
  },
  {
   "cell_type": "code",
   "execution_count": null,
   "id": "ea08c2cc",
   "metadata": {},
   "outputs": [],
   "source": [
    "fig, ax = plt.subplots()\n",
    "\n",
    "# Plot the CO2 levels time-series in blue\n",
    "plot_timeseries(ax, climate_change.index, climate_change['co2'], \"blue\", 'Time (years)', 'CO2 levels')\n",
    "\n",
    "# Create a twin Axes object that shares the x-axis\n",
    "ax2 = ax.twinx()\n",
    "\n",
    "# Plot the relative temperature data in red\n",
    "plot_timeseries(ax, climate_change.index, climate_change['relative_temp'], \"red\", 'Time (years)', 'Relative temperature (Celsius)')\n",
    "\n",
    "plt.show()"
   ]
  },
  {
   "cell_type": "markdown",
   "id": "e5714655",
   "metadata": {},
   "source": [
    "Annotating a plot of time-series data\n",
    "Annotating a plot allows us to highlight interesting information in the plot. For example, in describing the climate change dataset, we might want to point to the date at which the relative temperature first exceeded 1 degree Celsius.\n",
    "\n",
    "For this, we will use the annotate method of the Axes object. In this exercise, you will have the DataFrame called climate_change loaded into memory. Using the Axes methods, plot only the relative temperature column as a function of dates, and annotate the data.\n",
    "\n",
    "Instructions\n",
    "\n",
    "Use the ax.plot method to plot the DataFrame index against the relative_temp column.\n",
    "Use the annotate method to add the text '>1 degree' in the location (pd.Timestamp('2015-10-06'), 1)."
   ]
  },
  {
   "cell_type": "code",
   "execution_count": null,
   "id": "b7c05f35",
   "metadata": {},
   "outputs": [],
   "source": [
    "fig, ax = plt.subplots()\n",
    "\n",
    "# Plot the relative temperature data\n",
    "ax.plot(climate_change.index, climate_change['relative_temp'])\n",
    "\n",
    "# Annotate the date at which temperatures exceeded 1 degree\n",
    "ax.annotate('>1 degree', xy = [pd.Timestamp('2015-10-06'), 1])\n",
    "\n",
    "plt.show()"
   ]
  },
  {
   "cell_type": "markdown",
   "id": "1b9e38bb",
   "metadata": {},
   "source": [
    "Plotting time-series: putting it all together\n",
    "In this exercise, you will plot two time-series with different scales on the same Axes, and annotate the data from one of these series.\n",
    "\n",
    "The CO2/temperatures data is provided as a DataFrame called climate_change. You should also use the function that we have defined before, called plot_timeseries, which takes an Axes object (as the axes argument) plots a time-series (provided as x and y arguments), sets the labels for the x-axis and y-axis and sets the color for the data, and for the y tick/axis labels:\n",
    "\n",
    "plot_timeseries(axes, x, y, color, xlabel, ylabel)\n",
    "Then, you will annotate with text an important time-point in the data: on 2015-10-06, when the temperature first rose to above 1 degree over the average.\n",
    "\n",
    "Instructions\n",
    "\n",
    "Use the plot_timeseries function to plot CO2 levels against time. Set xlabel to \"Time (years)\" ylabel to \"CO2 levels\" and color to 'blue'.\n",
    "Create ax2, as a twin of the first Axes.\n",
    "In ax2, plot temperature against time, setting the color ylabel to \"Relative temp (Celsius)\" and color to 'red'.\n",
    "Annotate the data using the ax2.annotate method. Place the text \">1 degree\" in x=pd.Timestamp('2008-10-06'), y=-0.2 pointing with a gray thin arrow to x=pd.Timestamp('2015-10-06'), y = 1."
   ]
  },
  {
   "cell_type": "code",
   "execution_count": null,
   "id": "b87f1843",
   "metadata": {},
   "outputs": [],
   "source": [
    "fig, ax = plt.subplots()\n",
    "\n",
    "# Plot the CO2 levels time-series in blue\n",
    "plot_timeseries(ax, climate_change.index, climate_change['co2'], 'blue', 'Time (years)', 'CO2 levels')\n",
    "\n",
    "# Create an Axes object that shares the x-axis\n",
    "ax2 = ax.twinx()\n",
    "\n",
    "# Plot the relative temperature data in red\n",
    "plot_timeseries(ax2, climate_change.index, climate_change['relative_temp'], 'red', 'Time (years)', 'Relative temp (Celsius)')\n",
    "\n",
    "# Annotate point with relative temperature >1 degree\n",
    "ax2.annotate(\">1 degree\", xy=(pd.Timestamp('2015-10-06'), 1), xytext = (pd.Timestamp('2008-10-06'), -0.2), arrowprops={'arrowstyle':'->', 'color':'gray'})\n",
    "\n",
    "plt.show()"
   ]
  },
  {
   "cell_type": "markdown",
   "id": "bd976ed3",
   "metadata": {},
   "source": [
    "Bar chart\n",
    "Bar charts visualize data that is organized according to categories as a series of bars, where the height of each bar represents the values of the data in this category.\n",
    "\n",
    "For example, in this exercise, you will visualize the number of gold medals won by each country in the provided medals DataFrame. The DataFrame contains the countries as the index, and a column called \"Gold\" that contains the number of gold medals won by each country, according to their rows.\n",
    "\n",
    "Instructions\n",
    "\n",
    "Call the ax.bar method to plot the \"Gold\" column as a function of the country.\n",
    "Use the ax.set_xticklabels to set the x-axis tick labels to be the country names.\n",
    "In the call to ax.set_xticklabels rotate the x-axis tick labels by 90 degrees by using the rotation key-word argument.\n",
    "Set the y-axis label to \"Number of medals\"."
   ]
  },
  {
   "cell_type": "code",
   "execution_count": null,
   "id": "052123af",
   "metadata": {},
   "outputs": [],
   "source": [
    "fig, ax = plt.subplots()\n",
    "\n",
    "# Plot a bar-chart of gold medals as a function of country\n",
    "ax.bar(medals.index, medals['Gold'])\n",
    "\n",
    "# Set the x-axis tick labels to the country names\n",
    "ax.set_xticklabels(medals.index, rotation = 90)\n",
    "\n",
    "# Set the y-axis label\n",
    "ax.set_ylabel('Number of medals')\n",
    "\n",
    "plt.show()"
   ]
  },
  {
   "cell_type": "markdown",
   "id": "c358f999",
   "metadata": {},
   "source": [
    "Stacked bar chart\n",
    "A stacked bar chart contains bars, where the height of each bar represents values. In addition, stacked on top of the first variable may be another variable. The additional height of this bar represents the value of this variable. And you can add more bars on top of that.\n",
    "\n",
    "In this exercise, you will have access to a DataFrame called medals that contains an index that holds the names of different countries, and three columns: \"Gold\", \"Silver\" and \"Bronze\". You will also have a Figure, fig, and Axes, ax, that you can add data to.\n",
    "\n",
    "You will create a stacked bar chart that shows the number of gold, silver, and bronze medals won by each country, and you will add labels and create a legend that indicates which bars represent which medals.\n",
    "\n",
    "Instructions\n",
    "\n",
    "Call the ax.bar method to add the \"Gold\" medals. Call it with the label set to \"Gold\".\n",
    "Call the ax.bar method to stack \"Silver\" bars on top of that, using the bottom key-word argument so the bottom of the bars will be on top of the gold medal bars, and label to add the label \"Silver\".\n",
    "Use ax.bar to add \"Bronze\" bars on top of that, using the bottom key-word and label it as \"Bronze\"."
   ]
  },
  {
   "cell_type": "code",
   "execution_count": null,
   "id": "878405a0",
   "metadata": {},
   "outputs": [],
   "source": [
    "# Add bars for \"Gold\" with the label \"Gold\"\n",
    "ax.bar(medals.index, medals['Gold'], label='Gold', color = '#FFD700')\n",
    "\n",
    "# Stack bars for \"Silver\" on top with label \"Silver\"\n",
    "ax.bar(medals.index, medals['Silver'], bottom=medals['Gold'], label = 'Silver', color = '#C0C0C0')\n",
    "\n",
    "# Stack bars for \"Bronze\" on top of that with label \"Bronze\"\n",
    "ax.bar(medals.index, medals['Bronze'], bottom = medals['Gold']+medals['Silver'], label='Bronze', color = '#CD7F32' )\n",
    "\n",
    "# Display the legend\n",
    "ax.legend()\n",
    "\n",
    "plt.show()"
   ]
  },
  {
   "cell_type": "markdown",
   "id": "85a717eb",
   "metadata": {},
   "source": [
    "Creating histograms\n",
    "Histograms show the full distribution of a variable. In this exercise, we will display the distribution of weights of medalists in gymnastics and in rowing in the 2016 Olympic games for a comparison between them.\n",
    "\n",
    "You will have two DataFrames to use. The first is called mens_rowing and includes information about the medalists in the men's rowing events. The other is called mens_gymnastics and includes information about medalists in all of the Gymnastics events.\n",
    "\n",
    "Instructions\n",
    "\n",
    "Use the ax.hist method to add a histogram of the \"Weight\" column from the mens_rowing DataFrame.\n",
    "Use ax.hist to add a histogram of \"Weight\" for the mens_gymnastics DataFrame.\n",
    "Set the x-axis label to \"Weight (kg)\" and the y-axis label to \"# of observations\"."
   ]
  },
  {
   "cell_type": "code",
   "execution_count": null,
   "id": "2497ec76",
   "metadata": {},
   "outputs": [],
   "source": [
    "fig, ax = plt.subplots()\n",
    "# Plot a histogram of \"Weight\" for mens_rowing\n",
    "ax.hist(mens_rowing['Weight'])\n",
    "\n",
    "# Compare to histogram of \"Weight\" for mens_gymnastics\n",
    "ax.hist(mens_gymnastics['Weight'])\n",
    "\n",
    "# Set the x-axis label to \"Weight (kg)\"\n",
    "ax.set_xlabel('Weight (kg)')\n",
    "\n",
    "# Set the y-axis label to \"# of observations\"\n",
    "ax.set_ylabel('# of observations')\n",
    "\n",
    "plt.show()"
   ]
  },
  {
   "cell_type": "markdown",
   "id": "b3a40a26",
   "metadata": {},
   "source": [
    "\"Step\" histogram\n",
    "Histograms allow us to see the distributions of the data in different groups in our data. In this exercise, you will select groups from the Summer 2016 Olympic Games medalist dataset to compare the height of medalist athletes in two different sports.\n",
    "\n",
    "The data is stored in a pandas DataFrame object called summer_2016_medals that has a column \"Height\". In addition, you are provided a pandas GroupBy object that has been grouped by the sport.\n",
    "\n",
    "In this exercise, you will visualize and label the histograms of two sports: \"Gymnastics\" and \"Rowing\" and see the marked difference between medalists in these two sports.\n",
    "\n",
    "Instructions\n",
    "\n",
    "Use the hist method to display a histogram of the \"Weight\" column from the mens_rowing DataFrame, label this as \"Rowing\".\n",
    "Use hist to display a histogram of the \"Weight\" column from the mens_gymnastics DataFrame, and label this as \"Gymnastics\".\n",
    "For both histograms, use the histtype argument to visualize the data using the 'step' type and set the number of bins to use to 5.\n",
    "Add a legend to the figure, before it is displayed."
   ]
  },
  {
   "cell_type": "code",
   "execution_count": null,
   "id": "e60dff58",
   "metadata": {},
   "outputs": [],
   "source": [
    "fig, ax = plt.subplots()\n",
    "\n",
    "# Plot a histogram of \"Weight\" for mens_rowing\n",
    "ax.hist(mens_rowing['Weight'], label = 'Rowing', histtype = 'step', bins=5)\n",
    "\n",
    "# Compare to histogram of \"Weight\" for mens_gymnastics\n",
    "ax.hist(mens_gymnastics['Weight'], label = 'Gymnastics', histtype = 'step', bins = 5)\n",
    "\n",
    "ax.set_xlabel(\"Weight (kg)\")\n",
    "ax.set_ylabel(\"# of observations\")\n",
    "\n",
    "# Add the legend and show the Figure\n",
    "ax.legend()\n",
    "plt.show()"
   ]
  },
  {
   "cell_type": "markdown",
   "id": "d92fd65c",
   "metadata": {},
   "source": [
    "Adding error-bars to a bar chart\n",
    "Statistical plotting techniques add quantitative information for comparisons into the visualization. For example, in this exercise, we will add error bars that quantify not only the difference in the means of the height of medalists in the 2016 Olympic Games, but also the standard deviation of each of these groups, as a way to assess whether the difference is substantial relative to the variability within each group.\n",
    "\n",
    "For the purpose of this exercise, you will have two DataFrames: mens_rowing holds data about the medalists in the rowing events and mens_gymnastics will hold information about the medalists in the gymnastics events.\n",
    "\n",
    "Instructions\n",
    "\n",
    "Add a bar with size equal to the mean of the \"Height\" column in the mens_rowing DataFrame and an error-bar of its standard deviation.\n",
    "Add another bar for the mean of the \"Height\" column in mens_gymnastics with an error-bar of its standard deviation.\n",
    "Add a label to the the y-axis: \"Height (cm)\"."
   ]
  },
  {
   "cell_type": "code",
   "execution_count": null,
   "id": "2549a587",
   "metadata": {},
   "outputs": [],
   "source": [
    "fig, ax = plt.subplots()\n",
    "\n",
    "# Add a bar for the rowing \"Height\" column mean/std\n",
    "ax.bar(\"Rowing\", mens_rowing['Height'].mean(), yerr=mens_rowing['Height'].std())\n",
    "\n",
    "# Add a bar for the gymnastics \"Height\" column mean/std\n",
    "ax.bar(\"Gymnastics\", mens_gymnastics['Height'].mean(), yerr=mens_gymnastics['Height'].std())\n",
    "\n",
    "# Label the y-axis\n",
    "ax.set_ylabel('Height (cm)')\n",
    "\n",
    "plt.show()"
   ]
  },
  {
   "cell_type": "markdown",
   "id": "fbfddd3f",
   "metadata": {},
   "source": [
    "Adding error-bars to a plot\n",
    "Adding error-bars to a plot is done by using the errorbar method of the Axes object.\n",
    "\n",
    "Here, you have two DataFrames loaded: seattle_weather has data about the weather in Seattle and austin_weather has data about the weather in Austin. Each DataFrame has a column \"MONTH\" that has the names of the months, a column \"MLY-TAVG-NORMAL\" that has the average temperature in each month and a column \"MLY-TAVG-STDDEV\" that has the standard deviation of the temperatures across years.\n",
    "\n",
    "In the exercise, you will plot the mean temperature across months and add the standard deviation at each point as y errorbars.\n",
    "\n",
    "Instructions\n",
    "\n",
    "Use the ax.errorbar method to add the Seattle data: the \"MONTH\" column as x values, the \"MLY-TAVG-NORMAL\" as y values and \"MLY-TAVG-STDDEV\" as yerr values.\n",
    "Add the Austin data: the \"MONTH\" column as x values, the \"MLY-TAVG-NORMAL\" as y values and \"MLY-TAVG-STDDEV\" as yerr values.\n",
    "Set the y-axis label as \"Temperature (Fahrenheit)\"."
   ]
  },
  {
   "cell_type": "code",
   "execution_count": null,
   "id": "f044664d",
   "metadata": {},
   "outputs": [],
   "source": [
    "fig, ax = plt.subplots()\n",
    "\n",
    "# Add Seattle temperature data in each month with error bars\n",
    "ax.errorbar(seattle_weather['MONTH'], seattle_weather['MLY-TAVG-NORMAL'], yerr = seattle_weather['MLY-TAVG-STDDEV'])\n",
    "\n",
    "# Add Austin temperature data in each month with error bars\n",
    "ax.errorbar(austin_weather['MONTH'], austin_weather['MLY-TAVG-NORMAL'], yerr = austin_weather['MLY-TAVG-STDDEV'])\n",
    "\n",
    "# Set the y-axis label\n",
    "ax.set_ylabel('Temperature (Fahrenheit)')\n",
    "\n",
    "plt.show()"
   ]
  },
  {
   "cell_type": "markdown",
   "id": "f773c6fe",
   "metadata": {},
   "source": [
    "Creating boxplots\n",
    "Boxplots provide additional information about the distribution of the data that they represent. They tell us what the median of the distribution is, what the inter-quartile range is and also what the expected range of approximately 99% of the data should be. Outliers beyond this range are particularly highlighted.\n",
    "\n",
    "In this exercise, you will use the data about medalist heights that you previously visualized as histograms, and as bar charts with error bars, and you will visualize it as boxplots.\n",
    "\n",
    "Again, you will have the mens_rowing and mens_gymnastics DataFrames available to you, and both of these DataFrames have columns called \"Height\" that you will compare.\n",
    "\n",
    "Instructions\n",
    "\n",
    "Create a boxplot that contains the \"Height\" column for mens_rowing on the left and mens_gymnastics on the right.\n",
    "Add x-axis tick labels: \"Rowing\" and \"Gymnastics\".\n",
    "Add a y-axis label: \"Height (cm)\"."
   ]
  },
  {
   "cell_type": "code",
   "execution_count": null,
   "id": "0580c2cb",
   "metadata": {},
   "outputs": [],
   "source": [
    "fig, ax = plt.subplots()\n",
    "\n",
    "# Add a boxplot for the \"Height\" column in the DataFrames\n",
    "ax.boxplot([mens_rowing['Height'], mens_gymnastics['Height']])\n",
    "\n",
    "# Add x-axis tick labels:\n",
    "ax.set_xticklabels(['Rowing', 'Gymnastics'])\n",
    "\n",
    "# Add a y-axis label\n",
    "ax.set_ylabel('Height (cm)')\n",
    "\n",
    "plt.show()"
   ]
  },
  {
   "cell_type": "markdown",
   "id": "873ec7a3",
   "metadata": {},
   "source": [
    "Simple scatter plot\n",
    "Scatter are a bi-variate visualization technique. They plot each record in the data as a point. The location of each point is determined by the value of two variables: the first variable determines the distance along the x-axis and the second variable determines the height along the y-axis.\n",
    "\n",
    "In this exercise, you will create a scatter plot of the climate_change data. This DataFrame, which is already loaded, has a column \"co2\" that indicates the measurements of carbon dioxide every month and another column, \"relative_temp\" that indicates the temperature measured at the same time.\n",
    "\n",
    "Instructions\n",
    "\n",
    "Using the ax.scatter method, add the data to the plot: \"co2\" on the x-axis and \"relative_temp\" on the y-axis.\n",
    "Set the x-axis label to \"CO2 (ppm)\".\n",
    "Set the y-axis label to \"Relative temperature (C)\"."
   ]
  },
  {
   "cell_type": "code",
   "execution_count": null,
   "id": "53303845",
   "metadata": {},
   "outputs": [],
   "source": [
    "fig, ax = plt.subplots()\n",
    "\n",
    "# Add data: \"co2\" on x-axis, \"relative_temp\" on y-axis\n",
    "ax.scatter(climate_change['co2'], climate_change['relative_temp'])\n",
    "\n",
    "# Set the x-axis label to \"CO2 (ppm)\"\n",
    "ax.set_xlabel('CO2 (ppm)')\n",
    "\n",
    "# Set the y-axis label to \"Relative temperature (C)\"\n",
    "ax.set_ylabel('Relative temperature (C)')\n",
    "\n",
    "plt.show()"
   ]
  },
  {
   "cell_type": "markdown",
   "id": "0ec15c15",
   "metadata": {},
   "source": [
    "Encoding time by color\n",
    "The screen only has two dimensions, but we can encode another dimension in the scatter plot using color. Here, we will visualize the climate_change dataset, plotting a scatter plot of the \"co2\" column, on the x-axis, against the \"relative_temp\" column, on the y-axis. We will encode time using the color dimension, with earlier times appearing as darker shades of blue and later times appearing as brighter shades of yellow.\n",
    "\n",
    "Instructions\n",
    "\n",
    "Using the ax.scatter method add a scatter plot of the \"co2\" column (x-axis) against the \"relative_temp\" column.\n",
    "Use the c key-word argument to pass in the index of the DataFrame as input to color each point according to its date.\n",
    "Set the x-axis label to \"CO2 (ppm)\" and the y-axis label to \"Relative temperature (C)\"."
   ]
  },
  {
   "cell_type": "code",
   "execution_count": null,
   "id": "45064f02",
   "metadata": {},
   "outputs": [],
   "source": [
    "fig, ax = plt.subplots()\n",
    "\n",
    "# Add data: \"co2\", \"relative_temp\" as x-y, index as color\n",
    "ax.scatter(climate_change['co2'], climate_change['relative_temp'], c = climate_change.index)\n",
    "\n",
    "# Set the x-axis label to \"CO2 (ppm)\"\n",
    "ax.set_xlabel('CO2 (ppm)')\n",
    "\n",
    "# Set the y-axis label to \"Relative temperature (C)\"\n",
    "ax.set_ylabel('Relative temperature (C)')\n",
    "\n",
    "plt.show()"
   ]
  },
  {
   "cell_type": "markdown",
   "id": "81d0d444",
   "metadata": {},
   "source": [
    "Switching between styles\n",
    "Selecting a style to use affects all of the visualizations that are created after this style is selected.\n",
    "\n",
    "Here, you will practice plotting data in two different styles. The data you will use is the same weather data we used in the first lesson: you will have available to you the DataFrame seattle_weather and the DataFrame austin_weather, both with records of the average temperature in every month.\n",
    "\n",
    "Instructions\n",
    "\n",
    "Select the 'ggplot' style, create a new Figure called fig, and a new Axes object called ax with plt.subplots.\n",
    "Select the 'Solarize_Light2' style, create a new Figure called fig, and a new Axes object called ax with plt.subplots."
   ]
  },
  {
   "cell_type": "code",
   "execution_count": null,
   "id": "de70e389",
   "metadata": {},
   "outputs": [],
   "source": [
    "# Use the \"ggplot\" style and create new Figure/Axes\n",
    "plt.style.use('ggplot')\n",
    "fig, ax = plt.subplots()\n",
    "\n",
    "ax.plot(seattle_weather[\"MONTH\"], seattle_weather[\"MLY-TAVG-NORMAL\"])\n",
    "plt.show()\n",
    "\n",
    "# Use the \"Solarize_Light2\" style and create new Figure/Axes\n",
    "plt.style.use('Solarize_Light2')\n",
    "fig, ax = plt.subplots()\n",
    "ax.plot(austin_weather[\"MONTH\"], austin_weather[\"MLY-TAVG-NORMAL\"])\n",
    "plt.show()"
   ]
  },
  {
   "cell_type": "markdown",
   "id": "0b38fa44",
   "metadata": {},
   "source": [
    "Saving a file several times\n",
    "If you want to share your visualizations with others, you will need to save them into files. Matplotlib provides as way to do that, through the savefig method of the Figure object. In this exercise, you will save a figure several times. Each time setting the parameters to something slightly different. We have provided and already created Figure object.\n",
    "\n",
    "Instructions\n",
    "\n",
    "Examine the figure by calling the plt.show() function.\n",
    "Save the figure into the file my_figure.png, using the default resolution.\n",
    "Save the figure into the file my_figure_300dpi.png and set the resolution to 300 dpi."
   ]
  },
  {
   "cell_type": "code",
   "execution_count": null,
   "id": "229baed4",
   "metadata": {},
   "outputs": [],
   "source": [
    "# Show the figure\n",
    "plt.show()\n",
    "\n",
    "# Save as a PNG file\n",
    "fig.savefig('my_figure.png')\n",
    "\n",
    "# Save as a PNG file with 300 dpi\n",
    "fig.savefig('my_figure_300dpi.png', dpi = 300)"
   ]
  },
  {
   "cell_type": "markdown",
   "id": "adfdf118",
   "metadata": {},
   "source": [
    "Save a figure with different sizes\n",
    "Before saving your visualization, you might want to also set the size that the figure will have on the page. To do so, you can use the Figure object's set_size_inches method. This method takes a sequence of two values. The first sets the width and the second sets the height of the figure.\n",
    "\n",
    "Here, you will again have a Figure object called fig already provided (you can run plt.show if you want to see its contents). Use the Figure methods set_size_inches and savefig to change its size and save two different versions of this figure.\n",
    "\n",
    "Instructions\n",
    "\n",
    "Set the figure size as width of 3 inches and height of 5 inches and save it as 'figure_3_5.png' with default resolution.\n",
    "Set the figure size to width of 5 inches and height of 3 inches and save it as 'figure_5_3.png' with default settings."
   ]
  },
  {
   "cell_type": "code",
   "execution_count": null,
   "id": "7a200731",
   "metadata": {},
   "outputs": [],
   "source": [
    "# Set figure dimensions and save as a PNG\n",
    "fig.set_size_inches([3,5])\n",
    "fig.savefig('figure_3_5.png')\n",
    "\n",
    "# Set figure dimensions and save as a PNG\n",
    "fig.set_size_inches([5,3])\n",
    "fig.savefig('figure_5_3.png')"
   ]
  },
  {
   "cell_type": "markdown",
   "id": "ff6f367e",
   "metadata": {},
   "source": [
    "Unique values of a column\n",
    "One of the main strengths of Matplotlib is that it can be automated to adapt to the data that it receives as input. For example, if you receive data that has an unknown number of categories, you can still create a bar plot that has bars for each category.\n",
    "\n",
    "In this exercise and the next, you will be visualizing the weight of athletes in the 2016 summer Olympic Games again, from a dataset that has some unknown number of branches of sports in it. This will be loaded into memory as a pandas DataFrame object called summer_2016_medals, which has a column called \"Sport\" that tells you to which branch of sport each row corresponds. There is also a \"Weight\" column that tells you the weight of each athlete.\n",
    "\n",
    "In this exercise, we will extract the unique values of the \"Sport\" column\n",
    "\n",
    "Instructions\n",
    "\n",
    "Create a variable called sports_column that holds the data from the \"Sport\" column of the DataFrame object.\n",
    "Use the unique method of this variable to find all the unique different sports that are present in this data, and assign these values into a new variable called sports.\n",
    "Print the sports variable to the console."
   ]
  },
  {
   "cell_type": "code",
   "execution_count": null,
   "id": "f37cc8b2",
   "metadata": {},
   "outputs": [],
   "source": [
    "# Extract the \"Sport\" column\n",
    "sports_column = summer_2016_medals['Sport']\n",
    "\n",
    "# Find the unique values of the \"Sport\" column\n",
    "sports = summer_2016_medals['Sport'].unique()\n",
    "\n",
    "# Print out the unique sports values\n",
    "print(sports)"
   ]
  },
  {
   "cell_type": "markdown",
   "id": "a6cec6ce",
   "metadata": {},
   "source": [
    "Automate your visualization\n",
    "One of the main strengths of Matplotlib is that it can be automated to adapt to the data that it receives as input. For example, if you receive data that has an unknown number of categories, you can still create a bar plot that has bars for each category.\n",
    "\n",
    "This is what you will do in this exercise. You will be visualizing data about medal winners in the 2016 summer Olympic Games again, but this time you will have a dataset that has some unknown number of branches of sports in it. This will be loaded into memory as a pandas DataFrame object called summer_2016_medals, which has a column called \"Sport\" that tells you to which branch of sport each row corresponds. There is also a \"Weight\" column that tells you the weight of each athlete.\n",
    "\n",
    "Instructions\n",
    "\n",
    "Iterate over the values of sports setting sport as your loop variable.\n",
    "In each iteration, extract the rows where the \"Sport\" column is equal to sport.\n",
    "Add a bar to the provided ax object, labeled with the sport name, with the mean of the \"Weight\" column as its height, and the standard deviation as a y-axis error bar.\n",
    "Save the figure into the file \"sports_weights.png\"."
   ]
  },
  {
   "cell_type": "code",
   "execution_count": null,
   "id": "55c1890d",
   "metadata": {},
   "outputs": [],
   "source": [
    "fig, ax = plt.subplots()\n",
    "\n",
    "# Loop over the different sports branches\n",
    "for sport in sports:\n",
    "  # Extract the rows only for this sport\n",
    "  sport_df = summer_2016_medals[summer_2016_medals['Sport']==sport]\n",
    "  # Add a bar for the \"Weight\" mean with std y error bar\n",
    "  ax.bar(sport, sport_df['Weight'].mean(), yerr = sport_df['Weight'].std())\n",
    "\n",
    "ax.set_ylabel(\"Weight\")\n",
    "ax.set_xticklabels(sports, rotation=90)\n",
    "\n",
    "# Save the figure to file\n",
    "fig.savefig('sports_weights.png')"
   ]
  }
 ],
 "metadata": {
  "kernelspec": {
   "display_name": "Python 3 (ipykernel)",
   "language": "python",
   "name": "python3"
  },
  "language_info": {
   "codemirror_mode": {
    "name": "ipython",
    "version": 3
   },
   "file_extension": ".py",
   "mimetype": "text/x-python",
   "name": "python",
   "nbconvert_exporter": "python",
   "pygments_lexer": "ipython3",
   "version": "3.9.12"
  }
 },
 "nbformat": 4,
 "nbformat_minor": 5
}
