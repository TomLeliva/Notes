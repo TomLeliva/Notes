{
 "cells": [
  {
   "cell_type": "markdown",
   "id": "81b29171",
   "metadata": {},
   "source": [
    "Your first NumPy array\n",
    "Once you're comfortable with NumPy, you'll find yourself converting Python lists into NumPy arrays all the time for increased speed and access to NumPy's excellent array methods.\n",
    "\n",
    "sudoku_list is a Python list containing a sudoku game:\n",
    "\n",
    "[[0, 0, 4, 3, 0, 0, 2, 0, 9],\n",
    " [0, 0, 5, 0, 0, 9, 0, 0, 1],\n",
    " [0, 7, 0, 0, 6, 0, 0, 4, 3],\n",
    " [0, 0, 6, 0, 0, 2, 0, 8, 7],\n",
    " [1, 9, 0, 0, 0, 7, 4, 0, 0],\n",
    " [0, 5, 0, 0, 8, 3, 0, 0, 0],\n",
    " [6, 0, 0, 0, 0, 0, 1, 0, 5],\n",
    " [0, 0, 3, 5, 0, 8, 6, 9, 0],\n",
    " [0, 4, 2, 9, 1, 0, 3, 0, 0]]\n",
    "You're going to change sudoku_list into a NumPy array so you can practice with it in later lessons, for example by creating a 4D array of sudoku games along with their solutions!\n",
    "\n",
    "Instructions\n",
    "100 XP\n",
    "Import NumPy using its generally accepted alias.\n",
    "Convert sudoku_list into a NumPy array called sudoku_array.\n",
    "Print the class type() of sudoku_array to check that your code has worked properly."
   ]
  },
  {
   "cell_type": "code",
   "execution_count": null,
   "id": "6a487f88",
   "metadata": {},
   "outputs": [],
   "source": [
    "# Import NumPy\n",
    "import numpy as np\n",
    "\n",
    "# Convert sudoku_list into an array\n",
    "sudoku_array = np.array(sudoku_list)\n",
    "\n",
    "# Print the type of sudoku_array \n",
    "print(type(sudoku_array))"
   ]
  },
  {
   "cell_type": "markdown",
   "id": "f6c0f5b4",
   "metadata": {},
   "source": [
    "Creating arrays from scratch\n",
    "It can be helpful to know how to create quick NumPy arrays from scratch in order to test your code. For example, when you are doing math with large multi-dimensional arrays, it's nice to check whether the math works as expected on small test arrays before applying your code to the larger arrays. NumPy has many options for creating smaller synthetic arrays.\n",
    "\n",
    "With this in mind, it's time for you to create some arrays from scratch! numpy is imported for you as np.\n",
    "Create and print an array filled with zeros called zero_array, which has two rows and four columns.\n",
    "Create and print an array of random floats between 0 and 1 called random_array, which has three rows and six columns."
   ]
  },
  {
   "cell_type": "code",
   "execution_count": null,
   "id": "db4b2833",
   "metadata": {},
   "outputs": [],
   "source": [
    "# Create an array of zeros which has four columns and two rows\n",
    "zero_array = np.zeros((2,4))\n",
    "print(zero_array)\n",
    "\n",
    "# Create an array of random floats which has six columns and three rows\n",
    "random_array = np.random.random((3,6))\n",
    "print(random_array)"
   ]
  },
  {
   "cell_type": "markdown",
   "id": "b20e0415",
   "metadata": {},
   "source": [
    "A range array\n",
    "np.arange() has especially useful applications in graphing. Your task is to create a scatter plot with the values from doubling_array on the y-axis.\n",
    "\n",
    "doubling_array = [1, 2, 4, 8, 16, 32, 64, 128, 256, 512]\n",
    "Recall that a scatter plot can be created using the following code:\n",
    "\n",
    "plt.scatter(x_values, y_values)\n",
    "plt.show()\n",
    "With doubling_array on the y-axis, you now need values for the x-axis, which you can create with np.arange()!\n",
    "\n",
    "numpy is loaded for you as np, and matplotlib.pyplot is imported as plt.\n",
    "\n",
    "Instructions\n",
    "100 XP\n",
    "Using np.arange(), create a 1D array called one_to_ten which holds all integers from one to ten (inclusive).\n",
    "Create a scatterplot with doubling_array as the y values and one_to_ten as the x values."
   ]
  },
  {
   "cell_type": "code",
   "execution_count": null,
   "id": "8740b453",
   "metadata": {},
   "outputs": [],
   "source": [
    "# Create an array of integers from one to ten\n",
    "one_to_ten = np.arange(1,11)\n",
    "\n",
    "# Create your scatterplot\n",
    "plt.scatter(one_to_ten, doubling_array)\n",
    "plt.show()"
   ]
  },
  {
   "cell_type": "markdown",
   "id": "554f7e22",
   "metadata": {},
   "source": [
    "3D array creation\n",
    "In the first lesson, you created a sudoku_game two-dimensional NumPy array. Perhaps you have hundreds of sudoku game arrays, and you'd like to save the solution for this one, sudoku_solution, as part of the same array as its corresponding game in order to organize your sudoku data better. You could accomplish this by stacking the two 2D arrays on top of each other to create a 3D array.\n",
    "\n",
    "numpy is loaded as np, and the sudoku_game and sudoku_solution arrays are available.\n",
    "\n",
    "Instructions\n",
    "100 XP\n",
    "Create a 3D array called game_and_solution by stacking the two 2D arrays, sudoku_game and sudoku_solution, on top of one another; in the final array, sudoku_game should appear before sudoku_solution.\n",
    "Print game_and_solution."
   ]
  },
  {
   "cell_type": "code",
   "execution_count": null,
   "id": "dd948ad5",
   "metadata": {},
   "outputs": [],
   "source": [
    "# Create the game_and_solution 3D array\n",
    "game_and_solution = np.array([sudoku_game, sudoku_solution])\n",
    "\n",
    "# Print game_and_solution\n",
    "print(game_and_solution) "
   ]
  },
  {
   "cell_type": "markdown",
   "id": "8645f156",
   "metadata": {},
   "source": [
    "The fourth dimension\n",
    "Printing arrays is a good way to check code output for small arrays like sudoku_game_and_solution, but it becomes unwieldy when dealing with bigger arrays and those with higher dimensions. Another important check is to look at the array's .shape.\n",
    "\n",
    "Now, you'll create a 4D array that contains two sudoku games and their solutions. numpy is loaded as np. The game_and_solution 3D array you created in the previous example is available, along with new_sudoku_game and new_sudoku_solution.\n",
    "\n",
    "Instructions\n",
    "100 XP\n",
    "Create another 3D array called new_game_and_solution with a different 2D game and 2D solution pair: new_sudoku_game and new_sudoku_solution. new_sudoku_game should appear before new_sudoku_solution.\n",
    "Create a 4D array called games_and_solutions by making an array out of the two 3D arrays: game_and_solution and new_game_and_solution, in that order.\n",
    "Print the shape of games_and_solutions."
   ]
  },
  {
   "cell_type": "code",
   "execution_count": null,
   "id": "9d0293a6",
   "metadata": {},
   "outputs": [],
   "source": [
    "# Create a second 3D array of another game and its solution \n",
    "new_game_and_solution = np.array([new_sudoku_game, new_sudoku_solution])\n",
    "\n",
    "# Create a 4D array of both game and solution 3D arrays\n",
    "games_and_solutions = np.array([game_and_solution, new_game_and_solution])\n",
    "\n",
    "# Print the shape of your 4D array\n",
    "print(games_and_solutions.shape)"
   ]
  },
  {
   "cell_type": "markdown",
   "id": "b5a74d94",
   "metadata": {},
   "source": [
    "Flattening and reshaping\n",
    "You've learned to change not only array shape but also the number of dimensions that an array has. To test these skills, you'll change sudoku_game from a 2D array to a 1D array and back again. Can we trust NumPy to keep the array elements in the same order after being flattened and reshaped? Time to find out.\n",
    "\n",
    "numpy is imported as np, and sudoku_game is loaded for you.\n",
    "\n",
    "Instructions\n",
    "\n",
    "Flatten sudoku_game so that it is a 1D array, and save it as flattened_game.\n",
    "Print the .shape of flattened_game.\n",
    "Reshape the flattened_game back to its original shape of nine rows and nine columns; save the new array as reshaped_game."
   ]
  },
  {
   "cell_type": "code",
   "execution_count": null,
   "id": "69dd962a",
   "metadata": {},
   "outputs": [],
   "source": [
    "# Flatten sudoku_game\n",
    "flattened_game = sudoku_game.flatten()\n",
    "\n",
    "# Print the shape of flattened_game\n",
    "print(flattened_game.shape)\n",
    "\n",
    "# Reshape flattened_game back to a nine by nine array\n",
    "reshaped_game = flattened_game.reshape((9,9))\n",
    "\n",
    "# Print sudoku_game and reshaped_game\n",
    "print(sudoku_game)\n",
    "print(reshaped_game)"
   ]
  },
  {
   "cell_type": "markdown",
   "id": "c6b003bf",
   "metadata": {},
   "source": [
    "The dtype argument\n",
    "One way to control the data type of a NumPy array is to declare it when the array is created using the dtype keyword argument. Take a look at the data type NumPy uses by default when creating an array with np.zeros(). Could it be updated?\n",
    "\n",
    "numpy is loaded as np.\n",
    "\n",
    "Instructions\n",
    "Using np.zeros(), create an array of zeros that has three rows and two columns; call it zero_array.\n",
    "Print the data type of zero_array.\n",
    "Create a new array of zeros called zero_int_array, which will also have three rows and two columns, but the data type should be np.int32.\n",
    "Print the data type of zero_int_array."
   ]
  },
  {
   "cell_type": "code",
   "execution_count": null,
   "id": "1320a49b",
   "metadata": {},
   "outputs": [],
   "source": [
    "# Create an array of zeros with three rows and two columns\n",
    "zero_array = np.zeros((3,2))\n",
    "\n",
    "# Print the data type of zero_array\n",
    "print(zero_array.dtype)\n",
    "\n",
    "# Create a new array of int32 zeros with three rows and two columns\n",
    "zero_int_array = np.zeros((3,2), dtype=np.int32)\n",
    "\n",
    "# Print the data type of zero_int_array\n",
    "print(zero_int_array.dtype)"
   ]
  },
  {
   "cell_type": "markdown",
   "id": "b6267006",
   "metadata": {},
   "source": [
    "A smaller sudoku game\n",
    "NumPy data types, which emphasize speed, are more specific than Python data types, which emphasize flexibility. When working with large amounts of data in NumPy, it's good practice to check the data type and consider whether a smaller data type is large enough for your data, since smaller data types use less memory.\n",
    "\n",
    "It's time to make your sudoku game more memory-efficient using your knowledge of data types! sudoku_game has been loaded for you as a NumPy array. numpy is imported as np.\n",
    "\n",
    "Instructions \n",
    "Print the data type of the elements in sudoku_game.\n",
    "Change the data type of sudoku_game to be int8, an 8-bit integer; name the new array small_sudoku_game.\n",
    "Print the data type of small_sudoku_game to be sure that your change to int8 is reflected."
   ]
  },
  {
   "cell_type": "code",
   "execution_count": null,
   "id": "7decad07",
   "metadata": {},
   "outputs": [],
   "source": [
    "# Print the data type of sudoku_game\n",
    "print(sudoku_game.dtype)\n",
    "\n",
    "# Change the data type of sudoku_game to int8\n",
    "small_sudoku_game = sudoku_game.astype(np.int8)\n",
    "\n",
    "# Print the data type of small_sudoku_game\n",
    "print(small_sudoku_game.dtype)"
   ]
  },
  {
   "cell_type": "markdown",
   "id": "506a208b",
   "metadata": {},
   "source": [
    "Slicing and indexing trees\n",
    "Imagine you are a researcher working with data from New York City's tree census. Each row of the tree_census 2D array lists information for a different tree: the tree ID, block ID, trunk diameter, and stump diameter in that order. Living trees do not have stump diameters, which explains why there are so many zeros in that column. Column order is important because NumPy does not have column names! The first and last three rows of tree_census are shown below.\n",
    "\n",
    "array([[     3, 501451,     24,      0],\n",
    "       [     4, 501451,     20,      0],\n",
    "       [     7, 501911,      3,      0],\n",
    "       ...,\n",
    "       [  1198, 227387,     11,      0],\n",
    "       [  1199, 227387,     11,      0],\n",
    "       [  1210, 227386,      6,      0]])\n",
    "In this exercise, you'll be working specifically with the second column, representing block IDs: your research requires you to select specific city blocks for further analysis using NumPy slicing and indexing. numpy is loaded as np, and the tree_census 2D array is available.\n",
    "\n",
    "Instructions\n",
    "Select all rows of data from the second column, representing block IDs; save the resulting array as block_ids.\n",
    "Print the first five block IDs from block_ids.\n",
    "Select the tenth block ID from block_ids, saving the result as tenth_block_id.\n",
    "Select five consecutive block IDs from block_ids, starting with the tenth ID, and save as block_id_slice"
   ]
  },
  {
   "cell_type": "code",
   "execution_count": null,
   "id": "d4e6caea",
   "metadata": {},
   "outputs": [],
   "source": [
    "# Select all rows of block ID data from the second column\n",
    "block_ids = tree_census[:,1]\n",
    "\n",
    "# Print the first five block_ids\n",
    "print(block_ids[:5])\n",
    "\n",
    "# Select the tenth block ID from block_ids\n",
    "tenth_block_id = block_ids[9]\n",
    "print(tenth_block_id)\n",
    "\n",
    "# Select five block IDs from block_ids starting with the tenth ID\n",
    "block_id_slice = block_ids[9:14]\n",
    "print(block_id_slice)"
   ]
  },
  {
   "cell_type": "markdown",
   "id": "3d4ef9a9",
   "metadata": {},
   "source": [
    "Stepping into 2D\n",
    "Now assume that your research requires you to take an admittedly unrepresentative sample of trunk diameters, which are located in the third column of tree_census. Getting just a selection of trunk diameters can be done with NumPy's slicing and stepping functionality.\n",
    "\n",
    "numpy is loaded as np, and the tree_census 2D array is available.\n",
    "\n",
    "Instructions\n",
    "\n",
    "Create an array called hundred_diameters which contains the first 100 trunk diameters in tree_census\n",
    "Create an array,every_other_diameter, which contains only every other trunk diameter for trees with row indices from 50 to 100, inclusive."
   ]
  },
  {
   "cell_type": "code",
   "execution_count": null,
   "id": "a413984b",
   "metadata": {},
   "outputs": [],
   "source": [
    "# Create an array of the first 100 trunk diameters from tree_census\n",
    "hundred_diameters = tree_census[0:100, 2]\n",
    "print(hundred_diameters)\n",
    "\n",
    "# Create an array of trunk diameters with even row indices from 50 to 100 inclusive\n",
    "every_other_diameter = tree_census[50:101:2, 2]\n",
    "print(every_other_diameter)"
   ]
  },
  {
   "cell_type": "markdown",
   "id": "140208f5",
   "metadata": {},
   "source": [
    "Sorting trees\n",
    "Sometimes it's easiest to understand data when it is sorted according to the value you are most interested in. Your new research task is to create an array containing the trunk diameters in the New York City tree census, sorted in order from smallest to largest.\n",
    "\n",
    "numpy is loaded as np, and the tree_census 2D array is available.\n",
    "\n",
    "Instructions\n",
    "100 XP\n",
    "Create an array called sorted_trunk_diameters which selects only the trunk diameter column from tree_census and sorts it so that the smallest trunk diameters are at the top of the array and the largest at the bottom."
   ]
  },
  {
   "cell_type": "code",
   "execution_count": null,
   "id": "1ed36b10",
   "metadata": {},
   "outputs": [],
   "source": [
    "# Extract trunk diameters information and sort from smallest to largest\n",
    "sorted_trunk_diameters = np.sort(tree_census[:, 2])\n",
    "print(sorted_trunk_diameters)"
   ]
  },
  {
   "cell_type": "markdown",
   "id": "efd064f0",
   "metadata": {},
   "source": [
    "Filtering with masks\n",
    "In the last lesson, you sorted trees from smallest to largest. Now, you'll use fancy indexing to return the row of data representing the largest tree in tree_census. You'll also examine other trees located on the same block as the largest tree: are they also large?\n",
    "\n",
    "numpy is loaded as np, and the tree_census array is available. As a reminder, the tree_census columns in order refer to a tree's ID, its block ID, its trunk diameter, and its stump diameter.\n",
    "\n",
    "Instructions\n",
    "\n",
    "Using Boolean indexing, create an array, largest_tree_data, which contains the row of data on the largest tree in tree_census corresponding to the tree with a diameter of 51.\n",
    "Slice largest_tree_data to retrieve only the block id of the block the largest tree is located on; save this block id as largest_tree_block_id.\n",
    "Using fancy indexing, create an array called trees_on_largest_tree_block which contains data on all trees with the same block ID as the largest tree."
   ]
  },
  {
   "cell_type": "code",
   "execution_count": null,
   "id": "dcfcc24a",
   "metadata": {},
   "outputs": [],
   "source": [
    "# Create an array which contains row data on the largest tree in tree_census\n",
    "largest_tree_data = tree_census[tree_census[:, 2] == 51]\n",
    "print(largest_tree_data)\n",
    "\n",
    "# Slice largest_tree_data to get only the block id\n",
    "largest_tree_block_id = largest_tree_data[:, 1]\n",
    "print(largest_tree_block_id)\n",
    "\n",
    "# Create an array which contains row data on all trees with largest_tree_block_id\n",
    "trees_on_largest_tree_block = tree_census[tree_census[:, 1] == largest_tree_block_id]\n",
    "print(trees_on_largest_tree_block)"
   ]
  },
  {
   "cell_type": "markdown",
   "id": "cbb13103",
   "metadata": {},
   "source": [
    "Fancy indexing vs. np.where()\n",
    "You and your tree research team are double-checking collection data by visiting a few trees in person to confirm their measurements. You've been assigned to check the data for trees on block 313879, and you'd like to make a small array of just the tree data that relates to your work.\n",
    "\n",
    "numpy is loaded as np, and the tree_census array is available. As a reminder, the tree_census columns in order refer to a tree's ID, its block ID, its trunk diameter, and its stump diameter.\n",
    "\n",
    "Instructions\n",
    "\n",
    "Using fancy indexing, create an array called block_313879 which only contains data for trees with a block ID of 313879.\n",
    "Using np.where(), create an array of row_indices for trees with a block ID of 313879.\n",
    "Using row_indices, create block_313879, which contains data for trees on block 313879."
   ]
  },
  {
   "cell_type": "code",
   "execution_count": null,
   "id": "e3361d84",
   "metadata": {},
   "outputs": [],
   "source": [
    "# Create the block_313879 array containing trees on block 313879\n",
    "block_313879 = tree_census[tree_census[:, 1] == 313879]\n",
    "print(block_313879)\n",
    "\n",
    "# Create an array which only contains data for trees on block 313879\n",
    "block_313879 = tree_census[row_indices]\n",
    "print(block_313879)"
   ]
  },
  {
   "cell_type": "markdown",
   "id": "211152e5",
   "metadata": {},
   "source": [
    "Creating arrays from conditions\n",
    "Currently, the stump diameter and trunk diameter values in tree_census are in two different columns. Living trees have a stump diameter of zero while stumps have a trunk diameter of zero. If you'd like to include both living trees and stumps in certain research calculations, it might be useful to have their diameters together in just one column.\n",
    "\n",
    "numpy is loaded as np, and the tree_census array is available. As a reminder, the tree census columns in order refer to a tree's ID, its block ID, its trunk diameter, and its stump diameter.\n",
    "\n",
    "Instructions\n",
    "\n",
    "Create and print a 1D array called trunk_stump_diameters, which replaces a tree's trunk diameter with its stump diameter if the trunk diameter is zero."
   ]
  },
  {
   "cell_type": "code",
   "execution_count": null,
   "id": "0733b231",
   "metadata": {},
   "outputs": [],
   "source": [
    "# Create and print a 1D array of tree and stump diameters\n",
    "trunk_stump_diameters = np.where(tree_census[:, 2] == 0, tree_census[:, 3], tree_census[:, 2])\n",
    "print(trunk_stump_diameters)"
   ]
  },
  {
   "cell_type": "markdown",
   "id": "cc503d82",
   "metadata": {},
   "source": [
    "Adding rows\n",
    "The research team has discovered two trees that were left off the tree_census. Your task is to add rows containing the data for these new trees to the end of the tree_census array. The new trees' data is saved in a 2D array called new_trees:\n",
    "\n",
    "new_trees = np.array([[1211, 227386, 20, 0], [1212, 227386, 8, 0]])\n",
    "numpy is loaded as np, and the tree_census and new_trees arrays are available.\n",
    "\n",
    "Instructions\n",
    "\n",
    "Print the shapes of tree_census and new_trees to confirm they are compatible to concatenate.\n",
    "Add rows to the end of tree_census containing data for the new trees from the new_trees 2D array; save the new array as updated_tree_census."
   ]
  },
  {
   "cell_type": "code",
   "execution_count": null,
   "id": "1ff8c9ba",
   "metadata": {},
   "outputs": [],
   "source": [
    "# Print the shapes of tree_census and new_trees\n",
    "print(tree_census.shape, new_trees.shape)\n",
    "\n",
    "# Add rows to tree_census which contain data for the new trees\n",
    "updated_tree_census = np.concatenate((tree_census, new_trees), axis=0)\n",
    "print(updated_tree_census)"
   ]
  },
  {
   "cell_type": "markdown",
   "id": "c0047396",
   "metadata": {},
   "source": [
    "Adding columns\n",
    "You finished the last set of exercises by creating an array called trunk_stump_diameters, which combined data from the trunk diameter and stump diameter columns into a 1D array. Now, you'll add that 1D array as a column to the tree_census array.\n",
    "\n",
    "numpy is loaded as np, and both the tree_census and trunk_stump_diameters arrays are available.\n",
    "\n",
    "Instructions\n",
    "\n",
    "Print the shapes of both tree_census and trunk_stump_diameters.\n",
    "Reshape trunk_stump_diameters so that it can be appended as the last column in tree_census; call the reshaped array reshaped_diameters.\n",
    "Concatenate reshaped_diameters to the end of tree_census so that it becomes the last column; call the new array concatenated_tree_census."
   ]
  },
  {
   "cell_type": "code",
   "execution_count": null,
   "id": "e2741493",
   "metadata": {},
   "outputs": [],
   "source": [
    "# Print the shapes of tree_census and trunk_stump_diameters\n",
    "print(tree_census.shape, trunk_stump_diameters.shape)\n",
    "\n",
    "# Reshape trunk_stump_diameters\n",
    "reshaped_diameters = trunk_stump_diameters.reshape((1000,1))\n",
    "\n",
    "# Concatenate reshaped_diameters to tree_census as the last column\n",
    "concatenated_tree_census = np.concatenate((tree_census, reshaped_diameters), axis=1)\n",
    "print(concatenated_tree_census)"
   ]
  },
  {
   "cell_type": "markdown",
   "id": "79d22bf6",
   "metadata": {},
   "source": [
    "Deleting with np.delete()\n",
    "What if your tree research focuses only on living trees on publicly-owned city blocks? It might be helpful to delete some unneeded data like the stump diameter column and some trees located on private blocks.\n",
    "\n",
    "You've learned that NumPy's np.delete() function takes three arguments: the original array, the index or indices to be deleted, and the axis to delete along. If you don't know the index or indices of the array you'd like to delete, recall that when it is only passed one argument,np.where() returns an array of indices where a condition is met!\n",
    "\n",
    "numpy is loaded as np, and the tree_census 2D array is available. The columns in order refer to a tree's ID, block number, trunk diameter, and stump diameter.\n",
    "\n",
    "Instructions\n",
    "\n",
    "Delete the stump diameter column from tree_census, and save the new 2D array as tree_census_no_stumps.\n",
    "Using np.where(), find the indices of any trees on block 313879, a private block. Save the indices in an array called private_block_indices.\n",
    "Using the indices you just found using np.where(), delete the rows for trees on block 313879 from tree_census_no_stumps, saving the new 2D array as tree_census_clean.\n",
    "Print the shape of tree_census_clean."
   ]
  },
  {
   "cell_type": "code",
   "execution_count": null,
   "id": "10f29c56",
   "metadata": {},
   "outputs": [],
   "source": [
    "# Delete the stump diameter column from tree_census\n",
    "tree_census_no_stumps = np.delete(tree_census, 3, axis=1)\n",
    "\n",
    "# Save the indices of the trees on block 313879\n",
    "private_block_indices = np.where(tree_census[:, 1] == 313879)\n",
    "\n",
    "# Delete the rows for trees on block 313879 from tree_census_no_stumps\n",
    "tree_census_clean = np.delete(tree_census_no_stumps, private_block_indices, axis=0)\n",
    "\n",
    "# Print the shape of tree_census_clean\n",
    "print(tree_census_clean.shape)"
   ]
  },
  {
   "cell_type": "markdown",
   "id": "5d3e1c95",
   "metadata": {},
   "source": [
    "Sales totals\n",
    "The dataset you'll be working with during this chapter is one year's sales data by month for three different industries. Each row in this monthly_sales array represents a month from January to December. The first column has monthly sales data for liquor stores, the second column has data for restaurants, and the last column tracks sales for department stores.\n",
    "\n",
    "array([[ 4134, 23925,  8657],\n",
    "       [ 4116, 23875,  9142],\n",
    "       [ 4673, 27197, 10645],\n",
    "       [ 4580, 25637, 10456],\n",
    "       [ 5109, 27995, 11299],\n",
    "       [ 5011, 27419, 10625],\n",
    "       [ 5245, 27305, 10630],\n",
    "       [ 5270, 27760, 11550],\n",
    "       [ 4680, 24988,  9762],\n",
    "       [ 4913, 25802, 10456],\n",
    "       [ 5312, 25405, 13401],\n",
    "       [ 6630, 27797, 18403]])\n",
    "Your task is to create an array with all the information from monthly_sales as well as a fourth column which totals the monthly sales across industries for each month.\n",
    "\n",
    "numpy is loaded for you as np, and the monthly_sales array is available.\n",
    "\n",
    "Instructions\n",
    "\n",
    "Create a 2D array which contains a single column of total monthly sales across industries; call it monthly_industry_sales.\n",
    "Concatenate monthly_industry_sales with monthly_sales into a new array called monthly_sales_with_total, with the monthly cross-industry sales information in the final column."
   ]
  },
  {
   "cell_type": "code",
   "execution_count": null,
   "id": "c3f54816",
   "metadata": {},
   "outputs": [],
   "source": [
    "# Create a 2D array of total monthly sales across industries\n",
    "monthly_industry_sales = monthly_sales.sum(axis=1, keepdims=True)\n",
    "print(monthly_industry_sales)\n",
    "\n",
    "# Add this column as the last column in monthly_sales\n",
    "monthly_sales_with_total = np.concatenate((monthly_sales, monthly_industry_sales), axis=1)\n",
    "print(monthly_sales_with_total)"
   ]
  },
  {
   "cell_type": "markdown",
   "id": "3d0bc9a6",
   "metadata": {},
   "source": [
    "Plotting averages\n",
    "Perhaps you have a hunch that department stores see greater increased sales than average during the end of the year as people rush to buy gifts. You'd like to test this theory by comparing monthly department store sales to average sales across all three industries.\n",
    "\n",
    "numpy is loaded for you as np, and the monthly_sales array is available. The monthly_sales columns in order refer to liquor store, restaurant, and department store sales.\n",
    "\n",
    "Instructions\n",
    "\n",
    "Create a 1D array called avg_monthly_sales, which contains an average sales amount for each month across the three industries.\n",
    "Plot an array of the numbers one through twelve (representing each month) on the x-axis and avg_monthly_sales on the y-axis.\n",
    "Plot an array of the numbers one through twelve on the x-axis and the department store sales column of monthly_sales on the y-axis."
   ]
  },
  {
   "cell_type": "code",
   "execution_count": null,
   "id": "27928e70",
   "metadata": {},
   "outputs": [],
   "source": [
    "# Create the 1D array avg_monthly_sales\n",
    "avg_monthly_sales = monthly_sales.mean(axis=1)\n",
    "print(avg_monthly_sales)\n",
    "\n",
    "# Plot avg_monthly_sales by month\n",
    "plt.plot(np.arange(1, 13), avg_monthly_sales, label=\"Average sales across industries\")\n",
    "\n",
    "# Plot department store sales by month\n",
    "plt.plot(np.arange(1, 13), monthly_sales[:, 2], label=\"Department store sales\")\n",
    "plt.legend()\n",
    "plt.show()"
   ]
  },
  {
   "cell_type": "markdown",
   "id": "cc90df46",
   "metadata": {},
   "source": [
    "Cumulative sales\n",
    "In the last exercise, you established that December is a big month for department stores. Are there other months where sales increase or decrease significantly?\n",
    "\n",
    "Your task now is to look at monthly cumulative sales for each industry. The slope of the cumulative sales line will explain a lot about how steady sales are over time: a straight line will indicate steady growth, and changes in slope will indicate relative increases or decreases in sales.\n",
    "\n",
    "numpy is loaded for you as np, and the monthly_sales array is available. The monthly_sales columns in order refer to liquor store, restaurant, and department store sales.\n",
    "\n",
    "Instructions\n",
    "\n",
    "Find cumulative monthly sales for each industry, saving this data in an array called cumulative_monthly_industry_sales.\n",
    "Plot each industry's cumulative sales by month as separate lines, with cumulative sales on the y-axis and month number on the x-axis."
   ]
  },
  {
   "cell_type": "code",
   "execution_count": null,
   "id": "409423e1",
   "metadata": {},
   "outputs": [],
   "source": [
    "# Find cumulative monthly sales for each industry\n",
    "cumulative_monthly_industry_sales = monthly_sales.cumsum(axis=0)\n",
    "print(cumulative_monthly_industry_sales)\n",
    "\n",
    "# Plot each industry's cumulative sales by month as separate lines\n",
    "plt.plot(np.arange(1, 13), cumulative_monthly_industry_sales[:, 0], label=\"Liquor Stores\")\n",
    "plt.plot(np.arange(1, 13), cumulative_monthly_industry_sales[:, 1], label=\"Restaurants\")\n",
    "plt.plot(np.arange(1, 13), cumulative_monthly_industry_sales[:, 2], label=\"Department stores\")\n",
    "plt.legend()\n",
    "plt.show()"
   ]
  },
  {
   "cell_type": "markdown",
   "id": "091ee87b",
   "metadata": {},
   "source": [
    "ax calculations\n",
    "It's possible to use vectorized operations to calculate taxes for the liquor, restaurant, and department store industries! We'll simplify the tax calculation process here and assume that government collects 5% of all sales across these industries as tax revenue.\n",
    "\n",
    "Your task is to calculate the tax owed by each industry related to each month's sales. numpy is loaded for you as np, and the monthly_sales array is available.\n",
    "\n",
    "Instructions\n",
    "\n",
    "Create an array called tax_collected which calculates tax collected by industry and month by multiplying each element in monthly_sales by 0.05.\n",
    "Create an array that keeps track of total_tax_and_revenue collected by each industry and month by adding each element in tax_collected with its corresponding element in monthly_sales."
   ]
  },
  {
   "cell_type": "code",
   "execution_count": null,
   "id": "d9910917",
   "metadata": {},
   "outputs": [],
   "source": [
    "# Create an array of tax collected by industry and month\n",
    "tax_collected = monthly_sales * 0.05\n",
    "print(tax_collected)\n",
    "\n",
    "# Create an array of sales revenue plus tax collected by industry and month\n",
    "total_tax_and_revenue = monthly_sales+tax_collected\n",
    "print(total_tax_and_revenue)"
   ]
  },
  {
   "cell_type": "markdown",
   "id": "8693ea63",
   "metadata": {},
   "source": [
    "Projecting sales\n",
    "You'd like to be able to plan for next year's operations by projecting what sales will be, and you've gathered multipliers specific to each month and industry. These multipliers are saved in an array called monthly_industry_multipliers. For example, the multiplier at monthly_industry_multipliers[0, 0] of 0.98 means that the liquor store industry is projected to have 98% of this January's sales in January of next year.\n",
    "\n",
    "array([[0.98, 1.02, 1.  ],\n",
    "       [1.00, 1.01, 0.97],\n",
    "       [1.06, 1.03, 0.98],\n",
    "       [1.08, 1.01, 0.98],\n",
    "       [1.08, 0.98, 0.98],\n",
    "       [1.1 , 0.99, 0.99],\n",
    "       [1.12, 1.01, 1.  ],\n",
    "       [1.1 , 1.02, 1.  ],\n",
    "       [1.11, 1.01, 1.01],\n",
    "       [1.08, 0.99, 0.97],\n",
    "       [1.09, 1.  , 1.02],\n",
    "       [1.13, 1.03, 1.02]])\n",
    "numpy is loaded for you as np, and the monthly_sales and monthly_industry_multipliers arrays are available. The monthly_sales columns in order refer to liquor store, restaurant, and department store sales.\n",
    "\n",
    "Instructions\n",
    "\n",
    "Create an array called projected_monthly_sales which contains projected sales for all three industries based on the multipliers you have gathered.\n",
    "Create a graph that plots two lines: current liquor store sales by month and projected liquor store sales by month; months will be represented by an array of the numbers one through twelve."
   ]
  },
  {
   "cell_type": "code",
   "execution_count": null,
   "id": "11a9ff7a",
   "metadata": {},
   "outputs": [],
   "source": [
    "# Create an array of monthly projected sales for all industries\n",
    "projected_monthly_sales = monthly_sales * monthly_industry_multipliers\n",
    "print(projected_monthly_sales)\n",
    "\n",
    "# Graph current liquor store sales and projected liquor store sales by month\n",
    "plt.plot(np.arange(1, 13), monthly_sales[:, 0], label=\"Current liquor store sales\")\n",
    "plt.plot(np.arange(1, 13), projected_monthly_sales[:,0], label=\"Projected liquor store sales\")\n",
    "plt.legend()\n",
    "plt.show()"
   ]
  },
  {
   "cell_type": "markdown",
   "id": "03c5f9a2",
   "metadata": {},
   "source": [
    "Vectorizing .upper()\n",
    "There are many situations where you might want to use Python methods and functions on array elements in NumPy. You can always write a for loop to do this, but vectorized operations are much faster and more efficient, so consider using np.vectorize()!\n",
    "\n",
    "You've got an array called names which contains first and last names:\n",
    "\n",
    "names = np.array([[\"Izzy\", \"Monica\", \"Marvin\"],\n",
    "                  [\"Weber\", \"Patel\", \"Hernandez\"]])\n",
    "You'd like to use one of the Python methods you learned on DataCamp, .upper(), to make all the letters of every name in the array uppercase. As a reminder, .upper() is a string method, meaning that it must be called on an instance of a string: str.upper().\n",
    "\n",
    "Your task is to vectorize this Python method. numpy is loaded for you as np, and the names array is available.\n",
    "\n",
    "Instructions\n",
    "\n",
    "Create a vectorized function called vectorized_upper from the Python .upper() string method.\n",
    "Apply vectorized_upper() to the names array and save the resulting array as uppercase_names."
   ]
  },
  {
   "cell_type": "code",
   "execution_count": null,
   "id": "a28ec95d",
   "metadata": {},
   "outputs": [],
   "source": [
    "# Vectorize the .upper() string method\n",
    "vectorized_upper = np.vectorize(str.upper)\n",
    "\n",
    "# Apply vectorized_upper to the names array\n",
    "uppercase_names = vectorized_upper(names)\n",
    "print(uppercase_names)"
   ]
  },
  {
   "cell_type": "markdown",
   "id": "8c036944",
   "metadata": {},
   "source": [
    "Broadcasting across columns\n",
    "Recall that when broadcasting across columns, NumPy requires you to be explicit that it should broadcast a vertical array, and horizontal and vertical 1D arrays do not exist in NumPy. Instead, you must first create a 2D array to declare that you have vertical data. Then, NumPy creates a copy of this 2D vertical array for each column and applies the desired operation.\n",
    "\n",
    "A Python list called monthly_growth_rate with len() of 12 is available. This list represents monthly year-over-year expected growth for the economy; your task is to use broadcasting to multiply this list by each column in the monthly_sales array. The monthly_sales array is loaded, along with numpy as np.\n",
    "\n",
    "Instructions\n",
    "\n",
    "Convert monthly_growth_rate, currently a Python list, into a one-dimensional NumPy array called monthly_growth_1D.\n",
    "Reshape monthly_growth_1D so that it is broadcastable column-wise across monthly_sales; call the new array monthly_growth_2D.\n",
    "Using broadcasting, multiply each column in monthly_sales by monthly_growth_2D."
   ]
  },
  {
   "cell_type": "code",
   "execution_count": null,
   "id": "0f925759",
   "metadata": {},
   "outputs": [],
   "source": [
    "# Convert monthly_growth_rate into a NumPy array\n",
    "monthly_growth_1D = np.array(monthly_growth_rate)\n",
    "\n",
    "# Reshape monthly_growth_1D\n",
    "monthly_growth_2D = monthly_growth_1D.reshape((12,1))\n",
    "\n",
    "# Multiply each column in monthly_sales by monthly_growth_2D\n",
    "print(monthly_sales*monthly_growth_2D)"
   ]
  },
  {
   "cell_type": "markdown",
   "id": "e22d5816",
   "metadata": {},
   "source": [
    "Broadcasting across rows\n",
    "In the last set of exercises, you used monthly_industry_multipliers, to create sales predictions. Recall that monthly_industry_multipliers looks like this:\n",
    "\n",
    "array([[0.98, 1.02, 1.  ],\n",
    "       [1.00, 1.01, 0.97],\n",
    "       [1.06, 1.03, 0.98],\n",
    "       [1.08, 1.01, 0.98],\n",
    "       [1.08, 0.98, 0.98],\n",
    "       [1.1 , 0.99, 0.99],\n",
    "       [1.12, 1.01, 1.  ],\n",
    "       [1.1 , 1.02, 1.  ],\n",
    "       [1.11, 1.01, 1.01],\n",
    "       [1.08, 0.99, 0.97],\n",
    "       [1.09, 1.  , 1.02],\n",
    "       [1.13, 1.03, 1.02]])\n",
    "Assume you're not comfortable being so specific with your estimates. Rather, you'd like to use monthly_industry_multipliers to find a single average multiplier for each industry. Then you'll use that multiplier to project next year's sales.\n",
    "\n",
    "numpy is loaded for you as np, and the monthly_sales and monthly_industry_multipliers arrays are available. The monthly_sales columns in order refer to liquor store, restaurant, and department store sales.\n",
    "\n",
    "Instructions\n",
    "\n",
    "Find the mean sales projection multiplier for each industry; save in an array called mean_multipliers.\n",
    "Print the shapes of mean_multipliers and monthly_sales to ensure they are suitable for broadcasting.\n",
    "Multiply each monthly sales value by the mean multiplier you found for that industry; save in an array called projected_sales."
   ]
  },
  {
   "cell_type": "code",
   "execution_count": null,
   "id": "cf9b9cff",
   "metadata": {},
   "outputs": [],
   "source": [
    "# Find the mean sales projection multiplier for each industry\n",
    "mean_multipliers = monthly_industry_multipliers.mean(axis=0)\n",
    "print(mean_multipliers)\n",
    "\n",
    "# Print the shapes of mean_multipliers and monthly_sales\n",
    "print(mean_multipliers.shape, monthly_sales.shape)\n",
    "\n",
    "# Multiply each value by the multiplier for that industry\n",
    "projected_sales = monthly_sales*mean_multipliers\n",
    "print(projected_sales)"
   ]
  },
  {
   "cell_type": "markdown",
   "id": "7956bb44",
   "metadata": {},
   "source": [
    "Loading .npy files\n",
    "The exercises for this chapter will use a NumPy array holding an image in RGB format. Which image? You'll have to load the array from the mystery_image.npy file to find out!\n",
    "\n",
    "numpy is loaded as np, and mystery_image.npy is available.\n",
    "\n",
    "Instructions\n",
    "\n",
    "Load the mystery_image.npy file using the alias f, saving the contents as an array called rgb_array."
   ]
  },
  {
   "cell_type": "code",
   "execution_count": null,
   "id": "51e000cc",
   "metadata": {},
   "outputs": [],
   "source": [
    "# Load the mystery_image.npy file \n",
    "with open('mystery_image.npy', 'rb') as f:\n",
    "    rgb_array=np.load(f)\n",
    "\n",
    "plt.imshow(rgb_array)\n",
    "plt.show()"
   ]
  },
  {
   "cell_type": "markdown",
   "id": "e835036a",
   "metadata": {},
   "source": [
    "Getting help\n",
    "You'll need to use the .astype() array method we covered in the first chapter of this course for the next exercise. If you forget exactly how .astype() works, you could check out the course slides or NumPy's documentation on numpy.org. There is, however, an even faster way to jog your memory…\n",
    "\n",
    "numpy is loaded as np.\n",
    "\n",
    "Instructions\n",
    "\n",
    "Return NumPy's documentation text for .astype()."
   ]
  },
  {
   "cell_type": "code",
   "execution_count": null,
   "id": "504637d4",
   "metadata": {},
   "outputs": [],
   "source": [
    "# Display the documentation for .astype()\n",
    "help(np.ndarray.astype)"
   ]
  },
  {
   "cell_type": "markdown",
   "id": "f495e7cd",
   "metadata": {},
   "source": [
    "Update and save\n",
    "Perhaps you are training a machine learning model to recognize ocean scenes. You'd like the model to understand that oceans are not only associated with bright, summery colors, so you're careful to include images of oceans in bad whether or evening light as well. You may have to manually transform some images in order to balance the data, so your task is to darken the Monet ocean scene rgb_array.\n",
    "\n",
    "Recall from the video that white is associated with the maximum RGB value of 255, while darker colors are associated with lower values. numpy is loaded as np, and the 3D Monet rgb_array that you loaded in the last exercise is available.\n",
    "\n",
    "Instructions\n",
    "\n",
    "Reduce every value in rgb_array by 50 percent, saving the resulting array as darker_rgb_array.\n",
    "Since RGB values must be integers, convert darker_rgb_array into an array of integers called darker_rgb_int_array so that it can be plotted.\n",
    "Save darker_rgb_int_array as an .npy file called darker_monet.npy using the alias f."
   ]
  },
  {
   "cell_type": "code",
   "execution_count": null,
   "id": "adbfb2bc",
   "metadata": {},
   "outputs": [],
   "source": [
    "# Reduce every value in rgb_array by 50 percent\n",
    "darker_rgb_array = rgb_array * 0.5\n",
    "\n",
    "# Convert darker_rgb_array into an array of integers\n",
    "darker_rgb_int_array = darker_rgb_array.astype(np.int8)\n",
    "plt.imshow(darker_rgb_int_array)\n",
    "plt.show()\n",
    "\n",
    "# Save darker_rgb_int_array to an .npy file called darker_monet.npy\n",
    "with open('darker_monet.npy', 'wb') as f:\n",
    "    np.save(f, darker_rgb_int_array)"
   ]
  },
  {
   "cell_type": "markdown",
   "id": "b33690ac",
   "metadata": {},
   "source": [
    "Augmenting Monet\n",
    "Perhaps you're still working on that machine learning model that identifies ocean scenes in paintings. You'd like to generate a few extra images to augment your existing data. After all, a human can tell that a painting is of an ocean even if the painting is upside-down: why shouldn't your machine learning model?\n",
    "\n",
    "numpy is loaded as np, and the 3D Monet rgb_array is available.\n",
    "\n",
    "Instructions\n",
    "\n",
    "Flip rgb_array so that it is the mirror image of the original, with the ocean on the right and grassy knoll on the left.\n",
    "Flip rgb_array so that it is upside down but otherwise remains the same."
   ]
  },
  {
   "cell_type": "code",
   "execution_count": null,
   "id": "8502995c",
   "metadata": {},
   "outputs": [],
   "source": [
    "# Flip rgb_array so that it is the mirror image of the original\n",
    "mirrored_monet = np.flip(rgb_array, axis=1)\n",
    "plt.imshow(mirrored_monet)\n",
    "plt.show()\n",
    "\n",
    "# Flip rgb_array so that it is upside down\n",
    "upside_down_monet = np.flip(rgb_array, axis=(0,1))\n",
    "plt.imshow(upside_down_monet)\n",
    "plt.show()"
   ]
  },
  {
   "cell_type": "markdown",
   "id": "2709a706",
   "metadata": {},
   "source": [
    "Transposing your masterpiece\n",
    "You've learned that transposing an array reverses the order of the array's axes. To transpose the axes in a different order, you can pass the desired axes order as arguments. You'll practice with the 3D Monet rgb_array, loaded for you. numpy has been imported as np.\n",
    "\n",
    "Instructions\n",
    "\n",
    "Transpose the 3-D rgb_array so that the image appears rotated 90 degrees left and as a mirror image of itself."
   ]
  },
  {
   "cell_type": "code",
   "execution_count": null,
   "id": "2e558c84",
   "metadata": {},
   "outputs": [],
   "source": [
    "# Transpose rgb_array\n",
    "transposed_rgb = np.transpose(rgb_array, axes=(1,0,2))\n",
    "plt.imshow(transposed_rgb)\n",
    "plt.show()"
   ]
  },
  {
   "cell_type": "markdown",
   "id": "b2c3972a",
   "metadata": {},
   "source": [
    "2D split and stack\n",
    "Splitting and stacking skills aren't just useful with 3D RGB arrays: they are excellent for subsetting and organizing data of any type and dimension!\n",
    "\n",
    "You'll now take a quick trip down memory lane to reorganize the monthly_sales array as a 3D array. Recall that the first dimension of monthly_sales is rows of a single month's sales across three industries, and the second dimension is columns of monthly sales data for a single industry.\n",
    "\n",
    "Your task is to split this data into quarterly sales data and stack the quarterly sales data so that the new third dimension represents the four 2D arrays of quarterly sales.numpy is loaded as np, and the monthly_sales array is available.\n",
    "\n",
    "Instructions\n",
    "\n",
    "Split monthly_sales into four arrays representing quarterly data across industries; print q1_sales.\n",
    "Stack the four quarterly sales arrays to create a 3D array, quarterly_sales, made up of the four quarterly 2D arrays in order from the first to last quarter."
   ]
  },
  {
   "cell_type": "code",
   "execution_count": null,
   "id": "fd739506",
   "metadata": {},
   "outputs": [],
   "source": [
    "# Split monthly_sales into quarterly data\n",
    "q1_sales, q2_sales, q3_sales, q4_sales = np.split(monthly_sales, 4)\n",
    "\n",
    "# Print q1_sales\n",
    "print(q1_sales)\n",
    "\n",
    "# Stack the four quarterly sales arrays\n",
    "quarterly_sales = np.stack([q1_sales, q2_sales, q3_sales, q4_sales], axis=0)\n",
    "print(quarterly_sales)"
   ]
  },
  {
   "cell_type": "markdown",
   "id": "08ffdd5e",
   "metadata": {},
   "source": [
    "Splitting RGB data\n",
    "Perhaps you'd like to better understand Monet's use of the color blue. Your task is to create a version of the Monet rgb_array that emphasizes parts of the painting that use lots of blue by making them even bluer! You'll perform the splitting portion of this task in this exercise and the stacking portion in the next.\n",
    "\n",
    "numpy is loaded as np, and the Monet rgb_array is available.\n",
    "\n",
    "Instructions\n",
    "\n",
    "Split the Monet rgb_array into red, green, and blue only pixel data; save the results as as red_array, green_array, and blue_array.\n",
    "Create emphasized_blue_array, which replaces blue_array values with 255 if they are higher than the mean value of blue_array; otherwise, the value remains the same.\n",
    "Print the .shape of emphasized_blue_array.\n",
    "Reshape emphasized_blue_array to remove the trailing third dimension; save as emphasized_blue_array_2D."
   ]
  },
  {
   "cell_type": "code",
   "execution_count": null,
   "id": "53ae3713",
   "metadata": {},
   "outputs": [],
   "source": [
    "# Split rgb_array into red, green, and blue arrays\n",
    "red_array, green_array, blue_array = np.split(rgb_array, 3, axis=2)\n",
    "\n",
    "# Create emphasized_blue_array\n",
    "emphasized_blue_array = np.where(blue_array > blue_array.mean(), 255, blue_array)\n",
    "\n",
    "# Print the shape of emphasized_blue_array\n",
    "print(emphasized_blue_array.shape)\n",
    "\n",
    "# Remove the trailing dimension from emphasized_blue_array\n",
    "emphasized_blue_array_2D = emphasized_blue_array.reshape((675, 844))"
   ]
  },
  {
   "cell_type": "markdown",
   "id": "db65e24d",
   "metadata": {},
   "source": [
    "Stacking RGB data\n",
    "Now you'll combine red_array, green_array, and emphasized_blue_array_2D to see what Monet's painting looks like with the blues emphasized!\n",
    "\n",
    "numpy is loaded as np, and the red_array, green_array, blue_array and emphasized_blue_array_2D objects that you created in the last exercise are available.\n",
    "\n",
    "Instructions\n",
    "\n",
    "Print the shapes of blue_array and emphasized_blue_array_2D.\n",
    "Reshape red_array and green_array so that they can be stacked with emphasized_blue_array_2D.\n",
    "Stack red_array_2D, green_array_2D, and emphasized_blue_array_2D together (in that order) into a 3D array called emphasized_blue_monet."
   ]
  },
  {
   "cell_type": "code",
   "execution_count": null,
   "id": "a3dd8462",
   "metadata": {},
   "outputs": [],
   "source": [
    "# Print the shapes of blue_array and emphasized_blue_array_2D\n",
    "print(blue_array.shape, emphasized_blue_array_2D.shape)\n",
    "\n",
    "# Reshape red_array and green_array\n",
    "red_array_2D = red_array.reshape((675, 844))\n",
    "green_array_2D = green_array.reshape((675, 844))\n",
    "\n",
    "# Stack red_array_2D, green_array_2D, and emphasized_blue_array_2D\n",
    "emphasized_blue_monet = np.stack([red_array_2D, green_array_2D,emphasized_blue_array_2D], axis=2)\n",
    "plt.imshow(emphasized_blue_monet)\n",
    "plt.show()"
   ]
  }
 ],
 "metadata": {
  "kernelspec": {
   "display_name": "Python 3 (ipykernel)",
   "language": "python",
   "name": "python3"
  },
  "language_info": {
   "codemirror_mode": {
    "name": "ipython",
    "version": 3
   },
   "file_extension": ".py",
   "mimetype": "text/x-python",
   "name": "python",
   "nbconvert_exporter": "python",
   "pygments_lexer": "ipython3",
   "version": "3.9.12"
  }
 },
 "nbformat": 4,
 "nbformat_minor": 5
}
