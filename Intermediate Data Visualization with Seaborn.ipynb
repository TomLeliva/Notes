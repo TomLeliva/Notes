{
 "cells": [
  {
   "cell_type": "markdown",
   "id": "6e8d95bb",
   "metadata": {},
   "source": [
    "Reading a csv file\n",
    "Before you analyze data, you will need to read the data into a pandas DataFrame. In this exercise, you will be looking at data from US School Improvement Grants in 2010. This program gave nearly $4B to schools to help them renovate or improve their programs.\n",
    "\n",
    "This first step in most data analysis is to import pandas and seaborn and read a data file in order to analyze it further.\n",
    "\n",
    "This course introduces a lot of new concepts, so if you ever need a quick refresher, download the Seaborn Cheat Sheet and keep it handy!\n",
    "\n",
    "Instructions\n",
    "\n",
    "Import pandas and seaborn using the standard naming conventions.\n",
    "The path to the csv file is stored in the grant_file variable.\n",
    "Use pandas to read the file.\n",
    "Store the resulting DataFrame in the variable df."
   ]
  },
  {
   "cell_type": "code",
   "execution_count": null,
   "id": "d0263ac0",
   "metadata": {},
   "outputs": [],
   "source": [
    "# import all modules\n",
    "import pandas as pd\n",
    "import seaborn as sns\n",
    "import matplotlib.pyplot as plt\n",
    "\n",
    "# Read in the DataFrame\n",
    "df = pd.read_csv(grant_file)"
   ]
  },
  {
   "cell_type": "markdown",
   "id": "9ff44a24",
   "metadata": {},
   "source": [
    "Comparing a histogram and displot\n",
    "The pandas library supports simple plotting of data, which is very convenient when data is already likely to be in a pandas DataFrame.\n",
    "\n",
    "Seaborn generally does more statistical analysis on data and can provide more sophisticated insight into the data. In this exercise, we will compare a pandas histogram vs the seaborn displot.\n",
    "\n",
    "Instructions\n",
    "\n",
    "Use the pandas' plot.hist() function to plot a histogram of the Award_Amount column.\n",
    "Use Seaborn's displot() function to plot a distribution plot of the same column."
   ]
  },
  {
   "cell_type": "code",
   "execution_count": null,
   "id": "2f4f6553",
   "metadata": {},
   "outputs": [],
   "source": [
    "# Display pandas histogram\n",
    "df['Award_Amount'].plot.hist()\n",
    "plt.show()\n",
    "\n",
    "# Clear out the pandas histogram\n",
    "plt.clf()\n",
    "\n",
    "# Display a Seaborn displot\n",
    "sns.displot(df['Award_Amount'])\n",
    "plt.show()\n",
    "\n",
    "# Clear the displot\n",
    "plt.clf()"
   ]
  },
  {
   "cell_type": "markdown",
   "id": "411514c7",
   "metadata": {},
   "source": [
    "Plot a histogram\n",
    "The displot() function will return a histogram by default. The displot() can also create a KDE or rug plot which are useful ways to look at the data. Seaborn can also combine these plots so you can perform more meaningful analysis.\n",
    "\n",
    "Instructions\n",
    "\n",
    "Create a displot for the data.\n",
    "Explicitly pass in the number 20 for the number of bins in the histogram.\n",
    "Display the plot using plt.show()."
   ]
  },
  {
   "cell_type": "code",
   "execution_count": null,
   "id": "3bd646d3",
   "metadata": {},
   "outputs": [],
   "source": [
    "# Create a displot\n",
    "sns.displot(df['Award_Amount'],\n",
    "             bins=20)\n",
    "\n",
    "# Display the plot\n",
    "plt.show()"
   ]
  },
  {
   "cell_type": "markdown",
   "id": "c30f468d",
   "metadata": {},
   "source": [
    "Rug plot and kde shading\n",
    "Now that you understand some function arguments for displot(), we can continue further refining the output. This process of creating a visualization and updating it in an incremental fashion is a useful and common approach to look at data from multiple perspectives.\n",
    "\n",
    "Seaborn excels at making this process simple.\n",
    "\n",
    "Instructions\n",
    "\n",
    "Create a displot of the Award_Amount column in the df.\n",
    "Configure it to show a shaded kde plot (using the kind and fill parameters).\n",
    "Add a rug plot above the x axis (using the rug parameter).\n",
    "Display the plot."
   ]
  },
  {
   "cell_type": "code",
   "execution_count": null,
   "id": "bb444adc",
   "metadata": {},
   "outputs": [],
   "source": [
    "# Create a displot of the Award Amount\n",
    "sns.displot(df['Award_Amount'],\n",
    "             kind='kde',\n",
    "             rug=True,\n",
    "             fill=True)\n",
    "\n",
    "# Plot the results\n",
    "plt.show()"
   ]
  },
  {
   "cell_type": "markdown",
   "id": "b72c8a39",
   "metadata": {},
   "source": [
    "Create a regression plot\n",
    "For this set of exercises, we will be looking at FiveThirtyEight's data on which US State has the worst drivers. The data set includes summary level information about fatal accidents as well as insurance premiums for each state as of 2010.\n",
    "\n",
    "In this exercise, we will look at the difference between the regression plotting functions.\n",
    "\n",
    "Instructions\n",
    "\n",
    "The data is available in the dataframe called df.\n",
    "Create a regression plot using regplot() with \"insurance_losses\" on the x axis and \"premiums\" on the y axis.\n",
    "Create a regression plot of \"premiums\" versus \"insurance_losses\" using lmplot().\n",
    "Display the plot."
   ]
  },
  {
   "cell_type": "code",
   "execution_count": null,
   "id": "f25bf4ee",
   "metadata": {},
   "outputs": [],
   "source": [
    "# Create a regression plot of premiums vs. insurance_losses\n",
    "sns.regplot(data = df, x=\"insurance_losses\", y=\"premiums\")\n",
    "\n",
    "# Display the plot\n",
    "plt.show()\n",
    "\n",
    "# Create an lmplot of premiums vs. insurance_losses\n",
    "sns.lmplot(data = df, x='insurance_losses', y='premiums')\n",
    "\n",
    "# Display the second plot\n",
    "plt.show()"
   ]
  },
  {
   "cell_type": "markdown",
   "id": "eebea3b9",
   "metadata": {},
   "source": [
    "Plotting multiple variables\n",
    "Since we are using lmplot() now, we can look at the more complex interactions of data. This data set includes geographic information by state and area. It might be interesting to see if there is a difference in relationships based on the Region of the country.\n",
    "\n",
    "Instructions\n",
    "\n",
    "Use lmplot() to look at the relationship between insurance_losses and premiums.\n",
    "Plot a regression line for each Region of the country."
   ]
  },
  {
   "cell_type": "code",
   "execution_count": null,
   "id": "aba1aafd",
   "metadata": {},
   "outputs": [],
   "source": [
    "# Create a regression plot using hue\n",
    "sns.lmplot(data=df,\n",
    "           x=\"insurance_losses\",\n",
    "           y=\"premiums\",\n",
    "           hue=\"Region\")\n",
    "\n",
    "# Show the results\n",
    "plt.show()"
   ]
  },
  {
   "cell_type": "markdown",
   "id": "0c1f103d",
   "metadata": {},
   "source": [
    "Facetting multiple regressions\n",
    "lmplot() allows us to facet the data across multiple rows and columns. In the previous plot, the multiple lines were difficult to read in one plot. We can try creating multiple plots by Region to see if that is a more useful visualization.\n",
    "\n",
    "Instructions\n",
    "\n",
    "Use lmplot() to look at the relationship between insurance_losses and premiums.\n",
    "Create a plot for each Region of the country.\n",
    "Display the plots across multiple rows."
   ]
  },
  {
   "cell_type": "code",
   "execution_count": null,
   "id": "21ef50f5",
   "metadata": {},
   "outputs": [],
   "source": [
    "# Create a regression plot with multiple rows\n",
    "sns.lmplot(data=df,\n",
    "           x=\"insurance_losses\",\n",
    "           y=\"premiums\",\n",
    "           row=\"Region\")\n",
    "\n",
    "# Show the plot\n",
    "plt.show()"
   ]
  },
  {
   "cell_type": "markdown",
   "id": "7243109b",
   "metadata": {},
   "source": [
    "Setting the default style\n",
    "For these exercises, we will be looking at fair market rent values calculated by the US Housing and Urban Development Department. This data is used to calculate guidelines for several federal programs. The actual values for rents vary greatly across the US. We can use this data to get some experience with configuring Seaborn plots.\n",
    "\n",
    "All of the necessary imports for seaborn, pandas and matplotlib have been completed. The data is stored in the pandas DataFrame df.\n",
    "\n",
    "By the way, if you haven't downloaded it already, check out the Seaborn Cheat Sheet. It includes an overview of the most important concepts, functions and methods and might come in handy if you ever need a quick refresher!\n",
    "\n",
    "Instructions\n",
    "\n",
    "Plot a pandas histogram without adjusting the style.\n",
    "Set Seaborn's default style.\n",
    "Create another pandas histogram of the fmr_2 column which represents fair market rent for a 2-bedroom apartment."
   ]
  },
  {
   "cell_type": "code",
   "execution_count": null,
   "id": "34b6c7ae",
   "metadata": {},
   "outputs": [],
   "source": [
    "# Plot the pandas histogram\n",
    "df['fmr_2'].plot.hist()\n",
    "plt.show()\n",
    "plt.clf()\n",
    "\n",
    "# Set the default seaborn style\n",
    "sns.set()\n",
    "\n",
    "# Plot the pandas histogram again\n",
    "df['fmr_2'].plot.hist()\n",
    "plt.show()\n",
    "plt.clf()"
   ]
  },
  {
   "cell_type": "markdown",
   "id": "f806db20",
   "metadata": {},
   "source": [
    "Comparing styles\n",
    "Seaborn supports setting different styles that can control the aesthetics of the final plot. In this exercise, you will plot the same data in two different styles in order to see how the styles change the output.\n",
    "\n",
    "Instructions\n",
    "\n",
    "Create a displot() of the fmr_2 column in df using a dark style. Use plt.clf() to clear the figure.\n",
    "Create the same displot() of fmr_2 using a whitegrid style. Clear the plot after showing it."
   ]
  },
  {
   "cell_type": "code",
   "execution_count": null,
   "id": "716ff214",
   "metadata": {},
   "outputs": [],
   "source": [
    "import matplotlib.pyplot as plt\n",
    "import pandas as pd\n",
    "import seaborn as sns\n",
    "\n",
    "sns.set_style('dark')\n",
    "sns.displot(df['fmr_2'])\n",
    "\n",
    "plt.show()\n",
    "\n",
    "plt.clf()\n",
    "\n",
    "#Create the same displot() of fmr_2 using a whitegrid style. Clear the plot after showing it.\n",
    "sns.set_style('whitegrid')\n",
    "\n",
    "sns.displot(df['fmr_2'])\n",
    "plt.show()\n",
    "\n",
    "plt.clf()"
   ]
  },
  {
   "cell_type": "markdown",
   "id": "821d516f",
   "metadata": {},
   "source": [
    "Removing spines\n",
    "In general, visualizations should minimize extraneous markings so that the data speaks for itself. Seaborn allows you to remove the lines on the top, bottom, left and right axis, which are often called spines.\n",
    "\n",
    "Instructions\n",
    "\n",
    "Use a white style for the plot.\n",
    "Create a lmplot() comparing the pop2010 and the fmr_2 columns.\n",
    "Remove the top and right spines using despine()."
   ]
  },
  {
   "cell_type": "code",
   "execution_count": null,
   "id": "af2a1d90",
   "metadata": {},
   "outputs": [],
   "source": [
    "# Set the style to white\n",
    "sns.set_style('white')\n",
    "\n",
    "# Create a regression plot\n",
    "sns.lmplot(data=df,\n",
    "           x='pop2010',\n",
    "           y='fmr_2')\n",
    "\n",
    "# Remove the spines\n",
    "sns.despine()\n",
    "\n",
    "# Show the plot and clear the figure\n",
    "plt.show()\n",
    "plt.clf()"
   ]
  },
  {
   "cell_type": "markdown",
   "id": "329fd2fc",
   "metadata": {},
   "source": [
    "Matplotlib color codes\n",
    "Seaborn offers several options for modifying the colors of your visualizations. The simplest approach is to explicitly state the color of the plot. A quick way to change colors is to use the standard matplotlib color codes.\n",
    "\n",
    "Instructions\n",
    "\n",
    "Set the default Seaborn style and enable the matplotlib color codes.\n",
    "Create a displot for the fmr_3 column using matplotlib's magenta (m) color code."
   ]
  },
  {
   "cell_type": "code",
   "execution_count": null,
   "id": "c40a63d4",
   "metadata": {},
   "outputs": [],
   "source": [
    "# Set style, enable color code, and create a magenta displot\n",
    "sns.set(color_codes=True)\n",
    "sns.displot(df['fmr_3'], color='m')\n",
    "\n",
    "# Show the plot\n",
    "plt.show()"
   ]
  },
  {
   "cell_type": "markdown",
   "id": "7dc9a78e",
   "metadata": {},
   "source": [
    "Using default palettes\n",
    "Seaborn includes several default palettes that can be easily applied to your plots. In this example, we will look at the impact of two different palettes on the same displot.\n",
    "\n",
    "Instructions\n",
    "\n",
    "Create a for loop to show the difference between the bright and colorblind palette.\n",
    "Set the palette using the set_palette() function.\n",
    "Use a displot of the fmr_3 column."
   ]
  },
  {
   "cell_type": "code",
   "execution_count": null,
   "id": "440c2ba5",
   "metadata": {},
   "outputs": [],
   "source": [
    "# Loop through differences between bright and colorblind palettes\n",
    "for p in ['bright', 'colorblind']:\n",
    "    sns.set_palette(p)\n",
    "    sns.displot(df['fmr_3'])\n",
    "    plt.show()\n",
    "    \n",
    "    # Clear the plots    \n",
    "    plt.clf()"
   ]
  },
  {
   "cell_type": "markdown",
   "id": "99e3fe0e",
   "metadata": {},
   "source": [
    "Creating Custom Palettes\n",
    "Choosing a cohesive palette that works for your data can be time consuming. Fortunately, Seaborn provides the color_palette() function to create your own custom sequential, categorical, or diverging palettes. Seaborn also makes it easy to view your palettes by using the palplot() function.\n",
    "\n",
    "In this exercise, you can experiment with creating different palettes.\n",
    "\n",
    "Instructions\n",
    "\n",
    "Create and display a Purples sequential palette containing 8 colors.\n",
    "Create and display a palette with 10 colors using the husl system.\n",
    "Create and display a diverging palette with 6 colors coolwarm."
   ]
  },
  {
   "cell_type": "code",
   "execution_count": null,
   "id": "cc0066be",
   "metadata": {},
   "outputs": [],
   "source": [
    "sns.palplot(sns.color_palette('Purples',8))\n",
    "\n",
    "plt.show()\n",
    "\n",
    "# Create the husl palette\n",
    "sns.palplot(sns.color_palette(\"husl\", 10))\n",
    "plt.show()\n",
    "\n",
    "# Create the coolwarm palette\n",
    "sns.palplot(sns.color_palette(\"coolwarm\", 6))\n",
    "plt.show()"
   ]
  },
  {
   "cell_type": "markdown",
   "id": "fa578d43",
   "metadata": {},
   "source": [
    "Using matplotlib axes\n",
    "Seaborn uses matplotlib as the underlying library for creating plots. Most of the time, you can use the Seaborn API to modify your visualizations but sometimes it is helpful to use matplotlib's functions to customize your plots. The most important object in this case is matplotlib's axes.\n",
    "\n",
    "Once you have an axes object, you can perform a lot of customization of your plot.\n",
    "\n",
    "In these examples, the US HUD data is loaded in the dataframe df and all libraries are imported.\n",
    "\n",
    "Instructions\n",
    "\n",
    "Use plt.subplots() to create a axes and figure objects.\n",
    "Plot a histplot of column fmr_3 on the axes.\n",
    "Set a more useful label on the x axis of \"3 Bedroom Fair Market Rent\"."
   ]
  },
  {
   "cell_type": "code",
   "execution_count": null,
   "id": "5a9e457f",
   "metadata": {},
   "outputs": [],
   "source": [
    "# Create a figure and axes\n",
    "fig, ax = plt.subplots()\n",
    "\n",
    "# Plot the distribution of data\n",
    "sns.histplot(df['fmr_3'], ax=ax)\n",
    "\n",
    "# Create a more descriptive x axis label\n",
    "ax.set(xlabel=\"3 Bedroom Fair Market Rent\")\n",
    "\n",
    "# Show the plot\n",
    "plt.show()"
   ]
  },
  {
   "cell_type": "markdown",
   "id": "c4425410",
   "metadata": {},
   "source": [
    "Additional plot customizations\n",
    "The matplotlib API supports many common customizations such as labeling axes, adding titles, and setting limits. Let's complete another customization exercise.\n",
    "\n",
    "Instructions\n",
    "\n",
    "Create a histplot of the fmr_1 column.\n",
    "Modify the x axis label to say \"1 Bedroom Fair Market Rent\".\n",
    "Change the x axis limits to be between 100 and 1500.\n",
    "Add a descriptive title of \"US Rent\" to the plot."
   ]
  },
  {
   "cell_type": "code",
   "execution_count": null,
   "id": "1a3571e8",
   "metadata": {},
   "outputs": [],
   "source": [
    "# Create a figure and axes\n",
    "fig, ax = plt.subplots()\n",
    "\n",
    "# Plot the distribution of 1 bedroom rents\n",
    "sns.histplot(df['fmr_1'], ax=ax)\n",
    "\n",
    "# Modify the properties of the plot\n",
    "ax.set(xlabel=\"1 Bedroom Fair Market Rent\",\n",
    "       xlim=(100,1500),\n",
    "       title=\"US Rent\")\n",
    "\n",
    "# Display the plot\n",
    "plt.show()"
   ]
  },
  {
   "cell_type": "markdown",
   "id": "c85156be",
   "metadata": {},
   "source": [
    "Adding annotations\n",
    "Each of the enhancements we have covered can be combined together. In the next exercise, we can annotate our distribution plot to include lines that show the mean and median rent prices.\n",
    "\n",
    "For this example, the palette has been changed to bright using sns.set_palette()\n",
    "\n",
    "Instructions\n",
    "\n",
    "Create a figure and axes.\n",
    "Plot the fmr_1 column distribution.\n",
    "Add a vertical line using axvline for the median and mean of the values which are already defined."
   ]
  },
  {
   "cell_type": "code",
   "execution_count": null,
   "id": "f513c4d3",
   "metadata": {},
   "outputs": [],
   "source": [
    "# Create a figure and axes. Then plot the data\n",
    "fig, ax = plt.subplots()\n",
    "sns.histplot(df['fmr_1'], ax=ax)\n",
    "\n",
    "# Customize the labels and limits\n",
    "ax.set(title=\"1 Bedroom Fair Market Rent\", xlim=(100,1500), xlabel=\"US Rent\")\n",
    "\n",
    "# Add vertical lines for the median and mean\n",
    "ax.axvline(x=median, color='m', label='Median', linestyle='--', linewidth=2)\n",
    "ax.axvline(x=mean, color='b', label='Mean', linestyle='-', linewidth=2)\n",
    "\n",
    "# Show the legend and plot the data\n",
    "ax.legend()\n",
    "plt.show()"
   ]
  },
  {
   "cell_type": "markdown",
   "id": "e01b2cda",
   "metadata": {},
   "source": [
    "Multiple plots\n",
    "For the final exercise we will plot a comparison of the fair market rents for 1-bedroom and 2-bedroom apartments.\n",
    "\n",
    "Instructions\n",
    "\n",
    "Create two axes objects, ax0 and ax1.\n",
    "Plot fmr_1 on ax0 and fmr_2 on ax1.\n",
    "Display the plots side by side."
   ]
  },
  {
   "cell_type": "code",
   "execution_count": null,
   "id": "fd6f02f7",
   "metadata": {},
   "outputs": [],
   "source": [
    "# Create a plot with 1 row and 2 columns that share the y axis label\n",
    "fig, (ax0, ax1) = plt.subplots(nrows=1, ncols=2, sharey=True)\n",
    "\n",
    "# Plot the distribution of 1 bedroom apartments on ax0\n",
    "sns.histplot(df['fmr_1'], ax=ax0)\n",
    "ax0.set(xlabel=\"1 Bedroom Fair Market Rent\", xlim=(100,1500))\n",
    "\n",
    "# Plot the distribution of 2 bedroom apartments on ax1\n",
    "sns.histplot(df['fmr_2'], ax=ax1)\n",
    "ax1.set(xlabel=\"2 Bedroom Fair Market Rent\", xlim=(100,1500))\n",
    "\n",
    "# Display the plot\n",
    "plt.show()"
   ]
  },
  {
   "cell_type": "markdown",
   "id": "a9299f7e",
   "metadata": {},
   "source": [
    "stripplot() and swarmplot()\n",
    "Many datasets have categorical data and Seaborn supports several useful plot types for this data. In this example, we will continue to look at the 2010 School Improvement data and segment the data by the types of school improvement models used.\n",
    "\n",
    "As a refresher, here is the KDE distribution of the Award Amounts:\n",
    "\n",
    "While this plot is useful, there is a lot more we can learn by looking at the individual Award_Amount and how the amounts are distributed among the four categories.\n",
    "\n",
    "Instructions\n",
    "\n",
    "Create a stripplot of the Award_Amount with the Model Selected on the y axis with jitter enabled.\n",
    "Create a swarmplot() of the same data, but also include the hue by Region."
   ]
  },
  {
   "cell_type": "code",
   "execution_count": null,
   "id": "8f2e5680",
   "metadata": {},
   "outputs": [],
   "source": [
    "# Create the stripplot\n",
    "sns.stripplot(data=df,\n",
    "         x='Award_Amount',\n",
    "         y='Model Selected',\n",
    "         jitter=True)\n",
    "\n",
    "plt.show()\n",
    "\n",
    "# Create and display a swarmplot with hue set to the Region\n",
    "sns.swarmplot(data=df,\n",
    "         x='Award_Amount',\n",
    "         y='Model Selected',\n",
    "         hue='Region')\n",
    "\n",
    "plt.show()"
   ]
  },
  {
   "cell_type": "markdown",
   "id": "4cfb7169",
   "metadata": {},
   "source": [
    "boxplots, violinplots and boxenplots\n",
    "Seaborn's categorical plots also support several abstract representations of data. The API for each of these is the same so it is very convenient to try each plot and see if the data lends itself to one over the other.\n",
    "\n",
    "In this exercise, we will use the color palette options presented in Chapter 2 to show how colors can easily be included in the plots.\n",
    "\n",
    "Instructions\n",
    "\n",
    "Create and display a boxplot of the data with Award_Amount on the x axis and Model Selected on the y axis.\n",
    "Create and display a similar violinplot of the data, but use the husl palette for colors.\n",
    "Use Award_Amount on the x axis and Model Selected on the y axis.\n",
    "Create and display an boxenplot using the Paired palette and the Region column as the hue."
   ]
  },
  {
   "cell_type": "code",
   "execution_count": null,
   "id": "2aeae62f",
   "metadata": {},
   "outputs": [],
   "source": [
    "# Create a boxplot\n",
    "sns.boxplot(data=df,\n",
    "         x='Award_Amount',\n",
    "         y='Model Selected')\n",
    "\n",
    "plt.show()\n",
    "plt.clf()\n",
    "\n",
    "# Create a violinplot with the husl palette\n",
    "sns.violinplot(data=df,\n",
    "         x='Award_Amount',\n",
    "         y='Model Selected',\n",
    "         palette='husl')\n",
    "\n",
    "plt.show()\n",
    "plt.clf()\n",
    "\n",
    "# Create a boxenplot with the Paired palette and the Region column as the hue\n",
    "sns.boxenplot(data=df,\n",
    "         x='Award_Amount',\n",
    "         y='Model Selected',\n",
    "         palette='Paired',\n",
    "         hue='Region')\n",
    "\n",
    "plt.show()\n",
    "plt.clf()"
   ]
  },
  {
   "cell_type": "markdown",
   "id": "0530a1d9",
   "metadata": {},
   "source": [
    "barplots, pointplots and countplots\n",
    "The final group of categorical plots are barplots, pointplots and countplot which create statistical summaries of the data. The plots follow a similar API as the other plots and allow further customization for the specific problem at hand.\n",
    "\n",
    "Instructions\n",
    "\n",
    "Create a countplot with the df dataframe and Model Selected on the y axis and the color varying by Region.\n",
    "Create a pointplot with the df dataframe and Model Selected on the x-axis and Award_Amount on the y-axis.\n",
    "Use a capsize in the pointplot in order to add caps to the error bars.\n",
    "Create a barplot with the same data on the x and y axis and change the color of each bar based on the Region column."
   ]
  },
  {
   "cell_type": "code",
   "execution_count": null,
   "id": "2d130fbe",
   "metadata": {},
   "outputs": [],
   "source": [
    "# Show a countplot with the number of models used with each region a different color\n",
    "sns.countplot(data=df,\n",
    "         y=\"Model Selected\",\n",
    "         hue=\"Region\")\n",
    "\n",
    "plt.show()\n",
    "plt.clf()\n",
    "\n",
    "# Create a pointplot and include the capsize in order to show caps on the error bars\n",
    "sns.pointplot(data=df,\n",
    "         y='Award_Amount',\n",
    "         x='Model Selected',\n",
    "         capsize=.1)\n",
    "\n",
    "plt.show()\n",
    "plt.clf()\n",
    "\n",
    "# Create a barplot with each Region shown as a different color\n",
    "sns.barplot(data=df,\n",
    "         y='Award_Amount',\n",
    "         x='Model Selected',\n",
    "         hue='Region')\n",
    "\n",
    "plt.show()\n",
    "plt.clf()"
   ]
  },
  {
   "cell_type": "markdown",
   "id": "efeec071",
   "metadata": {},
   "source": [
    "Regression and residual plots\n",
    "Linear regression is a useful tool for understanding the relationship between numerical variables. Seaborn has simple but powerful tools for examining these relationships.\n",
    "\n",
    "For these exercises, we will look at some details from the US Department of Education on 4 year college tuition information and see if there are any interesting insights into which variables might help predict tuition costs.\n",
    "\n",
    "For these exercises, all data is loaded in the df variable.\n",
    "\n",
    "Instructions\n",
    "\n",
    "Plot a regression plot comparing Tuition and average SAT scores(SAT_AVG_ALL).\n",
    "Make sure the values are shown as green triangles.\n",
    "Use a residual plot to determine if the relationship looks linear."
   ]
  },
  {
   "cell_type": "code",
   "execution_count": null,
   "id": "f00419f4",
   "metadata": {},
   "outputs": [],
   "source": [
    "# Display a regression plot for Tuition\n",
    "sns.regplot(data=df,\n",
    "         y='Tuition',\n",
    "         x='SAT_AVG_ALL',\n",
    "         marker='^',\n",
    "         color='g')\n",
    "\n",
    "plt.show()\n",
    "plt.clf()\n",
    "\n",
    "# Display the residual plot\n",
    "sns.residplot(data=df,\n",
    "          y='Tuition',\n",
    "          x='SAT_AVG_ALL',\n",
    "          color='g')\n",
    "\n",
    "plt.show()\n",
    "plt.clf()"
   ]
  },
  {
   "cell_type": "markdown",
   "id": "9db17807",
   "metadata": {},
   "source": [
    "Regression plot parameters\n",
    "Seaborn's regression plot supports several parameters that can be used to configure the plots and drive more insight into the data.\n",
    "\n",
    "For the next exercise, we can look at the relationship between tuition and the percent of students that receive Pell grants. A Pell grant is based on student financial need and subsidized by the US Government. In this data set, each University has some percentage of students that receive these grants. Since this data is continuous, using x_bins can be useful to break the percentages into categories in order to summarize and understand the data.\n",
    "\n",
    "Instructions\n",
    "\n",
    "Plot a regression plot of Tuition and PCTPELL.\n",
    "Create another plot that breaks the PCTPELL column into 5 different bins.\n",
    "Create a final regression plot that includes a 2nd order polynomial regression line."
   ]
  },
  {
   "cell_type": "code",
   "execution_count": null,
   "id": "24d2f34d",
   "metadata": {},
   "outputs": [],
   "source": [
    "# Plot a regression plot of Tuition and the Percentage of Pell Grants\n",
    "sns.regplot(data=df,\n",
    "            y='Tuition',\n",
    "            x='PCTPELL')\n",
    "\n",
    "plt.show()\n",
    "plt.clf()\n",
    "\n",
    "# Create another plot that estimates the tuition by PCTPELL\n",
    "sns.regplot(data=df,\n",
    "            y='Tuition',\n",
    "            x='PCTPELL',\n",
    "            x_bins=5)\n",
    "\n",
    "plt.show()\n",
    "plt.clf()\n",
    "\n",
    "# The final plot should include a line using a 2nd order polynomial\n",
    "sns.regplot(data=df,\n",
    "            y='Tuition',\n",
    "            x='PCTPELL',\n",
    "            x_bins=5,\n",
    "            order=2)\n",
    "\n",
    "plt.show()\n",
    "plt.clf()"
   ]
  },
  {
   "cell_type": "markdown",
   "id": "5da6238c",
   "metadata": {},
   "source": [
    "Binning data\n",
    "When the data on the x axis is a continuous value, it can be useful to break it into different bins in order to get a better visualization of the changes in the data.\n",
    "\n",
    "For this exercise, we will look at the relationship between tuition and the Undergraduate population abbreviated as UG in this data. We will start by looking at a scatter plot of the data and examining the impact of different bin sizes on the visualization.\n",
    "\n",
    "Instructions\n",
    "\n",
    "Create a regplot of Tuition and UG and set the fit_reg parameter to False to disable the regression line.\n",
    "Create another plot with the UG data divided into 8 bins."
   ]
  },
  {
   "cell_type": "code",
   "execution_count": null,
   "id": "8e8c8a81",
   "metadata": {},
   "outputs": [],
   "source": [
    "# Create a scatter plot by disabling the regression line\n",
    "sns.regplot(data=df,\n",
    "            y='Tuition',\n",
    "            x='UG',\n",
    "            fit_reg=False)\n",
    "\n",
    "plt.show()\n",
    "plt.clf()\n",
    "\n",
    "# Create a scatter plot and bin the data into 8 bins\n",
    "sns.regplot(data=df,\n",
    "            y='Tuition',\n",
    "            x='UG',\n",
    "            x_bins=8)\n",
    "\n",
    "plt.show()\n",
    "plt.clf()"
   ]
  },
  {
   "cell_type": "markdown",
   "id": "ff877ed4",
   "metadata": {},
   "source": [
    "Creating heatmaps\n",
    "A heatmap is a common matrix plot that can be used to graphically summarize the relationship between two variables. For this exercise, we will start by looking at guests of the Daily Show from 1999 - 2015 and see how the occupations of the guests have changed over time.\n",
    "\n",
    "The data includes the date of each guest appearance as well as their occupation. For the first exercise, we need to get the data into the right format for Seaborn's heatmap function to correctly plot the data. All of the data has already been read into the df variable.\n",
    "\n",
    "Instructions\n",
    "\n",
    "Use pandas' crosstab() function to build a table of visits by Group and Year.\n",
    "Print the pd_crosstab DataFrame.\n",
    "Plot the data using Seaborn's heatmap()."
   ]
  },
  {
   "cell_type": "code",
   "execution_count": null,
   "id": "9fc759d7",
   "metadata": {},
   "outputs": [],
   "source": [
    "# Create a crosstab table of the data\n",
    "pd_crosstab = pd.crosstab(df[\"Group\"], df[\"YEAR\"])\n",
    "print(pd_crosstab)\n",
    "\n",
    "# Plot a heatmap of the table\n",
    "sns.heatmap(pd_crosstab)\n",
    "\n",
    "# Rotate tick marks for visibility\n",
    "plt.yticks(rotation=0)\n",
    "plt.xticks(rotation=90)\n",
    "\n",
    "plt.show()"
   ]
  },
  {
   "cell_type": "markdown",
   "id": "b0424905",
   "metadata": {},
   "source": [
    "Customizing heatmaps\n",
    "Seaborn supports several types of additional customizations to improve the output of a heatmap. For this exercise, we will continue to use the Daily Show data that is stored in the df variable but we will customize the output.\n",
    "\n",
    "Instructions\n",
    "\n",
    "Create a crosstab table of Group and YEAR\n",
    "Create a heatmap of the data using the BuGn palette\n",
    "Disable the cbar and increase the linewidth to 0.3"
   ]
  },
  {
   "cell_type": "code",
   "execution_count": null,
   "id": "01778144",
   "metadata": {},
   "outputs": [],
   "source": [
    "# Create the crosstab DataFrame\n",
    "pd_crosstab = pd.crosstab(df[\"Group\"], df[\"YEAR\"])\n",
    "\n",
    "# Plot a heatmap of the table with no color bar and using the BuGn palette\n",
    "sns.heatmap(pd_crosstab, cbar=False, cmap=\"BuGn\", linewidths=0.3)\n",
    "\n",
    "# Rotate tick marks for visibility\n",
    "plt.yticks(rotation=0)\n",
    "plt.xticks(rotation=90)\n",
    "\n",
    "#Show the plot\n",
    "plt.show()\n",
    "plt.clf()"
   ]
  },
  {
   "cell_type": "markdown",
   "id": "10e4c617",
   "metadata": {},
   "source": [
    "Building a FacetGrid\n",
    "Seaborn's FacetGrid is the foundation for building data-aware grids. A data-aware grid allows you to create a series of small plots that can be useful for understanding complex data relationships.\n",
    "\n",
    "For these exercises, we will continue to look at the College Scorecard Data from the US Department of Education. This rich dataset has many interesting data elements that we can plot with Seaborn.\n",
    "\n",
    "When building a FacetGrid, there are two steps:\n",
    "\n",
    "Create a FacetGrid object with columns, rows, or hue.\n",
    "Map individual plots to the grid.\n",
    "Instructions\n",
    "\n",
    "Create a FacetGrid that shows a point plot of the Average SAT scores SAT_AVG_ALL.\n",
    "Use row_order to control the display order of the degree types."
   ]
  },
  {
   "cell_type": "code",
   "execution_count": null,
   "id": "4bf8aa6f",
   "metadata": {},
   "outputs": [],
   "source": [
    "# Create FacetGrid with Degree_Type and specify the order of the rows using row_order\n",
    "g2 = sns.FacetGrid(df, \n",
    "             row=\"Degree_Type\",\n",
    "             row_order=['Graduate', 'Bachelors', 'Associates', 'Certificate'])\n",
    "\n",
    "# Map a pointplot of SAT_AVG_ALL onto the grid\n",
    "g2.map(sns.pointplot, 'SAT_AVG_ALL')\n",
    "\n",
    "# Show the plot\n",
    "plt.show()\n",
    "plt.clf()"
   ]
  },
  {
   "cell_type": "markdown",
   "id": "145fd6d9",
   "metadata": {},
   "source": [
    "Using a catplot\n",
    "In many cases, Seaborn's catplot() can be a simpler way to create a FacetGrid. Instead of creating a grid and mapping the plot, we can use the catplot() to create a plot with one line of code.\n",
    "\n",
    "For this exercise, we will recreate one of the plots from the previous exercise using catplot() and show how to create a boxplot on a data-aware grid.\n",
    "\n",
    "Instructions\n",
    "\n",
    "Create a catplot() that contains a boxplot (box) of Tuition values varying by Degree_Type across rows.\n",
    "Create a catplot() of SAT Averages (SAT_AVG_ALL) facetted across Degree_Type that shows a pointplot (point).\n",
    "Use row_order to order the degrees from highest to lowest level."
   ]
  },
  {
   "cell_type": "code",
   "execution_count": null,
   "id": "9a16bb9a",
   "metadata": {},
   "outputs": [],
   "source": [
    "# Create a factor plot that contains boxplots of Tuition values\n",
    "sns.catplot(data=df,\n",
    "         x='Tuition',\n",
    "         kind='box',\n",
    "         row='Degree_Type')\n",
    "\n",
    "plt.show()\n",
    "plt.clf()\n",
    "\n",
    "# Create a facetted pointplot of Average SAT_AVG_ALL scores facetted by Degree Type \n",
    "sns.catplot(data=df,\n",
    "        x='SAT_AVG_ALL',\n",
    "        kind='point',\n",
    "        row='Degree_Type',\n",
    "        row_order=['Graduate', 'Bachelors', 'Associates', 'Certificate'])\n",
    "\n",
    "plt.show()\n",
    "plt.clf()"
   ]
  },
  {
   "cell_type": "markdown",
   "id": "3dda8a0e",
   "metadata": {},
   "source": [
    "Using a lmplot\n",
    "The lmplot is used to plot scatter plots with regression lines on FacetGrid objects. The API is similar to catplot with the difference that the default behavior of lmplot is to plot regression lines.\n",
    "\n",
    "For the first set of exercises, we will look at the Undergraduate population (UG) and compare it to the percentage of students receiving Pell Grants (PCTPELL).\n",
    "\n",
    "For the second lmplot exercise, we can look at the relationships between Average SAT scores and Tuition across the different degree types and public vs. non-profit schools.\n",
    "\n",
    "Instructions\n",
    "\n",
    "Create a FacetGrid() with Degree_Type columns and scatter plot of UG and PCTPELL.\n",
    "Create a lmplot() using the same values from the FacetGrid().\n",
    "Create a facetted lmplot() comparing SAT_AVG_ALL to Tuition with columns varying by Ownership and rows by Degree_Type.\n",
    "In the lmplot() add a hue for Women Only Universities."
   ]
  },
  {
   "cell_type": "code",
   "execution_count": null,
   "id": "b3fded0a",
   "metadata": {},
   "outputs": [],
   "source": [
    "# Create a FacetGrid varying by column and columns ordered with the degree_order variable\n",
    "g = sns.FacetGrid(df, col=\"Degree_Type\", col_order=degree_ord)\n",
    "\n",
    "# Map a scatter plot of Undergrad Population compared to PCTPELL\n",
    "g.map(plt.scatter, 'UG', 'PCTPELL')\n",
    "\n",
    "plt.show()\n",
    "plt.clf()\n",
    "\n",
    "# Re-create the previous plot as an lmplot\n",
    "sns.lmplot(data=df,\n",
    "        x='UG',\n",
    "        y='PCTPELL',\n",
    "        col=\"Degree_Type\",\n",
    "        col_order=degree_ord)\n",
    "\n",
    "plt.show()\n",
    "plt.clf()\n",
    "\n",
    "# Create an lmplot that has a column for Ownership, a row for Degree_Type and hue based on the WOMENONLY column\n",
    "sns.lmplot(data=df,\n",
    "        x='SAT_AVG_ALL',\n",
    "        y='Tuition',\n",
    "        col=\"Ownership\",\n",
    "        row='Degree_Type',\n",
    "        row_order=['Graduate', 'Bachelors'],\n",
    "        hue='WOMENONLY',\n",
    "        col_order=inst_ord)\n",
    "\n",
    "plt.show()\n",
    "plt.clf()"
   ]
  },
  {
   "cell_type": "markdown",
   "id": "b48cd7af",
   "metadata": {},
   "source": [
    "Building a PairGrid\n",
    "When exploring a dataset, one of the earliest tasks is exploring the relationship between pairs of variables. This step is normally a precursor to additional investigation.\n",
    "\n",
    "Seaborn supports this pair-wise analysis using the PairGrid. In this exercise, we will look at the Car Insurance Premium data we analyzed in Chapter 1. All data is available in the df variable.\n",
    "\n",
    "Instructions\n",
    "\n",
    "Compare \"fatal_collisions\" to \"premiums\" by using a scatter plot mapped to a PairGrid().\n",
    "Create another PairGrid but plot a histogram on the diagonal and scatter plot on the off diagonal."
   ]
  },
  {
   "cell_type": "code",
   "execution_count": null,
   "id": "7cbc3d56",
   "metadata": {},
   "outputs": [],
   "source": [
    "# Create a PairGrid with a scatter plot for fatal_collisions and premiums\n",
    "g = sns.PairGrid(df, vars=[\"fatal_collisions\", \"premiums\"])\n",
    "g2 = g.map(sns.scatterplot)\n",
    "\n",
    "plt.show()\n",
    "plt.clf()\n",
    "\n",
    "# Create the same PairGrid but map a histogram on the diag\n",
    "g = sns.PairGrid(df, vars=[\"fatal_collisions\", \"premiums\"])\n",
    "g2 = g.map_diag(sns.histplot)\n",
    "g3 = g2.map_offdiag(sns.scatterplot)\n",
    "\n",
    "plt.show()\n",
    "plt.clf()"
   ]
  },
  {
   "cell_type": "markdown",
   "id": "e013e3d1",
   "metadata": {},
   "source": [
    "Using a pairplot\n",
    "The pairplot() function is generally a more convenient way to look at pairwise relationships. In this exercise, we will create the same results as the PairGrid using less code. Then, we will explore some additional functionality of the pairplot(). We will also use a different palette and adjust the transparency of the diagonal plots using the alpha parameter.\n",
    "\n",
    "Instructions\n",
    "\n",
    "Recreate the pairwise plot from the previous exercise using pairplot().\n",
    "Create another pairplot using the \"Region\" to color code the results. Use the RdBu palette to change the colors of the plot."
   ]
  },
  {
   "cell_type": "code",
   "execution_count": null,
   "id": "eb432890",
   "metadata": {},
   "outputs": [],
   "source": [
    "# Create a pairwise plot of the variables using a scatter plot\n",
    "sns.pairplot(data=df,\n",
    "        vars=[\"fatal_collisions\", \"premiums\"],\n",
    "        kind='scatter')\n",
    "\n",
    "plt.show()\n",
    "plt.clf()\n",
    "\n",
    "# Plot the same data but use a different color palette and color code by Region\n",
    "sns.pairplot(data=df,\n",
    "        vars=[\"fatal_collisions\", \"premiums\"],\n",
    "        kind='scatter',\n",
    "        hue='Region',\n",
    "        palette='RdBu',\n",
    "        diag_kws={'alpha':.5})\n",
    "\n",
    "plt.show()\n",
    "plt.clf()"
   ]
  },
  {
   "cell_type": "markdown",
   "id": "25da7c94",
   "metadata": {},
   "source": [
    "Additional pairplots\n",
    "This exercise will go through a couple of more examples of how the pairplot() can be customized for quickly analyzing data and determining areas of interest that might be worthy of additional analysis.\n",
    "\n",
    "One area of customization that is useful is to explicitly define the x_vars and y_vars that you wish to examine. Instead of examining all pairwise relationships, this capability allows you to look only at the specific interactions that may be of interest.\n",
    "\n",
    "We have already looked at using kind to control the types of plots. We can also use diag_kind to control the types of plots shown on the diagonals. In the final example, we will include a regression and kde plot in the pairplot.\n",
    "\n",
    "Instructions\n",
    "\n",
    "Create a pair plot that examines fatal_collisions_speeding and fatal_collisions_alc on the x axis and premiums and insurance_losses on the y axis.\n",
    "Use the husl palette and color code the scatter plot by Region.\n",
    "Build a pairplot() with kde plots along the diagonals. Include the insurance_losses and premiums as the variables.\n",
    "Use a reg plot for the the non-diagonal plots.\n",
    "Use the BrBG palette for the final plot."
   ]
  },
  {
   "cell_type": "code",
   "execution_count": null,
   "id": "2ac49728",
   "metadata": {},
   "outputs": [],
   "source": [
    "# Build a pairplot with different x and y variables\n",
    "sns.pairplot(data=df,\n",
    "        x_vars=[\"fatal_collisions_speeding\", \"fatal_collisions_alc\"],\n",
    "        y_vars=['premiums', 'insurance_losses'],\n",
    "        kind='scatter',\n",
    "        hue='Region',\n",
    "        palette='husl')\n",
    "\n",
    "plt.show()\n",
    "plt.clf()\n",
    "\n",
    "# plot relationships between insurance_losses and premiums\n",
    "sns.pairplot(data=df,\n",
    "             vars=[\"insurance_losses\", \"premiums\"],\n",
    "             kind='reg',\n",
    "             palette='BrBG',\n",
    "             diag_kind = 'kde',\n",
    "             hue='Region')\n",
    "\n",
    "plt.show()\n",
    "plt.clf()"
   ]
  },
  {
   "cell_type": "markdown",
   "id": "978f6d38",
   "metadata": {},
   "source": [
    "Building a JointGrid and jointplot\n",
    "Seaborn's JointGrid combines univariate plots such as histograms, rug plots and kde plots with bivariate plots such as scatter and regression plots. The process for creating these plots should be familiar to you now. These plots also demonstrate how Seaborn provides convenient functions to combine multiple plots together.\n",
    "\n",
    "For these exercises, we will use the bike share data that we reviewed earlier. In this exercise, we will look at the relationship between humidity levels and total rentals to see if there is an interesting relationship we might want to explore later.\n",
    "\n",
    "Instructions\n",
    "\n",
    "Use Seaborn's \"whitegrid\" style for these plots.\n",
    "Create a JointGrid() with \"hum\" on the x-axis and \"total_rentals\" on the y.\n",
    "Plot a regplot() and histplot() on the margins.\n",
    "Re-create the plot using a jointplot()."
   ]
  },
  {
   "cell_type": "code",
   "execution_count": null,
   "id": "fbcb3332",
   "metadata": {},
   "outputs": [],
   "source": [
    "# Build a JointGrid comparing humidity and total_rentals\n",
    "sns.set_style(\"whitegrid\")\n",
    "g = sns.JointGrid(x=\"hum\",\n",
    "            y=\"total_rentals\",\n",
    "            data=df,\n",
    "            xlim=(0.1, 1.0)) \n",
    "\n",
    "g.plot(sns.regplot, sns.histplot)\n",
    "\n",
    "plt.show()\n",
    "plt.clf()\n",
    "\n",
    "# Create a jointplot similar to the JointGrid \n",
    "sns.jointplot(x=\"hum\",\n",
    "        y=\"total_rentals\",\n",
    "        kind='reg',\n",
    "        data=df)\n",
    "\n",
    "plt.show()\n",
    "plt.clf()"
   ]
  },
  {
   "cell_type": "markdown",
   "id": "7ba28677",
   "metadata": {},
   "source": [
    "Jointplots and regression\n",
    "Since the previous plot does not show a relationship between humidity and rental amounts, we can look at another variable that we reviewed earlier. Specifically, the relationship between temp and total_rentals.\n",
    "\n",
    "Instructions\n",
    "\n",
    "Create a jointplot with a 2nd order polynomial regression plot comparing temp and total_rentals.\n",
    "Use a residual plot to check the appropriateness of the model."
   ]
  },
  {
   "cell_type": "code",
   "execution_count": null,
   "id": "a57bb3ff",
   "metadata": {},
   "outputs": [],
   "source": [
    "# Plot temp vs. total_rentals as a regression plot\n",
    "sns.jointplot(x=\"temp\",\n",
    "         y=\"total_rentals\",\n",
    "         kind='reg',\n",
    "         data=df,\n",
    "         order=2,\n",
    "         xlim=(0, 1))\n",
    "\n",
    "plt.show()\n",
    "plt.clf()\n",
    "\n",
    "# Plot a jointplot showing the residuals\n",
    "sns.jointplot(x=\"temp\",\n",
    "        y=\"total_rentals\",\n",
    "        kind='resid',\n",
    "        data=df,\n",
    "        order=2)\n",
    "\n",
    "plt.show()\n",
    "plt.clf()"
   ]
  },
  {
   "cell_type": "markdown",
   "id": "c335f2ef",
   "metadata": {},
   "source": [
    "Complex jointplots\n",
    "The jointplot is a convenience wrapper around many of the JointGrid functions. However, it is possible to overlay some of the JointGrid plots on top of the standard jointplot. In this example, we can look at the different distributions for riders that are considered casual versus those that are registered.\n",
    "\n",
    "Instructions\n",
    "\n",
    "Create a jointplot with a scatter plot comparing temp and casual riders.\n",
    "Overlay a kdeplot on top of the scatter plot.\n",
    "Build a similar plot for registered users."
   ]
  },
  {
   "cell_type": "code",
   "execution_count": null,
   "id": "3100a3c4",
   "metadata": {},
   "outputs": [],
   "source": [
    "# Create a jointplot of temp vs. casual riders\n",
    "# Include a kdeplot over the scatter plot\n",
    "g = sns.jointplot(x=\"temp\",\n",
    "             y=\"casual\",\n",
    "             kind='scatter',\n",
    "             data=df,\n",
    "             marginal_kws=dict(bins=10))\n",
    "g.plot_joint(sns.kdeplot)\n",
    "    \n",
    "plt.show()\n",
    "plt.clf()\n",
    "\n",
    "# Replicate the above plot but only for registered riders\n",
    "g = sns.jointplot(x=\"temp\",\n",
    "             y=\"registered\",\n",
    "             kind='scatter',\n",
    "             data=df,\n",
    "             marginal_kws=dict(bins=10))\n",
    "g.plot_joint(sns.kdeplot)\n",
    "\n",
    "plt.show()\n",
    "plt.clf()"
   ]
  }
 ],
 "metadata": {
  "kernelspec": {
   "display_name": "Python 3 (ipykernel)",
   "language": "python",
   "name": "python3"
  },
  "language_info": {
   "codemirror_mode": {
    "name": "ipython",
    "version": 3
   },
   "file_extension": ".py",
   "mimetype": "text/x-python",
   "name": "python",
   "nbconvert_exporter": "python",
   "pygments_lexer": "ipython3",
   "version": "3.9.12"
  }
 },
 "nbformat": 4,
 "nbformat_minor": 5
}
