{
 "cells": [
  {
   "cell_type": "markdown",
   "id": "80598964",
   "metadata": {},
   "source": [
    "Creating datetimes for dates\n",
    "Imagine that as a financial analyst, you are trying to understand the history of market crashes. In order to represent crashes in your code, you want to represent the times that they occurred. Two significant market crashes are the Kennedy Slide, also known as the Flash Crash, which started May 28, 1962, and the Black Monday crash of October 19th, 1987.\n",
    "\n",
    "Instructions\n",
    "\n",
    "Create a datetime for the current time.\n",
    "Create a datetime to represent the time of the Flash Crash.\n",
    "Create a datetime to represent the time of the Black Monday Crash."
   ]
  },
  {
   "cell_type": "code",
   "execution_count": null,
   "id": "42194a1b",
   "metadata": {},
   "outputs": [],
   "source": [
    "import datetime\n",
    "\n",
    "# Date and time now\n",
    "now = datetime.datetime.today()\n",
    "print(now)\n",
    "\n",
    "# Flash crash May 28, 1962\n",
    "flash_crash = datetime.datetime(1962, 5, 28)\n",
    "print(flash_crash)\n",
    "\n",
    "# Black Monday Oct 19, 1987\n",
    "black_monday = datetime.datetime(1987, 10, 19)\n",
    "print(black_monday)"
   ]
  },
  {
   "cell_type": "markdown",
   "id": "5b2dd9f7",
   "metadata": {},
   "source": [
    "Datetimes from strings\n",
    "Often you get dates in different formats. There are many different sources of data that represent dates as strings. Scraping web pages, user input, and text files are just a few. The format strings for mapping datetimes are can be found at strftime. Suppose that you have found dates for the mini-crash of October 1989, given as the string crash_text, and the recession of July 3rd 1990, given as the string recession_text, in different formats. How would you represent both in your Python code?\n",
    "\n",
    "Instructions\n",
    "\n",
    "Construct a format string that maps to the given text for the mini-crash of 1989.\n",
    "Construct a format string that maps to the text for the recession of 1990.\n",
    "Create a datetime representing the recession of 1990."
   ]
  },
  {
   "cell_type": "code",
   "execution_count": null,
   "id": "1335a404",
   "metadata": {},
   "outputs": [],
   "source": [
    "crash_text = \"Friday the 13th, Oct, 1989\"\n",
    "\n",
    "# Create a format string mapping the text\n",
    "crash_format_str = \"%A the %dth, %b, %Y\"\n",
    "min_crash = datetime.datetime.strptime(crash_text, crash_format_str)\n",
    "print(min_crash)\n",
    "\n",
    "recession_text = \"07/03/90\"\n",
    "\n",
    "# Create format string\n",
    "recession_format_str = \"%m/%d/%y\"\n",
    "\n",
    "# Create datetime from text using format string\n",
    "nineties_rec = datetime.datetime.strptime(\"07/03/90\", \"%m/%d/%y\")\n",
    "print(nineties_rec)"
   ]
  },
  {
   "cell_type": "markdown",
   "id": "9a21e25a",
   "metadata": {},
   "source": [
    "Converting format with datetimes\n",
    "With datetimes, you can read a string with one format and output a string with a different format. This means that you can use datetimes to change the format of string dates. The format strings for mapping datetimes are can be found at strftime. Let's say you are asked to process the date of the British Black Wednesday crash into a new format that fits the reporting needs of your company.\n",
    "\n",
    "Instructions\n",
    "\n",
    "Create a format string that fits the original string date, given as org_text.\n",
    "Create a datetime for Black Wednesday and save it as black_wednesday.\n",
    "Create a format string that fits the new format, 'Wednesday, September 16, 1992'.\n",
    "Create a new string date using the new format."
   ]
  },
  {
   "cell_type": "code",
   "execution_count": null,
   "id": "0ae9cd8a",
   "metadata": {},
   "outputs": [],
   "source": [
    "org_text = \"Sep 16 1992\"\n",
    "\n",
    "# Format string for original text\n",
    "org_format = \"%b %d %Y\"\n",
    "\n",
    "# Create datetime for Black Wednesday\n",
    "black_wednesday = datetime.datetime.strptime(org_text, org_format)\n",
    "print(black_wednesday)\n",
    "\n",
    "# New format: 'Wednesday, September 16, 1992'\n",
    "new_format = \"%A, %B %d, %Y\"\n",
    "\n",
    "# String in new format\n",
    "new_text = black_wednesday.strftime(new_format)\n",
    "print(new_text)"
   ]
  },
  {
   "cell_type": "markdown",
   "id": "4ffae04d",
   "metadata": {},
   "source": [
    "Accessing datetime attributes\n",
    "Suppose you are analyzing the tech bubble crash of 2000. For the sake of reporting, you need to assign the year, month, and day values to variables.\n",
    "\n",
    "Use the attributes of a datetime object to assign the correct values to these variables.\n",
    "\n",
    "Instructions\n",
    "\n",
    "Assign the year of the crash to the variable yr.\n",
    "Assign the month of the crash to the variable mth.\n",
    "Assign the day of the crash to the variable day."
   ]
  },
  {
   "cell_type": "code",
   "execution_count": null,
   "id": "177e3d99",
   "metadata": {},
   "outputs": [],
   "source": [
    "# March 10, 2000 Tech Bubble Crash\n",
    "tech_bubble = datetime(2000, 3, 10)\n",
    "\n",
    "# Access the year\n",
    "yr  = tech_bubble.year\n",
    "\n",
    "# Access the month\n",
    "mth = tech_bubble.month\n",
    "\n",
    "# Access the day\n",
    "day = tech_bubble.day\n",
    "\n",
    "print(f\"Year: {yr}, Month: {mth}, Day: {day}\")"
   ]
  },
  {
   "cell_type": "markdown",
   "id": "e01ff563",
   "metadata": {},
   "source": [
    "Comparing datetimes\n",
    "Imagine that you are trying to understand the events that made up the turbulent subprime crisis of 2008. You have a datetimes for some important dates. These include Lehman Brothers declaring bankruptcy, the passage of the TARP bill, and the movement of Goldman Sachs and Morgan Stanley out of investment banking.\n",
    "\n",
    "Instructions\n",
    "\n",
    "Determine if the Lehman Brothers bankruptcy happened before Morgan Stanley left investment banking.\n",
    "Determine if TARP was passed before Goldman Sachs left investment banking.\n",
    "Determine if Goldman Sachs and Morgan Stanley left investment banking at the same time."
   ]
  },
  {
   "cell_type": "code",
   "execution_count": null,
   "id": "b110841f",
   "metadata": {},
   "outputs": [],
   "source": [
    "# Lehman Brothers before Morgan Stanley?\n",
    "lehman_first = lehman < morgan_stanley\n",
    "\n",
    "print(f\"It is {lehman_first} that Lehman Brothers declared bankruptcy first.\")\n",
    "\n",
    "# Goldman Sachs after TARP?\n",
    "tarp_first = goldman_sachs > tarp\n",
    "\n",
    "print(f\"It is {tarp_first} that TARP was approved first.\")\n",
    "\n",
    "# Goldman Sachs and Morgan Stanley same day?\n",
    "same_time = goldman_sachs == morgan_stanley\n",
    "\n",
    "print(f\"It is {same_time} that Morgan Stanley and Goldman Sachs acted simultaneously\")"
   ]
  },
  {
   "cell_type": "markdown",
   "id": "201b06cf",
   "metadata": {},
   "source": [
    "Making relative datetimes\n",
    "The Troubled Asset Relief Program (TARP) was passed in October of 2008 in an attempt to stablize the US financial system during the crisis of 2007-2008. To investigate the state of markets before and after the passage of TARP, you wish to create some datetimes for times before and after.\n",
    "\n",
    "Instructions\n",
    "\n",
    "Create a datetime for one week before TARP was passed.\n",
    "Create a datetime for one week after TARP passed.\n",
    "Create a datetime for one year after TARP's passage."
   ]
  },
  {
   "cell_type": "code",
   "execution_count": null,
   "id": "725e2ef3",
   "metadata": {},
   "outputs": [],
   "source": [
    "from datetime import datetime, timedelta\n",
    "\n",
    "# TARP passed Oct 3 2008\n",
    "tarp = datetime(2008, 10, 3)\n",
    "\n",
    "# Seven days before TARP\n",
    "week_before = tarp - timedelta(days = 7)\n",
    "\n",
    "# Print week_before\n",
    "print(week_before)\n",
    "\n",
    "# One week after TARP\n",
    "week_after = tarp + timedelta(weeks = 1)\n",
    "\n",
    "# Print week_after\n",
    "print(week_after)\n",
    "\n",
    "# One year after TARP\n",
    "year_after = tarp + timedelta(weeks = 52)\n",
    "\n",
    "# Print year_after\n",
    "print(year_after)"
   ]
  },
  {
   "cell_type": "markdown",
   "id": "dd3e1b09",
   "metadata": {},
   "source": [
    "Creating and accessing dictionaries\n",
    "The CUSIP number is a nine-digit alphanumeric number used to identify most securities owned by American and Canadian companies. Let's suppose that in your work at a FinTech startup, you are tasked with writing reports for clients. Your internal reports use CUSIP numbers, but your clients need to see stock symbols. Create a mapping of CUSIP numbers to stock symbols that makes it easy to do lookups. A dictionary is an ideal data structure for this kind of mapping as it lets you do fast lookups based on a key-value (the CUSIP number in this case).\n",
    "\n",
    "Instructions\n",
    "\n",
    "Add an entry for the company Alphabet with a key of 38259P706 and a value of GOOG.\n",
    "Add an entry for Apple to cusip_lookup with a key of 037833100 and a value of AAPL.\n",
    "Lookup the symbol for Apple in cusip_lookup using its CUSIP number, 037833100."
   ]
  },
  {
   "cell_type": "code",
   "execution_count": null,
   "id": "81c368bc",
   "metadata": {},
   "outputs": [],
   "source": [
    "cusip_lookup = {}\n",
    "\n",
    "# Alphabet\n",
    "cusip_lookup['38259P706'] = 'GOOG'\n",
    "\n",
    "# Apple\n",
    "cusip_lookup['037833100'] = 'AAPL'\n",
    "\n",
    "# Lookup Apple\n",
    "cusip_lookup['037833100']"
   ]
  },
  {
   "cell_type": "markdown",
   "id": "7362f3c1",
   "metadata": {},
   "source": [
    "Accessing safely and deleting\n",
    "Alphabet Inc. was formed in 2015 as part of a corporate restructuring of Google. Analyzing the change in stock prices over time is a common task in the world of finance. One way to store stock data is to use the dates as keys and the prices as values in a dictionary. In this exercise, you access stock closing price data for the company Alphabet for various dates without knowing beforehand if each date has data available. The supplied dictionary alphabet_hist has datetimes as keys and stock closing prices as values. A datetime object named closing_price_date is supplied.\n",
    "\n",
    "Instructions\n",
    "\n",
    "Access the closing price for the day before in a way that is safe, even if that date is missing.\n",
    "Supply the default value 'Missing' to use if a key is missing from a dictionary so that your reporting will be more meaningful.\n",
    "After deciding that the data might be incorrect, delete the entry whose value is held in closing_price_date from alphabet_hist."
   ]
  },
  {
   "cell_type": "code",
   "execution_count": null,
   "id": "6e7778e4",
   "metadata": {},
   "outputs": [],
   "source": [
    "# Closing price for day before\n",
    "day_before_closing_price_date = closing_price_date - timedelta(days=1)\n",
    "\n",
    "# Safely print closing price day before or None if it's missing\n",
    "print(alphabet_hist.get(day_before_closing_price_date))\n",
    "\n",
    "# Get day eight weeks in future\n",
    "future_closing_price_date = closing_price_date + timedelta(weeks=8)\n",
    "\n",
    "# Safely get value for the future date or the string 'Missing'\n",
    "print(alphabet_hist.get(future_closing_price_date, 'Missing'))\n",
    "\n",
    "# Print with key\n",
    "print(alphabet_hist)\n",
    "\n",
    "# Remove entry\n",
    "del(alphabet_hist[closing_price_date])\n",
    "\n",
    "# Print with key deleted\n",
    "print(alphabet_hist)"
   ]
  },
  {
   "cell_type": "markdown",
   "id": "f67fe2aa",
   "metadata": {},
   "source": [
    "Assignment and equality\n",
    "When looking at someone's wealth, a distinction between cash and non-cash securities is important. Savings and checking accounts are cash securities. Stock positions are non-cash. Imagine that as part of balancing a client's wealth portfolio, you are asked to compare their cash and non-cash securities. The variable non_cash is provided with the value of the non-cash securities.\n",
    "\n",
    "Instructions\n",
    "\n",
    "Assign a value of 19.11 to the variable cash.\n",
    "Check if cash and non_cash have the same value.\n",
    "Assign to cash the value of non_cash.\n",
    "Confirm that cash and non_cash are equal."
   ]
  },
  {
   "cell_type": "code",
   "execution_count": null,
   "id": "07489f8d",
   "metadata": {},
   "outputs": [],
   "source": [
    "# Assign a value to cash.\n",
    "cash = 19.11\n",
    "\n",
    "# Check if cash is equal to non-cash\n",
    "print(cash == non_cash)\n",
    "\n",
    "# Assign the value of cash to be equal non-cash\n",
    "cash = non_cash\n",
    "\n",
    "# Check if cash is equal to non-cash\n",
    "print(cash == non_cash)"
   ]
  },
  {
   "cell_type": "markdown",
   "id": "08a48c74",
   "metadata": {},
   "source": [
    "Comparing dividends\n",
    "Dividends are payments made to stockholders, usually from profits that are not re-invested in a company. It is important to identify which stocks are paying higher dividends when analyzing how to balance stocks in a portfolio. Let's say that in your role analyzing a client's portfolio, you are tasked with comparing dividends from different holdings. The values of these dividends are provided in the variables d1 and d2.\n",
    "\n",
    "Instructions\n",
    "\n",
    "Find out if dividend d2 is greater than zero.\n",
    "See if dividend d1 is greater than d2.\n",
    "Check that dividend 1 is at least 100 units.\n",
    "Check that dividend 1 is not more than dividend 2."
   ]
  },
  {
   "cell_type": "code",
   "execution_count": null,
   "id": "82227db6",
   "metadata": {},
   "outputs": [],
   "source": [
    "# Check dividend is greater than zero\n",
    "print(d2 > 0)\n",
    "\n",
    "# Is dividend 1 is greater than dividend 2?\n",
    "print(d1 > d2)\n",
    "\n",
    "# Check dividend 1 is at least 100\n",
    "print(d1 >= 100)\n",
    "\n",
    "# Check dividend 2 is at least as much dividend 1\n",
    "print(d1 <= d2)"
   ]
  },
  {
   "cell_type": "markdown",
   "id": "18b23355",
   "metadata": {},
   "source": [
    "Decisions with Boolean operations\n",
    "Boolean operations are used in Python to make decisions. Imagine that you work as an analyst identifying accounts that might potentially participate in stock trades. You might use this information to advise qualifying clients on market moves. The variable is_investment_account is supplied. It is set to True if the given account includes stock positions as part of it's holdings. The supplied variable balance_positive is set to True if the account has a positive cash balance, which could be used to purchase securities.\n",
    "\n",
    "Instructions\n",
    "\n",
    "Print the value of the variable balance_positive.\n",
    "Set the variable potential_trade to True if the account is an investment account with a positive balance.\n",
    "Print the True if this is a potential trade."
   ]
  },
  {
   "cell_type": "code",
   "execution_count": null,
   "id": "44111157",
   "metadata": {},
   "outputs": [],
   "source": [
    "# Print the given variables\n",
    "print(is_investment_account)\n",
    "print(balance_positive)\n",
    "\n",
    "# Decide if this account is cantidate for trading advice\n",
    "potential_trade = is_investment_account and balance_positive\n",
    "\n",
    "# Print if this represents a potential trade\n",
    "print(potential_trade)"
   ]
  },
  {
   "cell_type": "markdown",
   "id": "2b1e6789",
   "metadata": {},
   "source": [
    "Assigning variables with Boolean operators\n",
    "You can use the fact that and and or are short-circuit operators to assign objects to variables in intelligent ways. Pretend that you are deciding what actions you should take with a client's account based on what they entered in a web-form. Unfortunately, they could submit the form with this field empty, so you need to set a default action just in case. The supplied variable input_action has the contents submitted by the client. The supplied variable is_trading_day is True if today is a day that trades are possible.\n",
    "\n",
    "Instructions\n",
    "\n",
    "If your client entered an action, assign it to the variable action. If they entered nothing, use the default action \"Hold\".\n",
    "Assign the action to the variable do_action if trades can be done today, otherwise assign it as False.\n",
    "Print the action that should be done."
   ]
  },
  {
   "cell_type": "code",
   "execution_count": null,
   "id": "140943bc",
   "metadata": {},
   "outputs": [],
   "source": [
    "# Assign a default action if no input\n",
    "action = input_action or \"Hold\"\n",
    "\n",
    "# Print the action\n",
    "print(action)\n",
    "\n",
    "# Assign action only if trades can be made\n",
    "do_action = is_trading_day and action\n",
    "\n",
    "# Print the action to do\n",
    "print(do_action)"
   ]
  },
  {
   "cell_type": "markdown",
   "id": "0947d06f",
   "metadata": {},
   "source": [
    "Negating with Boolean operators\n",
    "It is often the case that you need to combine Boolean operations to solve more complicated problems. Let's say that you need to know if you need to download the closing stock prices for today. You only want to do the operation if the markets have already closed. The closing prices are a list held in the provided variable closing_prices. The supplied variable market_closed is set to True once the markets close. Use Boolean operations and what you know about how objects evaluate in them to determine if you should download the data.\n",
    "\n",
    "Instructions\n",
    "\n",
    "Set the variable not_prices to True if you do not have closing prices for today.\n",
    "Set the variable get_prices to True if the market is closed and you don't have closing prices yet."
   ]
  },
  {
   "cell_type": "code",
   "execution_count": null,
   "id": "8be9aec5",
   "metadata": {},
   "outputs": [],
   "source": [
    "print(closing_prices)\n",
    "\n",
    "# Assigning True if we need to get the prices\n",
    "not_prices = not closing_prices\n",
    "print(not_prices)\n",
    "\n",
    "# Get prices if market is closed and we don't have prices\n",
    "get_prices = not (market_closed and not_prices)\n",
    "\n",
    "print(get_prices)"
   ]
  },
  {
   "cell_type": "markdown",
   "id": "e04dd3cf",
   "metadata": {},
   "source": [
    "Comparing sales and purchases\n",
    "If statements let you branch your code to take different actions depending on the state of your data. Imagine you are working at a small firm trying to keep the number items sold in balance with those purchased. You are supplied with two lists, purchases, which contains items purchased, and sales, which contains items sold. Use if statements to compare the two lists.\n",
    "\n",
    "Instructions\n",
    "\n",
    "Assign the number of sales to the variable num_sales.\n",
    "Check if the number of purchases is less than the number of sales.\n",
    "Write a control statement to check if there were fewer sales than purchases.\n",
    "Check if both sales and purchases are empty."
   ]
  },
  {
   "cell_type": "code",
   "execution_count": null,
   "id": "052d8f5b",
   "metadata": {},
   "outputs": [],
   "source": [
    "# Get number of purchases\n",
    "num_purchases = len(purchases)\n",
    "# Get number of sales\n",
    "num_sales = len(sales)\n",
    "\n",
    "# Check if more sales than purchases\n",
    "if num_purchases < num_sales:\n",
    "    print('buy more')\n",
    "    \n",
    "# Check if fewer sales than purchases\n",
    "if num_sales < num_purchases :\n",
    "    print('sell more')\n",
    "    \n",
    "# Check if both lists are empty\n",
    "if not (purchases or sales):\n",
    "    print('No sales or purchases')"
   ]
  },
  {
   "cell_type": "markdown",
   "id": "df6d6c1c",
   "metadata": {},
   "source": [
    "Branching with elif and else\n",
    "elif and else statements let you extend your code to handle cases not handled by your initial control statement. In this exercise you will sort security transactions based on their stock symbol. You might do this to better understand how some popular stocks are bought and sold. You are provided with the variable trn which holds the transaction, and the empty lists appl, tsla, and amzn to hold sorted transactions.\n",
    "\n",
    "Instructions\n",
    "\n",
    "If the symbol is 'APPL', add it to the list appl\n",
    "Write an statement to add 'TSLA' transaction to the list tsln.\n",
    "Add the case that adds 'AMZN' transactions to the list amzn.\n",
    "If the symbol is any other company, print it."
   ]
  },
  {
   "cell_type": "code",
   "execution_count": null,
   "id": "b51abc04",
   "metadata": {},
   "outputs": [],
   "source": [
    "# Get the symbol value\n",
    "symbol = trn['symbol']\n",
    "\n",
    "# Check if Apple stock\n",
    "if symbol == 'APPL':\n",
    "    appl.append(trn)\n",
    "# Check if Tesla stock\n",
    "elif symbol == 'TSLA':\n",
    "    tsla.append(trn)\n",
    "# Check if Amazon stock\n",
    "elif symbol == 'AMZN':\n",
    "    amzn.append(trn)\n",
    "# Handle other companies\n",
    "else:\n",
    "    print(symbol)"
   ]
  },
  {
   "cell_type": "markdown",
   "id": "f2aea6c3",
   "metadata": {},
   "source": [
    "Breaking out of a for loop\n",
    "You can use loops to perform operations which change depending on the data. For this exercise, you given a list of purchase transactions in the variable buys. You need to calculate the final balance of your client's account after the purchases have been made, but you do not want the account to have a negative balance. The initial account balance is provided in the variable balance.\n",
    "\n",
    "Instructions\n",
    "\n",
    "Create a loop which will iterate through the items in buys.\n",
    "Subtract the cost of a purchase from the provided variable balance.\n",
    "Check if the new balance would be negative.\n",
    "Stop the iteration of the loop to prevent a negative balance."
   ]
  },
  {
   "cell_type": "code",
   "execution_count": null,
   "id": "02fd7ffe",
   "metadata": {},
   "outputs": [],
   "source": [
    "for buy in buys:\n",
    "    print('Buying ' + buy['symbol'])\n",
    "    new_balance = balance - buy['total_cost']\n",
    "    if new_balance < 0:\n",
    "        print('Unable to finish buys')\n",
    "        break\n",
    "    balance = new_balance\n",
    "\n",
    "print(balance)"
   ]
  },
  {
   "cell_type": "markdown",
   "id": "dd80c380",
   "metadata": {},
   "source": [
    "Controlling loop execution\n",
    "A typical pattern is to create a while loop with True as its condition and use a break statement to end it. In this exercise, your manager wants you to assemble a list of the five most recent years that the US had a positive trade gap. The dictionary nea is a mapping of datetimes to floats representing the net export for a given year. An empty list named surplus_years and a datetime named query_date are supplied.\n",
    "\n",
    "Instructions\n",
    "\n",
    "Create a loop with a condition that is always true.\n",
    "Skip steps where net exports are less than zero.\n",
    "Check the number of surplus years gathered.\n",
    "Stop the loop once five years have been gathered."
   ]
  },
  {
   "cell_type": "code",
   "execution_count": null,
   "id": "2fe66981",
   "metadata": {},
   "outputs": [],
   "source": [
    "# Loop while true\n",
    "while True:\n",
    "    net_exports = nea.get(query_date, -1)\n",
    "    query_date = datetime(query_date.year - 1, 1, 1)\n",
    "    # Skip if net exports are not positive\n",
    "    if net_exports < 0:\n",
    "        continue   \n",
    "    surplus_years.append(query_date)\n",
    "    # Check if 5 years have been collected\n",
    "    if len(surplus_years) == 5:\n",
    "        # Stop the loop\n",
    "        break\n",
    "print(surplus_years)"
   ]
  },
  {
   "cell_type": "markdown",
   "id": "79744c9c",
   "metadata": {},
   "source": [
    "Creating DataFrames\n",
    "A security position is a record of ownership that includes the purchase price and date. This information is necessary if you want to calculate how much profit was made on a stock. You can have multiple positions of the same stock, if you purchase it multiple times. Use these positions of Apple stock to create DataFrames in this exercise:\n",
    "\n",
    "Sym\tPrice\tDate\n",
    "APPL\t105.00\t2015/12/31\n",
    "APPL\t117.05\t2017/12/01\n",
    "APPL\t289.80\t2019/12/27\n",
    "Instructions\n",
    "\n",
    "Create a dictionary with the exact column names holding the Apple data.\n",
    "Create a DataFrame using the dictionary.\n",
    "Create a list of dictionaries with the position data.\n",
    "Create a DataFrame using the list.\n",
    "Create a list of lists representing the positions data.\n",
    "Define the column names.\n",
    "Create a DataFrame from the data."
   ]
  },
  {
   "cell_type": "code",
   "execution_count": null,
   "id": "13fc02eb",
   "metadata": {},
   "outputs": [],
   "source": [
    "# Create dict holding the data\n",
    "data = {'Sym': ['APPL', 'APPL', 'APPL'],\n",
    "        'Price': [105.00, 117.05, 289.80],\n",
    "        'Date': ['2015/12/31', '2017/12/01', '2019/12/27']}\n",
    "# Make list of dictionaries\n",
    "data = [{'Sym': 'APPL', 'Price': 105.00, 'Date': '2015/12/31'},\n",
    "        {'Sym': 'APPL', 'Price': 117.05, 'Date': '2017/12/01'},\n",
    "        {'Sym': 'APPL', 'Price': 289.80, 'Date': '2019/12/27'}]\n",
    "\n",
    "# Create DataFrame from the data\n",
    "positions = pd.DataFrame(data=data)\n",
    "print(positions)\n",
    "\n",
    "# Define the column names\n",
    "columns = ['Sym', 'Price', 'Date']\n",
    "\n",
    "# Create a DataFrame with the data and column names\n",
    "df = pd.DataFrame(data=data, columns=columns)\n",
    "print(df)"
   ]
  },
  {
   "cell_type": "markdown",
   "id": "6d74e5ee",
   "metadata": {},
   "source": [
    "Reading market history\n",
    "Many data sources let you download data in the .csv file format. To understand a stocks performance over time it is useful to analyze its history. Imagine that you want to analyze the history of a stocks performance, looking at it closing prices for the last few months. The first thing you need to do is open the file as a DataFrame. The path to the .csv file containing the data is 'pcdg.csv'.\n",
    "\n",
    "Instructions\n",
    "\n",
    "Read the .csv file into a DataFrame.\n",
    "Print the DataFrame."
   ]
  },
  {
   "cell_type": "code",
   "execution_count": null,
   "id": "93bb57f4",
   "metadata": {},
   "outputs": [],
   "source": [
    "# Read the data\n",
    "stocks = pd.read_csv('pcdg.csv')\n",
    "\n",
    "# Look at the data\n",
    "print(stocks)"
   ]
  },
  {
   "cell_type": "markdown",
   "id": "d5a9bb81",
   "metadata": {},
   "source": [
    "Accessing using names\n",
    "In this exercise, you will access data that tracks an account over time. This account consists of wealth from both cash and equities. The data is supplied in a DataFrame named ledger with the index set to dates, represented as strings. The data looks like this:\n",
    "\n",
    "Cash\tSecurities\tBalance\n",
    "2020-10-01\t0.0\t-300.0\t1222.0\n",
    "2020-10-02\t300.0\t-200.0\t1322.0\n",
    "2020-10-03\t-100.0\t700.0\t1922.0\n",
    "Instructions\n",
    "\n",
    "Use column and row names to select the balance as of October 2nd.\n",
    "Select the balance as of October 3rd using names.\n",
    "Select cash and securities for October 3rd.\n",
    "Select the balances for October 1st and 3rd.\n",
    "Use slicing to select all columns for October 1st.\n",
    "Use slicing to select the balance for all dates."
   ]
  },
  {
   "cell_type": "code",
   "execution_count": null,
   "id": "71afe0f0",
   "metadata": {},
   "outputs": [],
   "source": [
    "# Select the Balance for October 2nd\n",
    "print(ledger.loc['2020-10-02','Balance'])\n",
    "\n",
    "# Select the Balance for October 3rd\n",
    "print(ledger.loc['2020-10-03','Balance'])\n",
    "\n",
    "# Cash and Securities for October 3rd\n",
    "print(ledger.loc['2020-10-03', ['Cash', 'Securities']])\n",
    "       \n",
    "# Balance for October 1st and 3rd\n",
    "print(ledger.loc[['2020-10-01', '2020-10-03'], 'Balance'])\n",
    "\n",
    "# All columns for October 1st\n",
    "print(ledger.loc['2020-10-01', :])\n",
    "\n",
    "# Balance for all dates\n",
    "print(ledger.loc[:, 'Balance'])"
   ]
  },
  {
   "cell_type": "markdown",
   "id": "12968403",
   "metadata": {},
   "source": [
    "Accessing using indexes\n",
    "In this exercise, you will select and set stock positions using the numerical indexes of the rows and columns in a DataFrame. The provided DataFrame has this data:\n",
    "\n",
    "Symbol\tPurchased\tQuantity\tPrice\n",
    "0\tAAPL\t2016-01-08\t23\t96.96\n",
    "1\tAAPL\t2018-09-07\t50\t221.30\n",
    "2\tAMZN\t2020-02-14\t14\t324.95\n",
    "Instructions\n",
    "\n",
    "Select the oldest price.\n",
    "Select the newest symbol.\n",
    "Use slicing to select the oldest two purchase dates.\n",
    "Use slicing to select the most recent purchase and quantity values.\n",
    "Set the quantity of the 2020 purchase to 15.\n",
    "Set all of the quantity values to zero."
   ]
  },
  {
   "cell_type": "code",
   "execution_count": null,
   "id": "8f0f2960",
   "metadata": {},
   "outputs": [],
   "source": [
    "# Cell first row, Price column\n",
    "print(positions.iloc[0, 3])\n",
    "\n",
    "# Cell last row, Symbol column\n",
    "print(positions.iloc[-1, 0])\n",
    "\n",
    "# Oldest two purchase dates\n",
    "print(positions.iloc[0:2, 1])\n",
    "\n",
    "# Newest purchase and quantity\n",
    "print(positions.iloc[2, 1:3])\n",
    "\n",
    "# Set 2020 quantity\n",
    "positions.iloc[2, 2] = 15\n",
    "\n",
    "print(positions)\n",
    "\n",
    "# Set quantity\n",
    "positions.iloc[:, 2] = 0\n",
    "\n",
    "print(positions)"
   ]
  },
  {
   "cell_type": "markdown",
   "id": "67091af0",
   "metadata": {},
   "source": [
    "Median prices\n",
    "There are times when the median is a better tool than the mean. Lets imagine that you are analyzing the stock data in the DataFrame prices again. You want to know if the stock's price is trending down by comparing the opening and closing prices. Remember the DataFrame has the columns OPEN, HI, LOW, and CLOSE.\n",
    "\n",
    "Instructions\n",
    "\n",
    "Calculate the median of the opening prices.\n",
    "Calculate the median of the closing prices.\n",
    "Compare the opening and closing medians to get the trend."
   ]
  },
  {
   "cell_type": "code",
   "execution_count": null,
   "id": "daecf84d",
   "metadata": {},
   "outputs": [],
   "source": [
    "# Get the median of the opening prices\n",
    "med_open = prices.loc[:, 'OPEN'].median()\n",
    "\n",
    "# Get the median of the closing prices\n",
    "med_close = prices.loc[:, 'CLOSE'].median()\n",
    "\n",
    "if med_open > med_close:\n",
    "    print(\"Trending down.\")"
   ]
  },
  {
   "cell_type": "markdown",
   "id": "d51cf470",
   "metadata": {},
   "source": [
    "Creating new columns\n",
    "Personal consumption expenditures (PCE) are a measurement of consumer consumption useful in judging the state and direction of the economy. Pretend that you are a financial analyst at an investment fund tasked with calculating PCE. PCE is the sum of consumption by consumers of durable goods (PCDG), non-durable goods (PCND), and services (PCESV). Let's calculate PCE using the list pcesv, the DataFrame pcnd, and PCDG from a CSV file.\n",
    "\n",
    "Instructions\n",
    "\n",
    "Create a column named PCESV from a list of values pcesv.\n",
    "Create a column named PCND from the DataFrame pcnd.\n",
    "Use the function .read_csv() to create a column named PCD' from the CSV file pcdg.csv.\n",
    "Create a new column named PCE by adding other columns together."
   ]
  },
  {
   "cell_type": "code",
   "execution_count": null,
   "id": "59deedd7",
   "metadata": {},
   "outputs": [],
   "source": [
    "# Use the list pcesv to create the column PCESV\n",
    "pce['PCESV'] = pcesv\n",
    "\n",
    "# Use the DataFrame pcnd to create the column PCND\n",
    "pce['PCND'] = pcnd\n",
    "\n",
    "# Create column for PCDG using Pandas read_csv\n",
    "pce['PCDG'] = pd.read_csv('pcdg.csv', index_col='DATE')\n",
    "\n",
    "# Create a column PCE by adding values from other columns\n",
    "pce['PCE'] = pce['PCDG'] + pce['PCND'] + pce['PCESV']\n",
    "pce.head()"
   ]
  },
  {
   "cell_type": "markdown",
   "id": "8554f5b3",
   "metadata": {},
   "source": [
    "Dropping columns from DataFrame\n",
    "Sometimes your DataFrame has columns that you no longer need. It is often the case that you need to simplify a DataFrame by removing columns. Do you remember from the video which method you need to use to drop a row or a column?\n",
    "\n",
    "Pretend that you wish to present the results of your PCE calculation to stakeholders at your company, without presenting the columns you used for the calculation. Drop the columns PCDG, PCND, and PCESV from the supplied DataFrame pce, leaving only the column PCE. The list columns_to_drop is provided.\n",
    "\n",
    "Instructions\n",
    "\n",
    "Print the columns of the pce DataFrame.\n",
    "Create a new DataFrame from pce without the columns in the list columns_to_drop.\n",
    "Print the columns of the new DataFrame.\n",
    "Drop the columns in columns_to_drop from the DataFrame pce in place."
   ]
  },
  {
   "cell_type": "code",
   "execution_count": null,
   "id": "20bd2cde",
   "metadata": {},
   "outputs": [],
   "source": [
    "columns_to_drop = ['PCDG', 'PCND', 'PCESV']\n",
    "\n",
    "# Print the current columns of the DataFrame pce\n",
    "print(pce.columns)\n",
    "\n",
    "# Create new_pce by dropping columns_to_drop from pce\n",
    "new_pce = pce.drop(columns=columns_to_drop)\n",
    "# Print the columns of the new DataFrame\n",
    "print(new_pce.columns)\n",
    "\n",
    "# Drop the columns in_place in the original DataFrame\n",
    "pce.drop(columns=columns_to_drop, inplace=True)\n",
    "\n",
    "# Print the columns of the DataFrame pce\n",
    "print(pce.columns)"
   ]
  },
  {
   "cell_type": "markdown",
   "id": "b33460a6",
   "metadata": {},
   "source": [
    "Manipulating data with Pandas\n",
    "You can combine data from different sources into a single DataFrame.\n",
    "\n",
    "Imagine that you are tasked with calculating GDP to understand the health of the US economy. You have gathered the data you need from disparate sources in different formats.\n",
    "\n",
    "You can calculate gross domestic product using the supplied DataFrames for personal consumption expenditures, government expenditures, gross private domestic investment, and net exports. The DataFrames ge, gpdi, ne, and pce are provided.\n",
    "\n",
    "Instructions\n",
    "\n",
    "Combine the supplied source DataFrames ge, gpdi, ne and pce in that order into a single new DataFrame.\n",
    "Sum the values in each row to produce the GDP per year."
   ]
  },
  {
   "cell_type": "code",
   "execution_count": null,
   "id": "5cd03e12",
   "metadata": {},
   "outputs": [],
   "source": [
    "# Combine the source DataFrames into one\n",
    "gdp = pd.concat([ge, gpdi, ne, pce], axis=1)\n",
    "\n",
    "# Add the columns and create a new column with the result\n",
    "gdp['GDP'] = gdp.agg(np.sum, axis=1)"
   ]
  },
  {
   "cell_type": "markdown",
   "id": "3d151052",
   "metadata": {},
   "source": [
    "Peek at top and bottom\n",
    "Analyzing historical price data is an important way to try to make future predictions. We will be using a dataset of stock data for the company Alphabet. This data includes opening, closing, high, and low prices per day. It is loaded into the DataFrame alphabet. Now it's your time to take a peak!\n",
    "\n",
    "Instructions\n",
    "\n",
    "Get the first five rows of data.\n",
    "Peek at the top seven rows.\n",
    "Peek at the just the last row."
   ]
  },
  {
   "cell_type": "code",
   "execution_count": null,
   "id": "01a98513",
   "metadata": {},
   "outputs": [],
   "source": [
    "# Peak at top five rows\n",
    "alphabet.head()\n",
    "\n",
    "# Peak at top seven rows.\n",
    "alphabet.head(7)\n",
    "\n",
    "# Peak at last row.\n",
    "alphabet.tail(1)"
   ]
  },
  {
   "cell_type": "markdown",
   "id": "4bcc22c5",
   "metadata": {},
   "source": [
    "Describing data\n",
    "Let continue investigating our historical stock data for Alphabet. In this exercise you will be asked to look at the summary statistics for the dataset. This is something you will want to do with most financial data to understand its range and shape. Once again the data is loaded into a DataFrame named alphabet.\n",
    "\n",
    "Instructions\n",
    "\n",
    "Get the summary statistics for all of the numeric columns.\n",
    "Get the summary statistics only for columns whose type is int.\n",
    "Get the summary statistics for all numeric columns, but with percentiles for %30, %50, and %60."
   ]
  },
  {
   "cell_type": "code",
   "execution_count": null,
   "id": "50ac5047",
   "metadata": {},
   "outputs": [],
   "source": [
    "# Get stats for all numeric columns\n",
    "alphabet.describe()\n",
    "\n",
    "# Get stats for integer columns only\n",
    "alphabet.describe(include='int')\n",
    "\n",
    "# Stats with percentiles for %30, %50, and %60\n",
    "alphabet.describe(percentiles=[.3, .5, .6])"
   ]
  },
  {
   "cell_type": "markdown",
   "id": "041aca5c",
   "metadata": {},
   "source": [
    "Filtering stock data.\n",
    "For this exercise you will be filtering Alphabet stock data, once again working with a DataFrame alphabet. The head of the DataFrame looks like this:\n",
    "\n",
    "close\tvolume\topen\thigh\tlow\n",
    "date\t\t\t\t\t\n",
    "2019-08-02\t1196.32\t1745450\t1203.00\t1209.500\t1190.00\n",
    "2019-08-01\t1211.78\t1771271\t1217.63\t1236.298\t1207.00\n",
    "2019-07-31\t1218.20\t1997999\t1224.87\t1234.910\t1208.18\n",
    "2019-07-30\t1228.00\t1430775\t1227.00\t1236.910\t1225.32\n",
    "2019-07-29\t1241.84\t2069127\t1242.50\t1248.995\t1230.20\n",
    "Instructions\n",
    "\n",
    "Create a mask for all of the rows whose daily high is greater than $500.\n",
    "Create a DataFrame using this mask.\n",
    "Create a mask for the volume of 1771271.\n",
    "Create a DataFrame of row(s) with a volume of 1771271.\n",
    "Make a mask for all rows where the volume does not equal 1997999.\n",
    "Filter using this mask."
   ]
  },
  {
   "cell_type": "code",
   "execution_count": null,
   "id": "a47b8123",
   "metadata": {},
   "outputs": [],
   "source": [
    "# Mask for large enough daily high\n",
    "high_mask = alphabet.high > 500\n",
    "\n",
    "# Filter using the mask\n",
    "alphabet.loc[high_mask]\n",
    "\n",
    "# Mask for specific volume\n",
    "volume_mask = alphabet.volume == 1771271\n",
    "\n",
    "# Filter using the mask\n",
    "alphabet.loc[volume_mask]\n",
    "\n",
    "# Mask rows whose volume is not 1997999\n",
    "volume_mask = alphabet.volume != 1997999\n",
    "\n",
    "# Filter using the mask\n",
    "alphabet.loc[volume_mask]"
   ]
  },
  {
   "cell_type": "markdown",
   "id": "2b7ff0f3",
   "metadata": {},
   "source": [
    "Selecting data from data range\n",
    "Pulling data that meets specific conditions is one of the most powerful and commonly used operations with DataFrames. You can try it now with Alphabet stock data. Provided is the DataFrame alphabet and the datetimes start_date and end_date. The DataFrame's head looks like this:\n",
    "\n",
    "date\tclose\tvolume\topen\thigh\tlow\n",
    "2019-08-02\t1196.32\t1745450\t1203.00\t1209.500\t1190.00\n",
    "2019-08-01\t1211.78\t1771271\t1217.63\t1236.298\t1207.00\n",
    "2019-07-31\t1218.20\t1997999\t1224.87\t1234.910\t1208.18\n",
    "2019-07-30\t1228.00\t1430775\t1227.00\t1236.910\t1225.32\n",
    "2019-07-29\t1241.84\t2069127\t1242.50\t1248.995\t1230.20\n",
    "Instructions\n",
    "\n",
    "Create a mask of historical dates in the given date range.\n",
    "A mask can be used to make a selection of rows from a DataFrame."
   ]
  },
  {
   "cell_type": "code",
   "execution_count": null,
   "id": "f6a10df3",
   "metadata": {},
   "outputs": [],
   "source": [
    "# Calculate the mask for one week\n",
    "mask = (alphabet['date'] >= start_date) & (alphabet['date'] <= end_date)\n",
    "\n",
    "# Use the mask to get the data for one week\n",
    "df = alphabet[mask]\n",
    "\n",
    "# Look at result\n",
    "print(df)"
   ]
  },
  {
   "cell_type": "markdown",
   "id": "57315291",
   "metadata": {},
   "source": [
    "Making a line plot\n",
    "In this exercise you will be creating a line plot using two weeks of our Alphabet stock data. The data is given as the DataFrame alphabet2w and looks like this:\n",
    "\n",
    "alphabet2w.head()\n",
    "             close     volume    open      high      low\n",
    "date\n",
    "2019-07-15   1150.51   1058431   1145.34   1150.68   1140.00\n",
    "2019-07-12   1145.34   1093933   1142.93   1147.50   1138.56\n",
    "2019-07-11   1144.08   1300529   1146.16   1153.24   1139.53\n",
    "2019-07-10   1140.91   1535546   1132.32   1142.34   1130.66\n",
    "2019-07-09   1124.29   1473622   1110.32   1127.86   1107.15\n",
    "Instructions\n",
    "\n",
    "Create a line plot of the high price using the date for the x-axis.\n",
    "Now rotate the x-axis label by 90 degrees.\n",
    "Add the title \"High Daily Prices\" to the plot."
   ]
  },
  {
   "cell_type": "code",
   "execution_count": null,
   "id": "a1adea3f",
   "metadata": {},
   "outputs": [],
   "source": [
    "# Plot the daily high price\n",
    "alphabet2w.plot(y='high', rot=90, title='High Daily Prices')"
   ]
  },
  {
   "cell_type": "markdown",
   "id": "5ced97d9",
   "metadata": {},
   "source": [
    "Choose kind of plot\n",
    "Let's make some different kinds of plots using our two-weeks of Alphabet stock data. The data is once again given in the DataFrame alphabet2w and looks like this:\n",
    "\n",
    "alphabet2w.head()\n",
    "             close     volume    open      high      low\n",
    "date\n",
    "2019-07-15   1150.51   1058431   1145.34   1150.68   1140.00\n",
    "2019-07-12   1145.34   1093933   1142.93   1147.50   1138.56\n",
    "2019-07-11   1144.08   1300529   1146.16   1153.24   1139.53\n",
    "2019-07-10   1140.91   1535546   1132.32   1142.34   1130.66\n",
    "2019-07-09   1124.29   1473622   1110.32   1127.86   1107.15\n",
    "Instructions\n",
    "\n",
    "Create a line plot of the daily trading volume using the date as the x-axis.\n",
    "Plot the volume using a bar plot.\n",
    "Create a histogram of the daily volume."
   ]
  },
  {
   "cell_type": "code",
   "execution_count": null,
   "id": "68241dce",
   "metadata": {},
   "outputs": [],
   "source": [
    "# Plot daily trade volume\n",
    "alphabet2w.plot( y = 'volume', rot=90, title='Alphabet Daily Volume')\n",
    "\n",
    "# Plot daily trade volume\n",
    "alphabet2w.plot(y='volume', kind='bar', title='Alphabet Daily Volume')\n",
    "\n",
    "# Plot daily trade volume\n",
    "alphabet2w.plot(y='volume', kind='hist', title='Alphabet Daily Volume')"
   ]
  }
 ],
 "metadata": {
  "kernelspec": {
   "display_name": "Python 3 (ipykernel)",
   "language": "python",
   "name": "python3"
  },
  "language_info": {
   "codemirror_mode": {
    "name": "ipython",
    "version": 3
   },
   "file_extension": ".py",
   "mimetype": "text/x-python",
   "name": "python",
   "nbconvert_exporter": "python",
   "pygments_lexer": "ipython3",
   "version": "3.9.12"
  }
 },
 "nbformat": 4,
 "nbformat_minor": 5
}
