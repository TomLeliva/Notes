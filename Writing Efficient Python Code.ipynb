{
 "cells": [
  {
   "cell_type": "markdown",
   "id": "c121366c",
   "metadata": {},
   "source": [
    "A taste of things to come\n",
    "In this exercise, you'll explore both the Non-Pythonic and Pythonic ways of looping over a list.\n",
    "\n",
    "names = ['Jerry', 'Kramer', 'Elaine', 'George', 'Newman']\n",
    "Suppose you wanted to collect the names in the above list that have six letters or more. In other programming languages, the typical approach is to create an index variable (i), use i to iterate over the list, and use an if statement to collect the names with six letters or more:\n",
    "\n",
    "i = 0\n",
    "new_list= []\n",
    "while i < len(names):\n",
    "    if len(names[i]) >= 6:\n",
    "        new_list.append(names[i])\n",
    "    i += 1\n",
    "Let's explore some more Pythonic ways of doing this.\n",
    "\n",
    "Instructions\n",
    "\n",
    "Print the list, new_list, that was created using a Non-Pythonic approach.\n",
    "A more Pythonic approach would loop over the contents of names, rather than using an index variable. Print better_list.\n",
    "The best Pythonic way of doing this is by using list comprehension. Print best_list."
   ]
  },
  {
   "cell_type": "code",
   "execution_count": null,
   "id": "6f3d3f7c",
   "metadata": {},
   "outputs": [],
   "source": [
    "# Print the list created using the Non-Pythonic approach\n",
    "i = 0\n",
    "new_list= []\n",
    "while i < len(names):\n",
    "    if len(names[i]) >= 6:\n",
    "        new_list.append(names[i])\n",
    "    i += 1\n",
    "print(new_list)\n",
    "\n",
    "# Print the list created by looping over the contents of names\n",
    "better_list = []\n",
    "for name in names:\n",
    "    if len(name) >= 6:\n",
    "        better_list.append(name)\n",
    "print(better_list)\n",
    "\n",
    "# Print the list created by using list comprehension\n",
    "best_list = [name for name in names if len(name) >= 6]\n",
    "print(best_list)"
   ]
  },
  {
   "cell_type": "markdown",
   "id": "597a8bde",
   "metadata": {},
   "source": [
    "Built-in practice: range()\n",
    "In this exercise, you will practice using Python's built-in function range(). Remember that you can use range() in a few different ways:\n",
    "\n",
    "1) Create a sequence of numbers from 0 to a stop value (which is exclusive). This is useful when you want to create a simple sequence of numbers starting at zero:\n",
    "\n",
    "range(stop)\n",
    "\n",
    "#Example\n",
    "list(range(11))\n",
    "\n",
    "[0, 1, 2, 3, 4, 5, 6, 7, 8, 9, 10]\n",
    "2) Create a sequence of numbers from a start value to a stop value (which is exclusive) with a step size. This is useful when you want to create a sequence of numbers that increments by some value other than one. For example, a list of even numbers:\n",
    "\n",
    "range(start, stop, step)\n",
    "\n",
    "#Example\n",
    "list(range(2,11,2))\n",
    "\n",
    "[2, 4, 6, 8, 10]\n",
    "\n",
    "\n",
    "Instructions\n",
    "\n",
    "Create a range object that starts at zero and ends at five. Only use a stop argument.\n",
    "Convert the nums variable into a list called nums_list.\n",
    "Create a new list called nums_list2 that starts at one, ends at eleven, and increments by two by unpacking a range object using the star character (*)."
   ]
  },
  {
   "cell_type": "code",
   "execution_count": null,
   "id": "15df3e1c",
   "metadata": {},
   "outputs": [],
   "source": [
    "# Create a range object that goes from 0 to 5\n",
    "nums = range(6)\n",
    "print(type(nums))\n",
    "\n",
    "# Convert nums to a list\n",
    "nums_list = list(nums)\n",
    "print(nums_list)\n",
    "\n",
    "# Create a new list of odd numbers from 1 to 11 by unpacking a range object\n",
    "nums_list2 = [*range(1,12,2)]\n",
    "print(nums_list2)"
   ]
  },
  {
   "cell_type": "markdown",
   "id": "81d31805",
   "metadata": {},
   "source": [
    "Built-in practice: enumerate()\n",
    "In this exercise, you'll practice using Python's built-in function enumerate(). This function is useful for obtaining an indexed list. For example, suppose you had a list of people that arrived at a party you are hosting. The list is ordered by arrival (Jerry was the first to arrive, followed by Kramer, etc.):\n",
    "\n",
    "names = ['Jerry', 'Kramer', 'Elaine', 'George', 'Newman']\n",
    "If you wanted to attach an index representing a person's arrival order, you could use the following for loop:\n",
    "\n",
    "indexed_names = []\n",
    "for i in range(len(names)):\n",
    "    index_name = (i, names[i])\n",
    "    indexed_names.append(index_name)\n",
    "\n",
    "[(0,'Jerry'),(1,'Kramer'),(2,'Elaine'),(3,'George'),(4,'Newman')]\n",
    "But, that's not the most efficient solution. Let's explore how to use enumerate() to make this more efficient.\n",
    "\n",
    "Instructions\n",
    "\n",
    "Instead of using for i in range(len(names)), update the for loop to use i as the index variable and name as the iterator variable and use enumerate().\n",
    "Rewrite the previous for loop using enumerate() and list comprehension to create a new list, indexed_names_comp.\n",
    "Create another list (indexed_names_unpack) by using the star character (*) to unpack the enumerate object created from using enumerate() on names. This time, start the index for enumerate() at one instead of zero."
   ]
  },
  {
   "cell_type": "code",
   "execution_count": null,
   "id": "89b5d2c1",
   "metadata": {},
   "outputs": [],
   "source": [
    "# Rewrite the for loop to use enumerate\n",
    "indexed_names = []\n",
    "for i,name in enumerate(names):\n",
    "    index_name = (i,name)\n",
    "    indexed_names.append(index_name) \n",
    "print(indexed_names)\n",
    "\n",
    "# Rewrite the above for loop using list comprehension\n",
    "indexed_names_comp = [(i,name) for i,name in enumerate(names)]\n",
    "print(indexed_names_comp)\n",
    "\n",
    "# Unpack an enumerate object with a starting index of one\n",
    "indexed_names_unpack = [*enumerate(names, 1)]\n",
    "print(indexed_names_unpack)"
   ]
  },
  {
   "cell_type": "markdown",
   "id": "1fa3e146",
   "metadata": {},
   "source": [
    "Built-in practice: map()\n",
    "In this exercise, you'll practice using Python's built-in map() function to apply a function to every element of an object. Let's look at a list of party guests:\n",
    "\n",
    "names = ['Jerry', 'Kramer', 'Elaine', 'George', 'Newman']\n",
    "Suppose you wanted to create a new list (called names_uppercase) that converted all the letters in each name to uppercase. you could accomplish this with the below for loop:\n",
    "\n",
    "names_uppercase = []\n",
    "\n",
    "for name in names:\n",
    "  names_uppercase.append(name.upper())\n",
    "\n",
    "['JERRY', 'KRAMER', 'ELAINE', 'GEORGE', 'NEWMAN']\n",
    "Let's explore using the map() function to do this more efficiently in one line of code.\n",
    "\n",
    "Instructions\n",
    "\n",
    "Use map() and the method str.upper() to convert each name in the list names to uppercase. Save this to the variable names_map.\n",
    "Print the data type of names_map.\n",
    "Unpack the contents of names_map into a list called names_uppercase using the star character (*).\n",
    "Print names_uppercase and observe its contents."
   ]
  },
  {
   "cell_type": "code",
   "execution_count": null,
   "id": "40ab4687",
   "metadata": {},
   "outputs": [],
   "source": [
    "# Use map to apply str.upper to each element in names\n",
    "names_map  = map(str.upper, names)\n",
    "\n",
    "# Print the type of the names_map\n",
    "print(type(names_map))\n",
    "\n",
    "# Unpack names_map into a list\n",
    "names_uppercase = [*list(names_map)]\n",
    "\n",
    "# Print the list created above\n",
    "print(names_uppercase)"
   ]
  },
  {
   "cell_type": "markdown",
   "id": "e7139a3f",
   "metadata": {},
   "source": [
    "Practice with NumPy arrays\n",
    "Let's practice slicing numpy arrays and using NumPy's broadcasting concept. Remember, broadcasting refers to a numpy array's ability to vectorize operations, so they are performed on all elements of an object at once.\n",
    "\n",
    "A two-dimensional numpy array has been loaded into your session (called nums) and printed into the console for your convenience. numpy has been imported into your session as np.\n",
    "\n",
    "Instructions\n",
    "\n",
    "Print the second row of nums.\n",
    "Print the items of nums that are greater than six.\n",
    "Create nums_dbl that doubles each number in nums.\n",
    "Replace the third column in nums with a new column that adds 1 to each item in the original column."
   ]
  },
  {
   "cell_type": "code",
   "execution_count": null,
   "id": "bbe58029",
   "metadata": {},
   "outputs": [],
   "source": [
    "# Print second row of nums\n",
    "print(nums[1,:])\n",
    "\n",
    "# Print all elements of nums that are greater than six\n",
    "print(nums[nums > 6])\n",
    "\n",
    "# Double every element of nums\n",
    "nums_dbl = nums * 2\n",
    "print(nums_dbl)\n",
    "\n",
    "# Replace the third column of nums\n",
    "nums[:,2] = nums[:,2] + 1\n",
    "print(nums)"
   ]
  },
  {
   "cell_type": "markdown",
   "id": "bc824fbf",
   "metadata": {},
   "source": [
    "Bringing it all together: Festivus!\n",
    "In this exercise, you will be throwing a party—a Festivus if you will!\n",
    "\n",
    "You have a list of guests (the names list). Each guest, for whatever reason, has decided to show up to the party in 10-minute increments. For example, Jerry shows up to Festivus 10 minutes into the party's start time, Kramer shows up 20 minutes into the party, and so on and so forth.\n",
    "\n",
    "We want to write a few simple lines of code, using the built-ins we have covered, to welcome each of your guests and let them know how many minutes late they are to your party. Note that numpy has been imported into your session as np and the names list has been loaded as well.\n",
    "\n",
    "Let's welcome your guests!\n",
    "\n",
    "Instructions\n",
    "\n",
    "Use range() to create a list of arrival times (10 through 50 incremented by 10). Create the list arrival_times by unpacking the range object.\n",
    "You realize your clock is three minutes fast. Convert the arrival_times list into a numpy array (called arrival_times_np) and use NumPy broadcasting to subtract three minutes from each arrival time.\n",
    "Use list comprehension with enumerate() to pair each guest in the names list to their updated arrival time in the new_times array. You'll need to use the index variable created from using enumerate() on new_times to index the names list.\n",
    "A function named welcome_guest() has been pre-loaded into your session. Use map() to apply this function to each element of the guest_arrivals list and save it as the variable welcome_map."
   ]
  },
  {
   "cell_type": "code",
   "execution_count": null,
   "id": "77cf45fd",
   "metadata": {},
   "outputs": [],
   "source": [
    "# Create a list of arrival times\n",
    "arrival_times = [*range(10, 60, 10)]\n",
    "\n",
    "print(arrival_times)\n",
    "\n",
    "# Convert arrival_times to an array and update the times\n",
    "arrival_times_np = np.array(arrival_times)\n",
    "new_times = arrival_times_np - 3\n",
    "\n",
    "# Use list comprehension and enumerate to pair guests to new times\n",
    "guest_arrivals = [(names[i],time) for i,time in enumerate(new_times)]\n",
    "\n",
    "# Map the welcome_guest function to each (guest,time) pair\n",
    "welcome_map = map(welcome_guest ,guest_arrivals)\n",
    "\n",
    "guest_welcomes = [*welcome_map]\n",
    "print(*guest_welcomes, sep='\\n')"
   ]
  },
  {
   "cell_type": "markdown",
   "id": "3cce7fed",
   "metadata": {},
   "source": [
    "Using %timeit: your turn!\n",
    "You'd like to create a list of integers from 0 to 50 using the range() function. However, you are unsure whether using list comprehension or unpacking the range object into a list is faster. Let's use %timeit to find the best implementation.\n",
    "\n",
    "For your convenience, a reference table of time orders of magnitude is provided below (faster at the top).\n",
    "\n",
    "symbol\tname\tunit (s)\n",
    "ns\tnanosecond\t10-9\n",
    "µs (us)\tmicrosecond\t10-6\n",
    "ms\tmillisecond\t10-3\n",
    "s\tsecond\t100\n",
    "Instructions\n",
    "\n",
    "Use list comprehension and range() to create a list of integers from 0 to 50 called nums_list_comp.\n",
    "Use range() to create a list of integers from 0 to 50 and unpack its contents into a list called nums_unpack."
   ]
  },
  {
   "cell_type": "code",
   "execution_count": null,
   "id": "8ab23c50",
   "metadata": {},
   "outputs": [],
   "source": [
    "# Create a list of integers (0-50) using list comprehension\n",
    "nums_list_comp = [num for num in range(51)]\n",
    "print(nums_list_comp)\n",
    "\n",
    "# Create a list of integers (0-50) by unpacking range\n",
    "nums_unpack = [*list(nums_list_comp)]\n",
    "print(nums_unpack)"
   ]
  },
  {
   "cell_type": "markdown",
   "id": "e2f6b214",
   "metadata": {},
   "source": [
    "Using %timeit: formal name or literal syntax\n",
    "Python allows you to create data structures using either a formal name or a literal syntax. In this exercise, you'll explore how using a literal syntax for creating a data structure can speed up runtimes.\n",
    "\n",
    "data structure\tformal name\tliteral syntax\n",
    "list\tlist()\t[]\n",
    "dictionary\tdict()\t{}\n",
    "tuple\ttuple()\t()\n",
    "\n",
    "Instructions\n",
    "\n",
    "Create an empty list called formal_list using the formal name (list()).\n",
    "Create an empty list called literal_list using the literal syntax ([]).\n",
    "Print out the type of formal_list and literal_list to show that both naming conventions create a list."
   ]
  },
  {
   "cell_type": "code",
   "execution_count": null,
   "id": "b2d13a69",
   "metadata": {},
   "outputs": [],
   "source": [
    "# Create a list using the formal name\n",
    "formal_list = list()\n",
    "print(formal_list)\n",
    "\n",
    "# Create a list using the literal syntax\n",
    "literal_list = []\n",
    "print(literal_list)\n",
    "\n",
    "# Print out the type of formal_list\n",
    "print(type(formal_list))\n",
    "\n",
    "# Print out the type of literal_list\n",
    "print(type(literal_list))"
   ]
  },
  {
   "cell_type": "markdown",
   "id": "a11ba786",
   "metadata": {},
   "source": [
    "Bringing it all together: Star Wars profiling\n",
    "A list of 480 superheroes has been loaded into your session (called heroes) as well as a list of each hero's corresponding publisher (called publishers).\n",
    "\n",
    "You'd like to filter the heroes list based on a hero's specific publisher, but are unsure which of the below functions is more efficient.\n",
    "\n",
    "def get_publisher_heroes(heroes, publishers, desired_publisher):\n",
    "\n",
    "    desired_heroes = []\n",
    "\n",
    "    for i,pub in enumerate(publishers):\n",
    "        if pub == desired_publisher:\n",
    "            desired_heroes.append(heroes[i])\n",
    "\n",
    "    return desired_heroes\n",
    "def get_publisher_heroes_np(heroes, publishers, desired_publisher):\n",
    "\n",
    "    heroes_np = np.array(heroes)\n",
    "    pubs_np = np.array(publishers)\n",
    "\n",
    "    desired_heroes = heroes_np[pubs_np == desired_publisher]\n",
    "\n",
    "    return desired_heroes\n",
    "Instructions\n",
    "\n",
    "Use the get_publisher_heroes() function and the get_publisher_heroes_np() function to collect heroes from the Star Wars universe. The desired_publisher for Star Wars is 'George Lucas'."
   ]
  },
  {
   "cell_type": "code",
   "execution_count": null,
   "id": "ef9ad04e",
   "metadata": {},
   "outputs": [],
   "source": [
    "# Use get_publisher_heroes() to gather Star Wars heroes\n",
    "star_wars_heroes = get_publisher_heroes(heroes, publishers, 'George Lucas')\n",
    "\n",
    "print(star_wars_heroes)\n",
    "print(type(star_wars_heroes))\n",
    "\n",
    "# Use get_publisher_heroes_np() to gather Star Wars heroes\n",
    "star_wars_heroes_np = get_publisher_heroes_np(heroes, publishers, 'George Lucas')\n",
    "\n",
    "print(star_wars_heroes_np)\n",
    "print(type(star_wars_heroes_np))"
   ]
  },
  {
   "cell_type": "markdown",
   "id": "fb4e9553",
   "metadata": {},
   "source": []
  },
  {
   "cell_type": "code",
   "execution_count": null,
   "id": "076817c5",
   "metadata": {},
   "outputs": [],
   "source": []
  },
  {
   "cell_type": "markdown",
   "id": "c8424658",
   "metadata": {},
   "source": []
  },
  {
   "cell_type": "code",
   "execution_count": null,
   "id": "99aa7ce5",
   "metadata": {},
   "outputs": [],
   "source": []
  },
  {
   "cell_type": "markdown",
   "id": "3968f692",
   "metadata": {},
   "source": []
  },
  {
   "cell_type": "code",
   "execution_count": null,
   "id": "4dbbcb62",
   "metadata": {},
   "outputs": [],
   "source": []
  },
  {
   "cell_type": "markdown",
   "id": "5859c750",
   "metadata": {},
   "source": []
  },
  {
   "cell_type": "code",
   "execution_count": null,
   "id": "1cba064c",
   "metadata": {},
   "outputs": [],
   "source": []
  },
  {
   "cell_type": "markdown",
   "id": "8f2bbb87",
   "metadata": {},
   "source": []
  },
  {
   "cell_type": "code",
   "execution_count": null,
   "id": "69371525",
   "metadata": {},
   "outputs": [],
   "source": []
  },
  {
   "cell_type": "markdown",
   "id": "d84125a1",
   "metadata": {},
   "source": []
  },
  {
   "cell_type": "code",
   "execution_count": null,
   "id": "443abbe6",
   "metadata": {},
   "outputs": [],
   "source": []
  },
  {
   "cell_type": "markdown",
   "id": "c1b43d4c",
   "metadata": {},
   "source": []
  },
  {
   "cell_type": "code",
   "execution_count": null,
   "id": "2b83e3fd",
   "metadata": {},
   "outputs": [],
   "source": []
  },
  {
   "cell_type": "markdown",
   "id": "61694aac",
   "metadata": {},
   "source": []
  },
  {
   "cell_type": "code",
   "execution_count": null,
   "id": "e73e48a1",
   "metadata": {},
   "outputs": [],
   "source": []
  },
  {
   "cell_type": "markdown",
   "id": "200f1f83",
   "metadata": {},
   "source": []
  },
  {
   "cell_type": "code",
   "execution_count": null,
   "id": "39bf4c6b",
   "metadata": {},
   "outputs": [],
   "source": []
  },
  {
   "cell_type": "markdown",
   "id": "1d4c5680",
   "metadata": {},
   "source": []
  },
  {
   "cell_type": "code",
   "execution_count": null,
   "id": "57c86aa7",
   "metadata": {},
   "outputs": [],
   "source": []
  },
  {
   "cell_type": "markdown",
   "id": "cf0b54ce",
   "metadata": {},
   "source": []
  },
  {
   "cell_type": "code",
   "execution_count": null,
   "id": "fa40b465",
   "metadata": {},
   "outputs": [],
   "source": []
  },
  {
   "cell_type": "markdown",
   "id": "1f4b414c",
   "metadata": {},
   "source": []
  },
  {
   "cell_type": "code",
   "execution_count": null,
   "id": "2605a934",
   "metadata": {},
   "outputs": [],
   "source": []
  },
  {
   "cell_type": "markdown",
   "id": "51fd1c1c",
   "metadata": {},
   "source": []
  },
  {
   "cell_type": "code",
   "execution_count": null,
   "id": "cc73f333",
   "metadata": {},
   "outputs": [],
   "source": []
  },
  {
   "cell_type": "markdown",
   "id": "d2306ddd",
   "metadata": {},
   "source": []
  },
  {
   "cell_type": "code",
   "execution_count": null,
   "id": "939ad497",
   "metadata": {},
   "outputs": [],
   "source": []
  },
  {
   "cell_type": "markdown",
   "id": "eef33b3d",
   "metadata": {},
   "source": []
  },
  {
   "cell_type": "code",
   "execution_count": null,
   "id": "8ae33226",
   "metadata": {},
   "outputs": [],
   "source": []
  },
  {
   "cell_type": "markdown",
   "id": "29e2d350",
   "metadata": {},
   "source": []
  },
  {
   "cell_type": "code",
   "execution_count": null,
   "id": "1c116726",
   "metadata": {},
   "outputs": [],
   "source": []
  },
  {
   "cell_type": "markdown",
   "id": "5ab75ea1",
   "metadata": {},
   "source": []
  },
  {
   "cell_type": "code",
   "execution_count": null,
   "id": "cd6d3c69",
   "metadata": {},
   "outputs": [],
   "source": []
  },
  {
   "cell_type": "markdown",
   "id": "fc8995d1",
   "metadata": {},
   "source": []
  },
  {
   "cell_type": "code",
   "execution_count": null,
   "id": "e170a732",
   "metadata": {},
   "outputs": [],
   "source": []
  },
  {
   "cell_type": "markdown",
   "id": "b61848eb",
   "metadata": {},
   "source": []
  },
  {
   "cell_type": "code",
   "execution_count": null,
   "id": "959a09ba",
   "metadata": {},
   "outputs": [],
   "source": []
  }
 ],
 "metadata": {
  "kernelspec": {
   "display_name": "Python 3 (ipykernel)",
   "language": "python",
   "name": "python3"
  },
  "language_info": {
   "codemirror_mode": {
    "name": "ipython",
    "version": 3
   },
   "file_extension": ".py",
   "mimetype": "text/x-python",
   "name": "python",
   "nbconvert_exporter": "python",
   "pygments_lexer": "ipython3",
   "version": "3.9.12"
  }
 },
 "nbformat": 4,
 "nbformat_minor": 5
}
