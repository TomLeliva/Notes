{
 "cells": [
  {
   "cell_type": "markdown",
   "id": "2bd6aaa7",
   "metadata": {},
   "source": [
    "Making a scatter plot with lists\n",
    "In this exercise, we'll use a dataset that contains information about 227 countries. This dataset has lots of interesting information on each country, such as the country's birth rates, death rates, and its gross domestic product (GDP). GDP is the value of all the goods and services produced in a year, expressed as dollars per person.\n",
    "\n",
    "We've created three lists of data from this dataset to get you started. gdp is a list that contains the value of GDP per country, expressed as dollars per person. phones is a list of the number of mobile phones per 1,000 people in that country. Finally, percent_literate is a list that contains the percent of each country's population that can read and write.\n",
    "\n",
    "Instructions\n",
    "\n",
    "Import Matplotlib and Seaborn using the standard naming convention.\n",
    "Create a scatter plot of GDP (gdp) vs. number of phones per 1000 people (phones).\n",
    "Display the plot.\n",
    "Change the scatter plot so it displays the percent of the population that can read and write (percent_literate) on the y-axis."
   ]
  },
  {
   "cell_type": "code",
   "execution_count": null,
   "id": "4a586b0f",
   "metadata": {},
   "outputs": [],
   "source": [
    "# Import Matplotlib and Seaborn\n",
    "import matplotlib.pyplot as plt\n",
    "import seaborn as sns\n",
    "\n",
    "# Create scatter plot with GDP on the x-axis and number of phones on the y-axis\n",
    "sns.scatterplot(x=gdp, y=phones)\n",
    "\n",
    "# Change this scatter plot to have percent literate on the y-axis\n",
    "sns.scatterplot(x=gdp, y=percent_literate)\n",
    "\n",
    "# Show plot\n",
    "plt.show()"
   ]
  },
  {
   "cell_type": "markdown",
   "id": "f28f7e4b",
   "metadata": {},
   "source": [
    "Making a count plot with a list\n",
    "In the last exercise, we explored a dataset that contains information about 227 countries. Let's do more exploration of this data - specifically, how many countries are in each region of the world?\n",
    "\n",
    "To do this, we'll need to use a count plot. Count plots take in a categorical list and return bars that represent the number of list entries per category. You can create one here using a list of regions for each country, which is a variable named region.\n",
    "\n",
    "Instructions\n",
    "\n",
    "Import Matplotlib and Seaborn using the standard naming conventions.\n",
    "Use Seaborn to create a count plot with region on the y-axis.\n",
    "Display the plot."
   ]
  },
  {
   "cell_type": "code",
   "execution_count": null,
   "id": "709bcaa0",
   "metadata": {},
   "outputs": [],
   "source": [
    "# Import Matplotlib and Seaborn\n",
    "import matplotlib.pyplot as plt\n",
    "import seaborn as sns\n",
    "\n",
    "# Create count plot with region on the y-axis\n",
    "sns.countplot(y=region)\n",
    "\n",
    "# Show plot\n",
    "plt.show()"
   ]
  },
  {
   "cell_type": "markdown",
   "id": "c69199a3",
   "metadata": {},
   "source": [
    "\"Tidy\" vs. \"untidy\" data\n",
    "Here, we have a sample dataset from a survey of children about their favorite animals. But can we use this dataset as-is with Seaborn? Let's use pandas to import the csv file with the data collected from the survey and determine whether it is tidy, which is essential to having it work well with Seaborn.\n",
    "\n",
    "To get you started, the filepath to the csv file has been assigned to the variable csv_filepath.\n",
    "\n",
    "Note that because csv_filepath is a Python variable, you will not need to put quotation marks around it when you read the csv.\n",
    "\n",
    "Instructions\n",
    "\n",
    "Read the csv file located at csv_filepath into a DataFrame named df.\n",
    "Print the head of df to show the first five rows."
   ]
  },
  {
   "cell_type": "code",
   "execution_count": null,
   "id": "d0aaea54",
   "metadata": {},
   "outputs": [],
   "source": [
    "# Import pandas\n",
    "import pandas as pd\n",
    "\n",
    "# Create a DataFrame from csv file\n",
    "df = pd.read_csv(csv_filepath)\n",
    "\n",
    "# Print the head of df\n",
    "print(df.head())"
   ]
  },
  {
   "cell_type": "markdown",
   "id": "ae20992f",
   "metadata": {},
   "source": [
    "Making a count plot with a DataFrame\n",
    "In this exercise, we'll look at the responses to a survey sent out to young people. Our primary question here is: how many young people surveyed report being scared of spiders? Survey participants were asked to agree or disagree with the statement \"I am afraid of spiders\". Responses vary from 1 to 5, where 1 is \"Strongly disagree\" and 5 is \"Strongly agree\".\n",
    "\n",
    "To get you started, the filepath to the csv file with the survey data has been assigned to the variable csv_filepath.\n",
    "\n",
    "Note that because csv_filepath is a Python variable, you will not need to put quotation marks around it when you read the csv.\n",
    "\n",
    "Instructions\n",
    "\n",
    "Import Matplotlib, pandas, and Seaborn using the standard names.\n",
    "Create a DataFrame named df from the csv file located at csv_filepath.\n",
    "Use the countplot() function with the x= and data= arguments to create a count plot with the \"Spiders\" column values on the x-axis.\n",
    "Display the plot."
   ]
  },
  {
   "cell_type": "code",
   "execution_count": null,
   "id": "b7f39693",
   "metadata": {},
   "outputs": [],
   "source": [
    "# Import Matplotlib, pandas, and Seaborn\n",
    "import matplotlib.pyplot as plt\n",
    "import pandas as pd\n",
    "import seaborn as sns\n",
    "\n",
    "# Create a DataFrame from csv file\n",
    "df = pd.read_csv(csv_filepath)\n",
    "\n",
    "# Create a count plot with \"Spiders\" on the x-axis\n",
    "sns.countplot(x='Spiders', data = df)\n",
    "\n",
    "# Display the plot\n",
    "plt.show()"
   ]
  },
  {
   "cell_type": "markdown",
   "id": "45a7bb85",
   "metadata": {},
   "source": [
    "Hue and scatter plots\n",
    "In the prior video, we learned how hue allows us to easily make subgroups within Seaborn plots. Let's try it out by exploring data from students in secondary school. We have a lot of information about each student like their age, where they live, their study habits and their extracurricular activities.\n",
    "\n",
    "For now, we'll look at the relationship between the number of absences they have in school and their final grade in the course, segmented by where the student lives (rural vs. urban area).\n",
    "\n",
    "Instructions\n",
    "\n",
    "Create a scatter plot with \"absences\" on the x-axis and final grade (\"G3\") on the y-axis using the DataFrame student_data. Color the plot points based on \"location\" (urban vs. rural).\n",
    "Make \"Rural\" appear before \"Urban\" in the plot legend."
   ]
  },
  {
   "cell_type": "code",
   "execution_count": null,
   "id": "18128982",
   "metadata": {},
   "outputs": [],
   "source": [
    "# Import Matplotlib and Seaborn\n",
    "import matplotlib.pyplot as plt\n",
    "import seaborn as sns\n",
    "\n",
    "# Change the legend order in the scatter plot\n",
    "hue_colors = {\"Urban\":'xkcd:violet', \"Rural\":'xkcd:bright green' }\n",
    "\n",
    "sns.scatterplot(x=\"absences\", y=\"G3\", \n",
    "                data=student_data, \n",
    "                hue=\"location\", hue_order = ['Rural', 'Urban'], palette = hue_colors)\n",
    "\n",
    "# Show plot\n",
    "plt.show()"
   ]
  },
  {
   "cell_type": "markdown",
   "id": "83004f38",
   "metadata": {},
   "source": [
    "Hue and count plots\n",
    "Let's continue exploring our dataset from students in secondary school by looking at a new variable. The \"school\" column indicates the initials of which school the student attended - either \"GP\" or \"MS\".\n",
    "\n",
    "In the last exercise, we created a scatter plot where the plot points were colored based on whether the student lived in an urban or rural area. How many students live in urban vs. rural areas, and does this vary based on what school the student attends? Let's make a count plot with subgroups to find out.\n",
    "\n",
    "Instructions\n",
    "\n",
    "Fill in the palette_colors dictionary to map the \"Rural\" location value to the color \"green\" and the \"Urban\" location value to the color \"blue\".\n",
    "Create a count plot with \"school\" on the x-axis using the student_data DataFrame.\n",
    "Add subgroups to the plot using \"location\" variable and use the palette_colors dictionary to make the location subgroups green and blue."
   ]
  },
  {
   "cell_type": "code",
   "execution_count": null,
   "id": "37225e40",
   "metadata": {},
   "outputs": [],
   "source": [
    "# Import Matplotlib and Seaborn\n",
    "import matplotlib.pyplot as plt\n",
    "import seaborn as sns\n",
    "\n",
    "# Create a dictionary mapping subgroup values to colors\n",
    "palette_colors = {'Rural': \"green\", 'Urban': \"blue\"}\n",
    "\n",
    "# Create a count plot of school with location subgroups\n",
    "sns.countplot(x = 'school', data = student_data, hue = 'location', palette = palette_colors)\n",
    "\n",
    "# Display plot\n",
    "plt.show()"
   ]
  },
  {
   "cell_type": "markdown",
   "id": "62760383",
   "metadata": {},
   "source": [
    "Creating subplots with col and row\n",
    "We've seen in prior exercises that students with more absences (\"absences\") tend to have lower final grades (\"G3\"). Does this relationship hold regardless of how much time students study each week?\n",
    "\n",
    "To answer this, we'll look at the relationship between the number of absences that a student has in school and their final grade in the course, creating separate subplots based on each student's weekly study time (\"study_time\").\n",
    "\n",
    "Seaborn has been imported as sns and matplotlib.pyplot has been imported as plt.\n",
    "\n",
    "Instructions\n",
    "\n",
    "Modify the code to use relplot() instead of scatterplot().\n",
    "Modify the code to create one scatter plot for each level of the variable \"study_time\", arranged in columns.\n",
    "Adapt your code to create one scatter plot for each level of a student's weekly study time, this time arranged in rows."
   ]
  },
  {
   "cell_type": "code",
   "execution_count": null,
   "id": "68e66fa6",
   "metadata": {},
   "outputs": [],
   "source": [
    "# Change this scatter plot to arrange the plots in rows instead of columns\n",
    "sns.relplot(x=\"absences\", y=\"G3\", \n",
    "            data=student_data,\n",
    "            kind=\"scatter\", \n",
    "            row=\"study_time\")\n",
    "\n",
    "# Show plot\n",
    "plt.show()"
   ]
  },
  {
   "cell_type": "markdown",
   "id": "52818a47",
   "metadata": {},
   "source": [
    "Creating two-factor subplots\n",
    "Let's continue looking at the student_data dataset of students in secondary school. Here, we want to answer the following question: does a student's first semester grade (\"G1\") tend to correlate with their final grade (\"G3\")?\n",
    "\n",
    "There are many aspects of a student's life that could result in a higher or lower final grade in the class. For example, some students receive extra educational support from their school (\"schoolsup\") or from their family (\"famsup\"), which could result in higher grades. Let's try to control for these two factors by creating subplots based on whether the student received extra educational support from their school or family.\n",
    "\n",
    "Seaborn has been imported as sns and matplotlib.pyplot has been imported as plt.\n",
    "\n",
    "Instructions\n",
    "\n",
    "Use relplot() to create a scatter plot with \"G1\" on the x-axis and \"G3\" on the y-axis, using the student_data DataFrame.\n",
    "Create column subplots based on whether the student received support from the school (\"schoolsup\"), ordered so that \"yes\" comes before \"no\".\n",
    "Add row subplots based on whether the student received support from the family (\"famsup\"), ordered so that \"yes\" comes before \"no\". This will result in subplots based on two factors."
   ]
  },
  {
   "cell_type": "code",
   "execution_count": null,
   "id": "ca814732",
   "metadata": {},
   "outputs": [],
   "source": [
    "# Adjust further to add subplots based on family support\n",
    "sns.relplot(x=\"G1\", y=\"G3\", \n",
    "            data=student_data,\n",
    "            kind=\"scatter\", \n",
    "            col=\"schoolsup\",\n",
    "            col_order=[\"yes\", \"no\"],\n",
    "            row='famsup', row_order=['yes','no'])\n",
    "\n",
    "# Show plot\n",
    "plt.show()"
   ]
  },
  {
   "cell_type": "markdown",
   "id": "47b105b2",
   "metadata": {},
   "source": [
    "Changing the size of scatter plot points\n",
    "In this exercise, we'll explore Seaborn's mpg dataset, which contains one row per car model and includes information such as the year the car was made, the number of miles per gallon (\"M.P.G.\") it achieves, the power of its engine (measured in \"horsepower\"), and its country of origin.\n",
    "\n",
    "What is the relationship between the power of a car's engine (\"horsepower\") and its fuel efficiency (\"mpg\")? And how does this relationship vary by the number of cylinders (\"cylinders\") the car has? Let's find out.\n",
    "\n",
    "Let's continue to use relplot() instead of scatterplot() since it offers more flexibility.\n",
    "\n",
    "Instructions\n",
    "\n",
    "Use relplot() and the mpg DataFrame to create a scatter plot with \"horsepower\" on the x-axis and \"mpg\" on the y-axis. Vary the size of the points by the number of cylinders in the car (\"cylinders\").\n",
    "To make this plot easier to read, use hue to vary the color of the points by the number of cylinders in the car (\"cylinders\")."
   ]
  },
  {
   "cell_type": "code",
   "execution_count": null,
   "id": "50203295",
   "metadata": {},
   "outputs": [],
   "source": [
    "# Import Matplotlib and Seaborn\n",
    "import matplotlib.pyplot as plt\n",
    "import seaborn as sns\n",
    "\n",
    "# Create scatter plot of horsepower vs. mpg\n",
    "sns.relplot(x=\"horsepower\", y=\"mpg\", \n",
    "            data=mpg, kind=\"scatter\", \n",
    "            size=\"cylinders\", hue='cylinders')\n",
    "\n",
    "# Show plot\n",
    "plt.show()"
   ]
  },
  {
   "cell_type": "markdown",
   "id": "d0759ac5",
   "metadata": {},
   "source": [
    "Changing the style of scatter plot points\n",
    "Let's continue exploring Seaborn's mpg dataset by looking at the relationship between how fast a car can accelerate (\"acceleration\") and its fuel efficiency (\"mpg\"). Do these properties vary by country of origin (\"origin\")?\n",
    "\n",
    "Note that the \"acceleration\" variable is the time to accelerate from 0 to 60 miles per hour, in seconds. Higher values indicate slower acceleration.\n",
    "\n",
    "Instructions\n",
    "\n",
    "Use relplot() and the mpg DataFrame to create a scatter plot with \"acceleration\" on the x-axis and \"mpg\" on the y-axis. Vary the style and color of the plot points by country of origin (\"origin\")."
   ]
  },
  {
   "cell_type": "code",
   "execution_count": null,
   "id": "250a3433",
   "metadata": {},
   "outputs": [],
   "source": [
    "# Import Matplotlib and Seaborn\n",
    "import matplotlib.pyplot as plt\n",
    "import seaborn as sns\n",
    "\n",
    "# Create a scatter plot of acceleration vs. mpg\n",
    "sns.relplot(x='acceleration', y='mpg', data=mpg, kind='scatter', hue='origin', style = 'origin')\n",
    "\n",
    "# Show plot\n",
    "plt.show()"
   ]
  },
  {
   "cell_type": "markdown",
   "id": "02c24c0b",
   "metadata": {},
   "source": [
    "Interpreting line plots\n",
    "In this exercise, we'll continue to explore Seaborn's mpg dataset, which contains one row per car model and includes information such as the year the car was made, its fuel efficiency (measured in \"miles per gallon\" or \"M.P.G\"), and its country of origin (USA, Europe, or Japan).\n",
    "\n",
    "How has the average miles per gallon achieved by these cars changed over time? Let's use line plots to find out!\n",
    "\n",
    "Instructions\n",
    "\n",
    "Use relplot() and the mpg DataFrame to create a line plot with \"model_year\" on the x-axis and \"mpg\" on the y-axis."
   ]
  },
  {
   "cell_type": "code",
   "execution_count": null,
   "id": "9ff70c6f",
   "metadata": {},
   "outputs": [],
   "source": [
    "# Import Matplotlib and Seaborn\n",
    "import matplotlib.pyplot as plt\n",
    "import seaborn as sns\n",
    "\n",
    "# Create line plot\n",
    "sns.relplot(x='model_year', y='mpg', data=mpg, kind = 'line')\n",
    "\n",
    "# Show plot\n",
    "plt.show()"
   ]
  },
  {
   "cell_type": "markdown",
   "id": "953334ad",
   "metadata": {},
   "source": [
    "Visualizing standard deviation with line plots\n",
    "In the last exercise, we looked at how the average miles per gallon achieved by cars has changed over time. Now let's use a line plot to visualize how the distribution of miles per gallon has changed over time.\n",
    "\n",
    "Seaborn has been imported as sns and matplotlib.pyplot has been imported as plt.\n",
    "\n",
    "Instructions\n",
    "\n",
    "Change the plot so the shaded area shows the standard deviation instead of the confidence interval for the mean."
   ]
  },
  {
   "cell_type": "code",
   "execution_count": null,
   "id": "bd9f16c0",
   "metadata": {},
   "outputs": [],
   "source": [
    "# Make the shaded area show the standard deviation\n",
    "sns.relplot(x=\"model_year\", y=\"mpg\",\n",
    "            data=mpg, kind=\"line\", ci='sd')\n",
    "\n",
    "# Show plot\n",
    "plt.show()"
   ]
  },
  {
   "cell_type": "markdown",
   "id": "52b82d32",
   "metadata": {},
   "source": [
    "Plotting subgroups in line plots\n",
    "Let's continue to look at the mpg dataset. We've seen that the average miles per gallon for cars has increased over time, but how has the average horsepower for cars changed over time? And does this trend differ by country of origin?\n",
    "\n",
    "Instructions\n",
    "\n",
    "Use relplot() and the mpg DataFrame to create a line plot with \"model_year\" on the x-axis and \"horsepower\" on the y-axis. Turn off the confidence intervals on the plot.\n",
    "Create different lines for each country of origin (\"origin\") that vary in both line style and color.\n",
    "Add markers for each data point to the lines.\n",
    "Use the dashes parameter to use solid lines for all countries, while still allowing for different marker styles for each line."
   ]
  },
  {
   "cell_type": "code",
   "execution_count": null,
   "id": "8bb9a926",
   "metadata": {},
   "outputs": [],
   "source": [
    "# Import Matplotlib and Seaborn\n",
    "import matplotlib.pyplot as plt\n",
    "import seaborn as sns\n",
    "\n",
    "# Add markers and make each line have the same style\n",
    "sns.relplot(x=\"model_year\", y=\"horsepower\", \n",
    "            data=mpg, kind=\"line\", \n",
    "            ci=None, style=\"origin\", \n",
    "            hue=\"origin\", dashes=False, markers=True)\n",
    "\n",
    "# Show plot\n",
    "plt.show()"
   ]
  },
  {
   "cell_type": "markdown",
   "id": "92bb2fb4",
   "metadata": {},
   "source": [
    "Count plots\n",
    "In this exercise, we'll return to exploring our dataset that contains the responses to a survey sent out to young people. We might suspect that young people spend a lot of time on the internet, but how much do they report using the internet each day? Let's use a count plot to break down the number of survey responses in each category and then explore whether it changes based on age.\n",
    "\n",
    "As a reminder, to create a count plot, we'll use the catplot() function and specify the name of the categorical variable to count (x=____), the pandas DataFrame to use (data=____), and the type of plot (kind=\"count\").\n",
    "\n",
    "Seaborn has been imported as sns and matplotlib.pyplot has been imported as plt.\n",
    "\n",
    "Instructions\n",
    "\n",
    "Use sns.catplot() to create a count plot using the survey_data DataFrame with \"Internet usage\" on the x-axis.\n",
    "Make the bars horizontal instead of vertical.\n",
    "Separate this plot into two side-by-side column subplots based on \"Age Category\", which separates respondents into those that are younger than 21 vs. 21 and older."
   ]
  },
  {
   "cell_type": "code",
   "execution_count": null,
   "id": "9f200dae",
   "metadata": {},
   "outputs": [],
   "source": [
    "# Separate into column subplots based on age category\n",
    "sns.catplot(y=\"Internet usage\", data=survey_data,\n",
    "            kind=\"count\", col = 'Age Category')\n",
    "\n",
    "# Show plot\n",
    "plt.show()"
   ]
  },
  {
   "cell_type": "markdown",
   "id": "b433cffe",
   "metadata": {},
   "source": [
    "Bar plots with percentages\n",
    "Let's continue exploring the responses to a survey sent out to young people. The variable \"Interested in Math\" is True if the person reported being interested or very interested in mathematics, and False otherwise. What percentage of young people report being interested in math, and does this vary based on gender? Let's use a bar plot to find out.\n",
    "\n",
    "As a reminder, we'll create a bar plot using the catplot() function, providing the name of categorical variable to put on the x-axis (x=____), the name of the quantitative variable to summarize on the y-axis (y=____), the pandas DataFrame to use (data=____), and the type of categorical plot (kind=\"bar\").\n",
    "\n",
    "Seaborn has been imported as sns and matplotlib.pyplot has been imported as plt.\n",
    "\n",
    "Instructions\n",
    "\n",
    "Use the survey_data DataFrame and sns.catplot() to create a bar plot with \"Gender\" on the x-axis and \"Interested in Math\" on the y-axis."
   ]
  },
  {
   "cell_type": "code",
   "execution_count": null,
   "id": "cf51f3e5",
   "metadata": {},
   "outputs": [],
   "source": [
    "# Create a bar plot of interest in math, separated by gender\n",
    "sns.catplot(x='Gender', y='Interested in Math', data = survey_data , kind = 'bar')\n",
    "\n",
    "# Show plot\n",
    "plt.show()"
   ]
  },
  {
   "cell_type": "markdown",
   "id": "679f2e40",
   "metadata": {},
   "source": [
    "Customizing bar plots\n",
    "In this exercise, we'll explore data from students in secondary school. The \"study_time\" variable records each student's reported weekly study time as one of the following categories: \"<2 hours\", \"2 to 5 hours\", \"5 to 10 hours\", or \">10 hours\". Do students who report higher amounts of studying tend to get better final grades? Let's compare the average final grade among students in each category using a bar plot.\n",
    "\n",
    "Seaborn has been imported as sns and matplotlib.pyplot has been imported as plt.\n",
    "\n",
    "Instructions\n",
    "\n",
    "Use sns.catplot() to create a bar plot with \"study_time\" on the x-axis and final grade (\"G3\") on the y-axis, using the student_data DataFrame.\n",
    "Using the order parameter and the category_order list that is provided, rearrange the bars so that they are in order from lowest study time to highest.\n",
    "Update the plot so that it no longer displays confidence intervals."
   ]
  },
  {
   "cell_type": "code",
   "execution_count": null,
   "id": "5d25359b",
   "metadata": {},
   "outputs": [],
   "source": [
    "# List of categories from lowest to highest\n",
    "category_order = [\"<2 hours\", \n",
    "                  \"2 to 5 hours\", \n",
    "                  \"5 to 10 hours\", \n",
    "                  \">10 hours\"]\n",
    "\n",
    "# Turn off the confidence intervals\n",
    "sns.catplot(x=\"study_time\", y=\"G3\",\n",
    "            data=student_data,\n",
    "            kind=\"bar\",\n",
    "            order=category_order, ci=None)\n",
    "\n",
    "# Show plot\n",
    "plt.show()"
   ]
  },
  {
   "cell_type": "markdown",
   "id": "909f4c9d",
   "metadata": {},
   "source": [
    "Create and interpret a box plot\n",
    "Let's continue using the student_data dataset. In an earlier exercise, we explored the relationship between studying and final grade by using a bar plot to compare the average final grade (\"G3\") among students in different categories of \"study_time\".\n",
    "\n",
    "In this exercise, we'll try using a box plot look at this relationship instead. As a reminder, to create a box plot you'll need to use the catplot() function and specify the name of the categorical variable to put on the x-axis (x=____), the name of the quantitative variable to summarize on the y-axis (y=____), the pandas DataFrame to use (data=____), and the type of plot (kind=\"box\").\n",
    "\n",
    "We have already imported matplotlib.pyplot as plt and seaborn as sns.\n",
    "\n",
    "Instructions\n",
    "\n",
    "Use sns.catplot() and the student_data DataFrame to create a box plot with \"study_time\" on the x-axis and \"G3\" on the y-axis. Set the ordering of the categories to study_time_order."
   ]
  },
  {
   "cell_type": "code",
   "execution_count": null,
   "id": "d0346838",
   "metadata": {},
   "outputs": [],
   "source": [
    "# Specify the category ordering\n",
    "study_time_order = [\"<2 hours\", \"2 to 5 hours\", \n",
    "                    \"5 to 10 hours\", \">10 hours\"]\n",
    "\n",
    "# Create a box plot and set the order of the categories\n",
    "sns.catplot(data= student_data, x='study_time', y='G3', kind='box', order=study_time_order)\n",
    "\n",
    "# Show plot\n",
    "plt.show()"
   ]
  },
  {
   "cell_type": "markdown",
   "id": "a492240e",
   "metadata": {},
   "source": [
    "Omitting outliers\n",
    "Now let's use the student_data dataset to compare the distribution of final grades (\"G3\") between students who have internet access at home and those who don't. To do this, we'll use the \"internet\" variable, which is a binary (yes/no) indicator of whether the student has internet access at home.\n",
    "\n",
    "Since internet may be less accessible in rural areas, we'll add subgroups based on where the student lives. For this, we can use the \"location\" variable, which is an indicator of whether a student lives in an urban (\"Urban\") or rural (\"Rural\") location.\n",
    "\n",
    "Seaborn has already been imported as sns and matplotlib.pyplot has been imported as plt. As a reminder, you can omit outliers in box plots by setting the sym parameter equal to an empty string (\"\").\n",
    "\n",
    "Instructions\n",
    "\n",
    "Use sns.catplot() to create a box plot with the student_data DataFrame, putting \"internet\" on the x-axis and \"G3\" on the y-axis.\n",
    "Add subgroups so each box plot is colored based on \"location\".\n",
    "Do not display the outliers."
   ]
  },
  {
   "cell_type": "code",
   "execution_count": null,
   "id": "64190e0d",
   "metadata": {},
   "outputs": [],
   "source": [
    "# Create a box plot with subgroups and omit the outliers\n",
    "sns.catplot(data = student_data, x='internet', y='G3', kind='box', hue = 'location', sym='')\n",
    "\n",
    "# Show plot\n",
    "plt.show()"
   ]
  },
  {
   "cell_type": "markdown",
   "id": "ba7a3b7c",
   "metadata": {},
   "source": [
    "Adjusting the whiskers\n",
    "In the lesson we saw that there are multiple ways to define the whiskers in a box plot. In this set of exercises, we'll continue to use the student_data dataset to compare the distribution of final grades (\"G3\") between students who are in a romantic relationship and those that are not. We'll use the \"romantic\" variable, which is a yes/no indicator of whether the student is in a romantic relationship.\n",
    "\n",
    "Let's create a box plot to look at this relationship and try different ways to define the whiskers.\n",
    "\n",
    "We've already imported Seaborn as sns and matplotlib.pyplot as plt.\n",
    "\n",
    "Instructions\n",
    "\n",
    "Adjust the code to make the box plot whiskers to extend to 0.5 * IQR. Recall: the IQR is the interquartile range.\n",
    "Change the code to set the whiskers to extend to the 5th and 95th percentiles.\n",
    "Change the code to set the whiskers to extend to the min and max values."
   ]
  },
  {
   "cell_type": "code",
   "execution_count": null,
   "id": "d9a929df",
   "metadata": {},
   "outputs": [],
   "source": [
    "# Set the whiskers to 0.5 * IQR\n",
    "sns.catplot(x=\"romantic\", y=\"G3\",\n",
    "            data=student_data,\n",
    "            kind=\"box\", whis = 0.5)\n",
    "\n",
    "# Show plot\n",
    "plt.show()\n",
    "\n",
    "# Extend the whiskers to the 5th and 95th percentile\n",
    "sns.catplot(x=\"romantic\", y=\"G3\",\n",
    "            data=student_data,\n",
    "            kind=\"box\",\n",
    "            whis=[5,95])\n",
    "\n",
    "# Show plot\n",
    "plt.show()\n",
    "\n",
    "# Set the whiskers at the min and max values\n",
    "sns.catplot(x=\"romantic\", y=\"G3\",\n",
    "            data=student_data,\n",
    "            kind=\"box\",\n",
    "            whis=[0, 100])\n",
    "\n",
    "# Show plot\n",
    "plt.show()"
   ]
  },
  {
   "cell_type": "markdown",
   "id": "233b2dd9",
   "metadata": {},
   "source": [
    "Customizing point plots\n",
    "Let's continue to look at data from students in secondary school, this time using a point plot to answer the question: does the quality of the student's family relationship influence the number of absences the student has in school? Here, we'll use the \"famrel\" variable, which describes the quality of a student's family relationship from 1 (very bad) to 5 (very good).\n",
    "\n",
    "As a reminder, to create a point plot, use the catplot() function and specify the name of the categorical variable to put on the x-axis (x=____), the name of the quantitative variable to summarize on the y-axis (y=____), the pandas DataFrame to use (data=____), and the type of categorical plot (kind=\"point\").\n",
    "\n",
    "We've already imported Seaborn as sns and matplotlib.pyplot as plt.\n",
    "\n",
    "Instructions\n",
    "\n",
    "Use sns.catplot() and the student_data DataFrame to create a point plot with \"famrel\" on the x-axis and number of absences (\"absences\") on the y-axis.\n",
    "Add \"caps\" to the end of the confidence intervals with size 0.2.\n",
    "Remove the lines joining the points in each category."
   ]
  },
  {
   "cell_type": "code",
   "execution_count": null,
   "id": "d45ceb97",
   "metadata": {},
   "outputs": [],
   "source": [
    "# Remove the lines joining the points\n",
    "sns.catplot(x=\"famrel\", y=\"absences\",\n",
    "\t\t\tdata=student_data,\n",
    "            kind=\"point\",\n",
    "            capsize=0.2, join= False)\n",
    "            \n",
    "# Show plot\n",
    "plt.show()"
   ]
  },
  {
   "cell_type": "markdown",
   "id": "4f07290a",
   "metadata": {},
   "source": [
    "Point plots with subgroups\n",
    "Let's continue exploring the dataset of students in secondary school. This time, we'll ask the question: is being in a romantic relationship associated with higher or lower school attendance? And does this association differ by which school the students attend? Let's find out using a point plot.\n",
    "\n",
    "We've already imported Seaborn as sns and matplotlib.pyplot as plt.\n",
    "\n",
    "Instructions\n",
    "\n",
    "Use sns.catplot() and the student_data DataFrame to create a point plot with relationship status (\"romantic\") on the x-axis and number of absences (\"absences\") on the y-axis. Color the points based on the school that they attend (\"school\").\n",
    "Turn off the confidence intervals for the plot.\n",
    "Since there may be outliers of students with many absences, use the median function that we've imported from numpy to display the median number of absences instead of the average."
   ]
  },
  {
   "cell_type": "code",
   "execution_count": null,
   "id": "e9ae6b7e",
   "metadata": {},
   "outputs": [],
   "source": [
    "# Import median function from numpy\n",
    "from numpy import median\n",
    "\n",
    "# Plot the median number of absences instead of the mean\n",
    "sns.catplot(x=\"romantic\", y=\"absences\",\n",
    "\t\t\tdata=student_data,\n",
    "            kind=\"point\",\n",
    "            hue=\"school\",\n",
    "            ci=None, estimator = median)\n",
    "\n",
    "# Show plot\n",
    "plt.show()"
   ]
  },
  {
   "cell_type": "markdown",
   "id": "35281402",
   "metadata": {},
   "source": [
    "Changing style and palette\n",
    "Let's return to our dataset containing the results of a survey given to young people about their habits and preferences. We've provided the code to create a count plot of their responses to the question \"How often do you listen to your parents' advice?\". Now let's change the style and palette to make this plot easier to interpret.\n",
    "\n",
    "We've already imported Seaborn as sns and matplotlib.pyplot as plt.\n",
    "\n",
    "Instructions\n",
    "\n",
    "Set the style to \"whitegrid\" to help the audience determine the number of responses in each category.\n",
    "Set the color palette to the sequential palette named \"Purples\".\n",
    "Change the color palette to the diverging palette named \"RdBu\"."
   ]
  },
  {
   "cell_type": "code",
   "execution_count": null,
   "id": "ae0eb886",
   "metadata": {},
   "outputs": [],
   "source": [
    "# Set the color palette to \"Purples\"\n",
    "sns.set_style(\"whitegrid\")\n",
    "#sns.set_palette('Purples')\n",
    "sns.set_palette(\"RdBu\")\n",
    "\n",
    "# Create a count plot of survey responses\n",
    "category_order = [\"Never\", \"Rarely\", \"Sometimes\", \n",
    "                  \"Often\", \"Always\"]\n",
    "\n",
    "sns.catplot(x=\"Parents Advice\", \n",
    "            data=survey_data, \n",
    "            kind=\"count\", \n",
    "            order=category_order)\n",
    "\n",
    "# Show plot\n",
    "plt.show()"
   ]
  },
  {
   "cell_type": "markdown",
   "id": "80a1f1a0",
   "metadata": {},
   "source": [
    "Changing the scale\n",
    "In this exercise, we'll continue to look at the dataset containing responses from a survey of young people. Does the percentage of people reporting that they feel lonely vary depending on how many siblings they have? Let's find out using a bar plot, while also exploring Seaborn's four different plot scales (\"contexts\").\n",
    "\n",
    "We've already imported Seaborn as sns and matplotlib.pyplot as plt.\n",
    "\n",
    "Instructions\n",
    "\n",
    "Set the scale (\"context\") to \"paper\", which is the smallest of the scale options.\n",
    "Change the context to \"notebook\" to increase the scale.\n",
    "Change the context to \"talk\" to increase the scale.\n",
    "Change the context to \"poster\", which is the largest scale available."
   ]
  },
  {
   "cell_type": "code",
   "execution_count": null,
   "id": "4e0be9c1",
   "metadata": {},
   "outputs": [],
   "source": [
    "# Set the context to \"paper\"\n",
    "sns.set_context('paper')\n",
    "\n",
    "# Create bar plot\n",
    "sns.catplot(x=\"Number of Siblings\", y=\"Feels Lonely\",\n",
    "            data=survey_data, kind=\"bar\")\n",
    "\n",
    "# Show plot\n",
    "plt.show()"
   ]
  },
  {
   "cell_type": "markdown",
   "id": "43f18303",
   "metadata": {},
   "source": [
    "Using a custom palette\n",
    "So far, we've looked at several things in the dataset of survey responses from young people, including their internet usage, how often they listen to their parents, and how many of them report feeling lonely. However, one thing we haven't done is a basic summary of the type of people answering this survey, including their age and gender. Providing these basic summaries is always a good practice when dealing with an unfamiliar dataset.\n",
    "\n",
    "The code provided will create a box plot showing the distribution of ages for male versus female respondents. Let's adjust the code to customize the appearance, this time using a custom color palette.\n",
    "\n",
    "We've already imported Seaborn as sns and matplotlib.pyplot as plt.\n",
    "\n",
    "Instructions\n",
    "\n",
    "Set the style to \"darkgrid\".\n",
    "Set a custom color palette with the hex color codes \"#39A7D0\" and \"#36ADA4\"."
   ]
  },
  {
   "cell_type": "code",
   "execution_count": null,
   "id": "6a303f54",
   "metadata": {},
   "outputs": [],
   "source": [
    "# Set the style to \"darkgrid\"\n",
    "sns.set_style('darkgrid')\n",
    "\n",
    "# Set a custom color palette\n",
    "custom_palette = [\"#39A7D0\", \"#36ADA4\"]\n",
    "sns.set_palette(custom_palette)\n",
    "\n",
    "# Create the box plot of age distribution by gender\n",
    "sns.catplot(x=\"Gender\", y=\"Age\", \n",
    "            data=survey_data, kind=\"box\")\n",
    "\n",
    "# Show plot\n",
    "plt.show()"
   ]
  },
  {
   "cell_type": "markdown",
   "id": "6ecc3abb",
   "metadata": {},
   "source": [
    "FacetGrids vs. AxesSubplots\n",
    "In the recent lesson, we learned that Seaborn plot functions create two different types of objects: FacetGrid objects and AxesSubplot objects. The method for adding a title to your plot will differ depending on the type of object it is.\n",
    "\n",
    "In the code provided, we've used relplot() with the miles per gallon dataset to create a scatter plot showing the relationship between a car's weight and its horsepower. This scatter plot is assigned to the variable name g. Let's identify which type of object it is.\n",
    "\n",
    "We've already imported Seaborn as sns and matplotlib.pyplot as plt.\n",
    "\n",
    "Instructions\n",
    "\n",
    "Identify what type of object plot g is and assign it to the variable type_of_g."
   ]
  },
  {
   "cell_type": "code",
   "execution_count": null,
   "id": "d44c7e1b",
   "metadata": {},
   "outputs": [],
   "source": [
    "# Create scatter plot\n",
    "g = sns.relplot(x=\"weight\", \n",
    "                y=\"horsepower\", \n",
    "                data=mpg,\n",
    "                kind=\"scatter\")\n",
    "\n",
    "# Identify plot type\n",
    "type_of_g = type(g)\n",
    "\n",
    "# Print type\n",
    "print(type_of_g)"
   ]
  },
  {
   "cell_type": "markdown",
   "id": "493edc50",
   "metadata": {},
   "source": [
    "Adding a title to a FacetGrid object\n",
    "In the previous exercise, we used relplot() with the miles per gallon dataset to create a scatter plot showing the relationship between a car's weight and its horsepower. This created a FacetGrid object. Now that we know what type of object it is, let's add a title to this plot.\n",
    "\n",
    "We've already imported Seaborn as sns and matplotlib.pyplot as plt.\n",
    "\n",
    "Instructions\n",
    "\n",
    "Add the following title to this plot: \"Car Weight vs. Horsepower\"."
   ]
  },
  {
   "cell_type": "code",
   "execution_count": null,
   "id": "0a8661f9",
   "metadata": {},
   "outputs": [],
   "source": [
    "# Create scatter plot\n",
    "g = sns.relplot(x=\"weight\", \n",
    "                y=\"horsepower\", \n",
    "                data=mpg,\n",
    "                kind=\"scatter\")\n",
    "\n",
    "# Add a title \"Car Weight vs. Horsepower\"\n",
    "g.fig.suptitle(\"Car Weight vs. Horsepower\")\n",
    "\n",
    "# Show plot\n",
    "plt.show()"
   ]
  },
  {
   "cell_type": "markdown",
   "id": "64b70677",
   "metadata": {},
   "source": [
    "Adding a title and axis labels\n",
    "Let's continue to look at the miles per gallon dataset. This time we'll create a line plot to answer the question: How does the average miles per gallon achieved by cars change over time for each of the three places of origin? To improve the readability of this plot, we'll add a title and more informative axis labels.\n",
    "\n",
    "In the code provided, we create the line plot using the lineplot() function. Note that lineplot() does not support the creation of subplots, so it returns an AxesSubplot object instead of an FacetGrid object.\n",
    "\n",
    "We've already imported Seaborn as sns and matplotlib.pyplot as plt.\n",
    "\n",
    "Instructions\n",
    "\n",
    "Add the following title to the plot: \"Average MPG Over Time\".\n",
    "Label the x-axis as \"Car Model Year\" and the y-axis as \"Average MPG\"."
   ]
  },
  {
   "cell_type": "code",
   "execution_count": null,
   "id": "ed3a3fe3",
   "metadata": {},
   "outputs": [],
   "source": [
    "# Create line plot\n",
    "g = sns.lineplot(x=\"model_year\", y=\"mpg_mean\", \n",
    "                 data=mpg_mean,\n",
    "                 hue=\"origin\")\n",
    "\n",
    "# Add a title \"Average MPG Over Time\"\n",
    "g.set_title(\"Average MPG Over Time\")\n",
    "\n",
    "# Add x-axis and y-axis labels\n",
    "g.set(xlabel = \"Car Model Year\", ylabel = \"Average MPG\")\n",
    "\n",
    "# Show plot\n",
    "plt.show()"
   ]
  },
  {
   "cell_type": "markdown",
   "id": "1e2936b3",
   "metadata": {},
   "source": [
    "Rotating x-tick labels\n",
    "In this exercise, we'll continue looking at the miles per gallon dataset. In the code provided, we create a point plot that displays the average acceleration for cars in each of the three places of origin. Note that the \"acceleration\" variable is the time to accelerate from 0 to 60 miles per hour, in seconds. Higher values indicate slower acceleration.\n",
    "\n",
    "Let's use this plot to practice rotating the x-tick labels. Recall that the function to rotate x-tick labels is a standalone Matplotlib function and not a function applied to the plot object itself.\n",
    "\n",
    "We've already imported Seaborn as sns and matplotlib.pyplot as plt.\n",
    "\n",
    "Instructions\n",
    "\n",
    "Rotate the x-tick labels 90 degrees."
   ]
  },
  {
   "cell_type": "code",
   "execution_count": null,
   "id": "dc9d1336",
   "metadata": {},
   "outputs": [],
   "source": [
    "# Create point plot\n",
    "sns.catplot(x=\"origin\", \n",
    "            y=\"acceleration\", \n",
    "            data=mpg, \n",
    "            kind=\"point\", \n",
    "            join=False, \n",
    "            capsize=0.1)\n",
    "\n",
    "# Rotate x-tick labels\n",
    "plt.xticks(rotation = 90)\n",
    "\n",
    "# Show plot\n",
    "plt.show()"
   ]
  },
  {
   "cell_type": "markdown",
   "id": "d81bb9bf",
   "metadata": {},
   "source": [
    "Box plot with subgroups\n",
    "In this exercise, we'll look at the dataset containing responses from a survey given to young people. One of the questions asked of the young people was: \"Are you interested in having pets?\" Let's explore whether the distribution of ages of those answering \"yes\" tends to be higher or lower than those answering \"no\", controlling for gender.\n",
    "\n",
    "Instructions\n",
    "\n",
    "Set the color palette to \"Blues\".\n",
    "Add subgroups to color the box plots based on \"Interested in Pets\".\n",
    "Set the title of the FacetGrid object g to \"Age of Those Interested in Pets vs. Not\".\n",
    "Make the plot display using a Matplotlib function."
   ]
  },
  {
   "cell_type": "code",
   "execution_count": null,
   "id": "4ac25667",
   "metadata": {},
   "outputs": [],
   "source": [
    "# Set palette to \"Blues\"\n",
    "sns.set_palette('Blues')\n",
    "\n",
    "# Adjust to add subgroups based on \"Interested in Pets\"\n",
    "g = sns.catplot(x=\"Gender\",\n",
    "                y=\"Age\", data=survey_data, \n",
    "                kind=\"box\", hue='Interested in Pets')\n",
    "\n",
    "# Set title to \"Age of Those Interested in Pets vs. Not\"\n",
    "g.fig.suptitle(\"Age of Those Interested in Pets vs. Not\")\n",
    "\n",
    "# Show plot\n",
    "plt.show()"
   ]
  },
  {
   "cell_type": "markdown",
   "id": "78ff85e5",
   "metadata": {},
   "source": [
    "Bar plot with subgroups and subplots\n",
    "In this exercise, we'll return to our young people survey dataset and investigate whether the proportion of people who like techno music (\"Likes Techno\") varies by their gender (\"Gender\") or where they live (\"Village - town\"). This exercise will give us an opportunity to practice the many things we've learned throughout this course!\n",
    "\n",
    "We've already imported Seaborn as sns and matplotlib.pyplot as plt.\n",
    "\n",
    "Instructions\n",
    "\n",
    "Set the figure style to \"dark\".\n",
    "Adjust the bar plot code to add subplots based on \"Gender\", arranged in columns.\n",
    "Add the title \"Percentage of Young People Who Like Techno\" to this FacetGrid plot.\n",
    "Label the x-axis \"Location of Residence\" and y-axis \"% Who Like Techno\"."
   ]
  },
  {
   "cell_type": "code",
   "execution_count": null,
   "id": "020fc77a",
   "metadata": {},
   "outputs": [],
   "source": [
    "# Set the figure style to \"dark\"\n",
    "sns.set_style('dark')\n",
    "\n",
    "# Adjust to add subplots per gender\n",
    "g = sns.catplot(x=\"Village - town\", y=\"Likes Techno\", \n",
    "                data=survey_data, kind=\"bar\",\n",
    "                col='Gender')\n",
    "\n",
    "# Add title and axis labels\n",
    "g.fig.suptitle(\"Percentage of Young People Who Like Techno\", y=1.02)\n",
    "g.set(xlabel=\"Location of Residence\", \n",
    "       ylabel=\"% Who Like Techno\")\n",
    "\n",
    "# Show plot\n",
    "plt.show()"
   ]
  }
 ],
 "metadata": {
  "kernelspec": {
   "display_name": "Python 3 (ipykernel)",
   "language": "python",
   "name": "python3"
  },
  "language_info": {
   "codemirror_mode": {
    "name": "ipython",
    "version": 3
   },
   "file_extension": ".py",
   "mimetype": "text/x-python",
   "name": "python",
   "nbconvert_exporter": "python",
   "pygments_lexer": "ipython3",
   "version": "3.9.12"
  }
 },
 "nbformat": 4,
 "nbformat_minor": 5
}
