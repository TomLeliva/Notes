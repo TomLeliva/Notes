{
 "cells": [
  {
   "cell_type": "markdown",
   "id": "0a00f88c",
   "metadata": {},
   "source": [
    "Importing Python modules\n",
    "Modules (sometimes called packages or libraries) help group together related sets of tools in Python. In this exercise, we'll examine two modules that are frequently used by Data Scientists:\n",
    "\n",
    "statsmodels: used in machine learning; usually aliased as sm\n",
    "seaborn: a visualization library; usually aliased as sns\n",
    "Note that each module has a standard alias, which allows you to access the tools inside of the module without typing as many characters. For example, aliasing lets us shorten seaborn.scatterplot() to sns.scatterplot().\n",
    "\n",
    "Instructions\n",
    "\n",
    "In the script editor, use an import statement to import statsmodels without an alias.\n",
    "Add an as statement to alias statsmodels to sm.\n",
    "Add an as statement to alias seaborn to sns."
   ]
  },
  {
   "cell_type": "code",
   "execution_count": null,
   "id": "56c0a065",
   "metadata": {},
   "outputs": [],
   "source": [
    "# Import statsmodels under the alias sm\n",
    "import statsmodels as sm\n",
    "# Use an import statement to import seaborn with alias sns\n",
    "import seaborn as sns"
   ]
  },
  {
   "cell_type": "markdown",
   "id": "54b8b89b",
   "metadata": {},
   "source": [
    "Correcting a broken import\n",
    "In this exercise, we'll learn to import numpy, a module for performing mathematical operations on lists of data. The standard alias for numpy is np.\n",
    "\n",
    "What did you need to change to make the import run without errors?\n",
    "\n",
    "Instructions\n",
    "\n",
    "Fix the import of numpy to run without errors."
   ]
  },
  {
   "cell_type": "code",
   "execution_count": null,
   "id": "1fcc782e",
   "metadata": {},
   "outputs": [],
   "source": [
    "# Fix the import of numpy to run without errors\n",
    "import numpy as np"
   ]
  },
  {
   "cell_type": "markdown",
   "id": "554a0730",
   "metadata": {},
   "source": [
    "Creating a float\n",
    "Before we start looking for Bayes' kidnapper, we need to fill out a Missing Puppy Report with details of the case. Each piece of information will be stored as a variable.\n",
    "\n",
    "We define a variable using an equals sign (=). For instance, we would define the variable height:\n",
    "\n",
    "height = 24\n",
    "In this exercise, we'll be defining bayes_age to be 4.0 months old. The data type for this variable will be float, meaning that it is a number.\n",
    "\n",
    "Instructions\n",
    "\n",
    "Define a variable called bayes_age and set it equal to 4.0.\n",
    "Display the variable bayes_age."
   ]
  },
  {
   "cell_type": "code",
   "execution_count": null,
   "id": "e408b433",
   "metadata": {},
   "outputs": [],
   "source": [
    "# Fill in Bayes' age (4.0)\n",
    "bayes_age = 4.0\n",
    "\n",
    "# Display the variable bayes_a\n",
    "print(bayes_age)"
   ]
  },
  {
   "cell_type": "markdown",
   "id": "0b4a5b4a",
   "metadata": {},
   "source": [
    "Creating strings\n",
    "Let's continue to fill out the Missing Puppy Report for Bayes. In the previous exercise, we defined bayes_age, which was a float, which represents a number.\n",
    "\n",
    "In this exercise, we'll define favorite_toy and owner, which will both be strings. A string represents text. A string is surrounded by quotation marks (' or \") and can contain letters, numbers, and special characters. It doesn't matter if you use single (') or double (\") quotes, but it's important to be consistent throughout your code.\n",
    "\n",
    "Instructions\n",
    "\n",
    "Define a variable called favorite_toy whose value is \"Mr. Squeaky\".\n",
    "Define a variable called owner whose value is 'DataCamp'.\n",
    "Show the values assigned to these variables."
   ]
  },
  {
   "cell_type": "code",
   "execution_count": null,
   "id": "2ec488d7",
   "metadata": {},
   "outputs": [],
   "source": [
    "# Bayes' favorite toy\n",
    "favorite_toy = 'Mr. Squeaky'\n",
    "\n",
    "# Bayes' owner\n",
    "owner = 'DataCamp'\n",
    "\n",
    "# Display variables\n",
    "print(favorite_toy)\n",
    "print(owner)"
   ]
  },
  {
   "cell_type": "markdown",
   "id": "17f03c12",
   "metadata": {},
   "source": [
    "Correcting string errors\n",
    "It's easy to make errors when you're trying to type strings quickly.\n",
    "\n",
    "Don't forget to use quotes! Without quotes, you'll get a name error.\n",
    "owner = DataCamp\n",
    "Use the same type of quotation mark. If you start with a single quote, and end with a double quote, you'll get a syntax error.\n",
    "fur_color = \"blonde'\n",
    "Someone at the police station made an error when filling out the final lines of Bayes' Missing Puppy Report. In this exercise, you will correct the errors.\n",
    "\n",
    "Instructions\n",
    "\n",
    "Correct the mistakes in the code so that it runs without producing syntax errors."
   ]
  },
  {
   "cell_type": "code",
   "execution_count": null,
   "id": "9517af89",
   "metadata": {},
   "outputs": [],
   "source": [
    "# One or more of the following lines contains an error\n",
    "# Correct it so that it runs without producing syntax errors\n",
    "birthday = \"2017-07-14\"\n",
    "case_id = 'DATACAMP!123-456?'"
   ]
  },
  {
   "cell_type": "markdown",
   "id": "48fac9aa",
   "metadata": {},
   "source": [
    "Load a DataFrame\n",
    "A ransom note was left at the scene of Bayes' kidnapping. Eventually, we'll want to analyze the frequency with which each letter occurs in the note, to help us identify the kidnapper. For now, we just need to load the data from ransom.csv into Python.\n",
    "\n",
    "We'll load the data into a DataFrame, a special data type from the pandas module. It represents spreadsheet-like data (something with rows and columns).\n",
    "\n",
    "We can create a DataFrame from a CSV (comma-separated value) file by using the function pd.read_csv().\n",
    "\n",
    "Instructions\n",
    "\n",
    "Use pd.read_csv() to load data from a CSV file called ransom.csv. This file represents the frequency of each letter in the ransom note for Bayes."
   ]
  },
  {
   "cell_type": "code",
   "execution_count": null,
   "id": "fc8b9aab",
   "metadata": {},
   "outputs": [],
   "source": [
    "# Import pandas\n",
    "import pandas as pd\n",
    "\n",
    "# Load the 'ransom.csv' into a DataFrame\n",
    "r = pd.read_csv('ransom.csv')\n",
    "\n",
    "# Display DataFrame\n",
    "print(r)"
   ]
  },
  {
   "cell_type": "markdown",
   "id": "b8aac676",
   "metadata": {},
   "source": [
    "Correcting a function error\n",
    "The code in the script editor should plot information from the DataFrame that we loaded in the previous exercise.\n",
    "\n",
    "However, there is an error in function syntax. Remember that common function errors include:\n",
    "\n",
    "Forgetting closing parenthesis\n",
    "Forgetting commas between each argument\n",
    "Note that all arguments to the functions are correct. The problem is in the function syntax.\n",
    "\n",
    "Instructions\n",
    "\n",
    "Correct the code so that it runs without syntax errors."
   ]
  },
  {
   "cell_type": "code",
   "execution_count": null,
   "id": "ec5e66eb",
   "metadata": {},
   "outputs": [],
   "source": [
    "# One or more of the following lines contains an error\n",
    "# Correct it so that it runs without producing syntax errors\n",
    "\n",
    "# Plot a graph\n",
    "plt.plot(x_values, y_values, label = \"Ransom\")\n",
    "\n",
    "# Display the graph\n",
    "plt.show()"
   ]
  },
  {
   "cell_type": "markdown",
   "id": "28bc1c0a",
   "metadata": {},
   "source": [
    "Snooping for suspects\n",
    "We need to narrow down the list of suspects for the kidnapping of Bayes. Once we have a list of suspects, we'll ask them for writing samples and compare them to the ransom note.\n",
    "\n",
    "A witness to the crime noticed a green truck leaving the scene of the crime whose license plate began with 'FRQ'. We'll use this information to search for some suspects.\n",
    "\n",
    "As a detective, you have access to a special function called lookup_plate.\n",
    "\n",
    "lookup_plate accepts one positional argument: A string representing a license plate.\n",
    "\n",
    "Instructions\n",
    "\n",
    "Create a variable called plate that represents the observed license plate: the first three letters were FRQ, but the witness couldn't see the final 4 letters. Use asterisks (*) to represent missing letters.\n",
    "Call lookup_plate() using the variable plate.\n",
    "Calling lookup_plate() with the license plate FRQ**** produced too many results. Luckily, lookup_plate() also accepts a keyword argument: color. Use the color of the car ('Green') to get a smaller list."
   ]
  },
  {
   "cell_type": "code",
   "execution_count": null,
   "id": "d2c87ddf",
   "metadata": {},
   "outputs": [],
   "source": [
    "# Define plate to represent a plate beginning with FRQ\n",
    "# Use * to represent the missing four letters\n",
    "plate = 'FRQ****'\n",
    "\n",
    "# Call the function lookup_plate()\n",
    "lookup_plate(plate)\n",
    "\n",
    "# Call lookup_plate() with the keyword argument for color\n",
    "lookup_plate(plate, color=\"Green\")"
   ]
  },
  {
   "cell_type": "markdown",
   "id": "5226aa06",
   "metadata": {},
   "source": [
    "Loading a DataFrame\n",
    "We're still working hard to solve the kidnapping of Bayes, the Golden Retriever. Previously, we used a license plate spotted at the crime scene to narrow the list of suspects to:\n",
    "\n",
    "Fred Frequentist\n",
    "Ronald Aylmer Fisher\n",
    "Gertrude Cox\n",
    "Kirstine Smith\n",
    "We've obtained credit card records for all four suspects. Perhaps some of them made suspicious purchases before the kidnapping?\n",
    "\n",
    "The records are in a CSV called \"credit_records.csv\".\n",
    "\n",
    "Instructions\n",
    "\n",
    "Import the pandas module under the alias pd.\n",
    "Load the CSV \"credit_records.csv\" into a DataFrame called credit_records.\n",
    "Display the first five rows of credit_records using the .head() method."
   ]
  },
  {
   "cell_type": "code",
   "execution_count": null,
   "id": "8963af47",
   "metadata": {},
   "outputs": [],
   "source": [
    "# Import pandas under the alias pd\n",
    "import pandas as pd\n",
    "\n",
    "# Load the CSV \"credit_records.csv\"\n",
    "credit_records = pd.read_csv(\"credit_records.csv\")\n",
    "\n",
    "# Display the first five rows of credit_records using the .head() method\n",
    "print(credit_records.head())"
   ]
  },
  {
   "cell_type": "markdown",
   "id": "8eabe2ac",
   "metadata": {},
   "source": [
    "Inspecting a DataFrame\n",
    "We've loaded the credit card records of our four suspects into a DataFrame called credit_records. Let's learn more about the structure of this DataFrame.\n",
    "\n",
    "The pandas module has been imported under the alias pd. The DataFrame credit_records has already been imported.\n",
    "\n",
    "How many rows are in credit_records?\n",
    "\n",
    "Instructions\n",
    "\n",
    "Use the .info() method to inspect the DataFrame credit_records."
   ]
  },
  {
   "cell_type": "code",
   "execution_count": null,
   "id": "f8d433aa",
   "metadata": {},
   "outputs": [],
   "source": [
    "#Use .info() to inspect the DataFrame credit_records\n",
    "print(credit_records.info())"
   ]
  },
  {
   "cell_type": "markdown",
   "id": "7363de15",
   "metadata": {},
   "source": [
    "Two methods for selecting columns\n",
    "Once again, we've loaded the credit card records of our four suspects into a DataFrame called credit_records. Let's examine the items that they've purchased.\n",
    "\n",
    "The pandas module has been imported under the alias pd. The DataFrame credit_records has already been imported.\n",
    "\n",
    "Instructions\n",
    "\n",
    "Select the column item from credit_records using brackets and string notation.\n",
    "Select the column item from credit_records using dot notation."
   ]
  },
  {
   "cell_type": "code",
   "execution_count": null,
   "id": "cfb0e0c7",
   "metadata": {},
   "outputs": [],
   "source": [
    "# Select the column item from credit_records\n",
    "# Use brackets and string notation\n",
    "items = credit_records.item\n",
    "\n",
    "# Display the results\n",
    "print(items)\n",
    "\n",
    "# Select the column item from credit_records\n",
    "# Use dot notation\n",
    "items = credit_records[\"item\"]\n",
    "\n",
    "# Display the results\n",
    "print(items)"
   ]
  },
  {
   "cell_type": "markdown",
   "id": "9268eace",
   "metadata": {},
   "source": [
    "Correcting column selection errors\n",
    "A junior detective tried to access the location columns of credit_records, but he made some mistakes. Help correct his code so that we can search for suspicious purchases.\n",
    "\n",
    "In all exercises going forward, pandas will be imported as pd. The DataFrame credit_records has already been imported.\n",
    "\n",
    "Instructions\n",
    "\n",
    "Correct the code so that it runs without errors."
   ]
  },
  {
   "cell_type": "code",
   "execution_count": null,
   "id": "47345d63",
   "metadata": {},
   "outputs": [],
   "source": [
    "# One or more lines of code contain errors.\n",
    "# Fix the errors so that the code runs.\n",
    "\n",
    "# Select the location column in credit_records\n",
    "location = credit_records['location']\n",
    "\n",
    "# Select the item column in credit_records\n",
    "items = credit_records.item\n",
    "\n",
    "# Display results\n",
    "print(location)"
   ]
  },
  {
   "cell_type": "markdown",
   "id": "c4d03794",
   "metadata": {},
   "source": [
    "More column selection mistakes\n",
    "Another junior detective is examining a DataFrame of Missing Puppy Reports. He's made some mistakes that cause the code to fail.\n",
    "\n",
    "The pandas module has been loaded under the alias pd, and the DataFrame is called mpr.\n",
    "\n",
    "Instructions\n",
    "\n",
    "Inspect the DataFrame mpr using info().\n",
    "Correct the mistakes in the code so that it runs without errors."
   ]
  },
  {
   "cell_type": "code",
   "execution_count": null,
   "id": "7663e5c1",
   "metadata": {},
   "outputs": [],
   "source": [
    "# Use info() to inspect mpr\n",
    "print(mpr.info())\n",
    "\n",
    "# The following code contains one or more errors\n",
    "# Correct the mistakes in the code so that it runs without errors\n",
    "\n",
    "# Select column \"Dog Name\" from mpr\n",
    "name = mpr['Dog Name']\n",
    "\n",
    "# Select column \"Missing?\" from mpr\n",
    "is_missing = mpr['Missing?']\n",
    "\n",
    "# Display the columns\n",
    "print(name)\n",
    "print(is_missing)"
   ]
  },
  {
   "cell_type": "markdown",
   "id": "34740f9d",
   "metadata": {},
   "source": [
    "Logical testing\n",
    "Let's practice writing logical statements and displaying the output.\n",
    "\n",
    "Recall that we use the following operators:\n",
    "\n",
    "== tests that two values are equal.\n",
    "!= tests that two values are not equal.\n",
    "> and < test that greater than or less than, respectively.\n",
    ">= and <= test greater than or equal to or less than or equal to, respectively.\n",
    "Instructions\n",
    "\n",
    "The variable height_inches represents the height of a suspect. Is height_inches greater than 70 inches?\n",
    "The variable plate1 represents a license plate number of a suspect. Is it equal to FRQ123?\n",
    "The variable fur_color represents the color of Bayes' fur. Check that fur_color is not equal to \"brown\"."
   ]
  },
  {
   "cell_type": "code",
   "execution_count": null,
   "id": "14849951",
   "metadata": {},
   "outputs": [],
   "source": [
    "# Is height_inches greater than 70 inches?\n",
    "print(height_inches > 70)\n",
    "\n",
    "# Is plate1 equal to \"FRQ123\"?\n",
    "print(plate1 == \"FRQ123\")\n",
    "\n",
    "# Is fur_color not equal to \"brown\"?\n",
    "print(fur_color != \"brown\")"
   ]
  },
  {
   "cell_type": "markdown",
   "id": "2bd394d9",
   "metadata": {},
   "source": [
    "Selecting missing puppies\n",
    "Let's return to our DataFrame of missing puppies, which is loaded as mpr. Let's select a few different rows to learn more about the other missing dogs.\n",
    "\n",
    "Instructions\n",
    "\n",
    "Select the dogs where Age is greater than 2.\n",
    "Select the dogs whose Status is equal to Still Missing.\n",
    "Select all dogs whose Dog Breed is not equal to Poodle."
   ]
  },
  {
   "cell_type": "code",
   "execution_count": null,
   "id": "985e835b",
   "metadata": {},
   "outputs": [],
   "source": [
    "# Select the dogs where Age is greater than 2\n",
    "greater_than_2 = mpr[mpr.Age > 2]\n",
    "print(greater_than_2)\n",
    "\n",
    "# Select the dogs whose Status is equal to Still Missing\n",
    "still_missing = mpr[mpr.Status == \"Still Missing\"]\n",
    "print(still_missing)\n",
    "\n",
    "# Select all dogs whose Dog Breed is not equal to Poodle\n",
    "not_poodle = mpr[mpr[\"Dog Breed\"]!=\"Poodle\"]\n",
    "print(not_poodle)"
   ]
  },
  {
   "cell_type": "markdown",
   "id": "7ef4947f",
   "metadata": {},
   "source": [
    "Narrowing the list of suspects\n",
    "In Chapter 1, we found a list of people whose cars matched the description of the one that kidnapped Bayes:\n",
    "\n",
    "Fred Frequentist\n",
    "Ronald Aylmer Fisher\n",
    "Gertrude Cox\n",
    "Kirstine Smith\n",
    "We'd like to narrow this list down, so we obtained credit card records for each suspect. We'd like to know if any of them recently purchased dog treats to use in the kidnapping. If they did, they would have visited 'Pet Paradise'.\n",
    "\n",
    "The credit records have been loaded into a DataFrame called credit_records.\n",
    "\n",
    "Instructions\n",
    "\n",
    "Select rows of credit_records such that the column location is equal to 'Pet Paradise'."
   ]
  },
  {
   "cell_type": "code",
   "execution_count": null,
   "id": "9a02b612",
   "metadata": {},
   "outputs": [],
   "source": [
    "# Select purchases from 'Pet Paradise'\n",
    "purchase = credit_records[credit_records.location == 'Pet Paradise']\n",
    "\n",
    "# Display\n",
    "print(purchase)"
   ]
  },
  {
   "cell_type": "markdown",
   "id": "9e23b77e",
   "metadata": {},
   "source": [
    "Working hard\n",
    "Several police officers have been working hard to help us solve the mystery of Bayes, the kidnapped Golden Retriever. Their commanding officer wants to know exactly how hard each officer has been working on this case. Officer Deshaun has created DataFrames called deshaun to track the amount of time he spent working on this case. The DataFrame contains two columns:\n",
    "\n",
    "day_of_week: a string representing the day of the week\n",
    "hours_worked: the number of hours that a particular officer worked on the Bayes case'\n",
    "Instructions\n",
    "\n",
    "From matplotlib, import the module pyplot under the alias plt\n",
    "Plot Officer Deshaun's hours worked using the columns day_of_week and hours_worked from deshaun.\n",
    "Display the plot."
   ]
  },
  {
   "cell_type": "code",
   "execution_count": null,
   "id": "f97a7f5e",
   "metadata": {},
   "outputs": [],
   "source": [
    "# From matplotlib, import pyplot under the alias plt\n",
    "from matplotlib import pyplot as plt\n",
    "\n",
    "# Plot Officer Deshaun's hours_worked vs. day_of_week\n",
    "plt.plot(deshaun.day_of_week, deshaun.hours_worked)\n",
    "\n",
    "# Display Deshaun's plot\n",
    "plt.show()"
   ]
  },
  {
   "cell_type": "markdown",
   "id": "b904e8a0",
   "metadata": {},
   "source": [
    "Or hardly working?\n",
    "Two other officers have been working with Deshaun to help find Bayes. Their names are Officer Mengfei and Officer Aditya. Deshaun used their time cards to create two more DataFrames: mengfei and aditya. In this exercise, we'll plot all three lines together to see who was working hard each day.\n",
    "\n",
    "We've already loaded matplotlib under the alias plt.\n",
    "\n",
    "Instructions\n",
    "\n",
    "Plot Officer Aditya's time worked with day_of_week on the x-axis and hours_worked on the y-axis.\n",
    "Plot Officer Mengfei's time worked with day_of_week on the x-axis and hours_worked on the y-axis."
   ]
  },
  {
   "cell_type": "code",
   "execution_count": null,
   "id": "0ad104fb",
   "metadata": {},
   "outputs": [],
   "source": [
    "# Plot Officer Deshaun's hours_worked vs. day_of_week\n",
    "plt.plot(deshaun.day_of_week, deshaun.hours_worked)\n",
    "\n",
    "# Plot Officer Aditya's hours_worked vs. day_of_week\n",
    "plt.plot(aditya.day_of_week, aditya.hours_worked)\n",
    "\n",
    "# Plot Officer Mengfei's hours_worked vs. day_of_week\n",
    "plt.plot(mengfei.day_of_week, mengfei.hours_worked)\n",
    "\n",
    "#Display all three line plots\n",
    "plt.show()"
   ]
  },
  {
   "cell_type": "markdown",
   "id": "144887c7",
   "metadata": {},
   "source": [
    "Adding a legend\n",
    "Officers Deshaun, Mengfei, and Aditya have all been working with you to solve the kidnapping of Bayes. Their supervisor wants to know how much time each officer has spent working on the case.\n",
    "\n",
    "Deshaun created a plot of data from the DataFrames deshaun, mengfei, and aditya in the previous exercise. Now he wants to add a legend to distinguish the three lines.\n",
    "\n",
    "Instructions\n",
    "\n",
    "Using the keyword label, label Deshaun's plot as \"Deshaun\".\n",
    "Add labels to Mengfei's (\"Mengfei\") and Aditya's (\"Aditya\") plots.\n",
    "Add a command to make the legend display."
   ]
  },
  {
   "cell_type": "code",
   "execution_count": null,
   "id": "446cff82",
   "metadata": {},
   "outputs": [],
   "source": [
    "# Officer Deshaun\n",
    "plt.plot(deshaun.day_of_week, deshaun.hours_worked, label='Deshaun')\n",
    "\n",
    "# Add a label to Aditya's plot\n",
    "plt.plot(aditya.day_of_week, aditya.hours_worked, label='Aditya')\n",
    "\n",
    "# Add a label to Mengfei's plot\n",
    "plt.plot(mengfei.day_of_week, mengfei.hours_worked, label='Mengfei')\n",
    "\n",
    "# Add a command to make the legend display\n",
    "plt.legend()\n",
    "\n",
    "# Display plot\n",
    "plt.show()"
   ]
  },
  {
   "cell_type": "markdown",
   "id": "7476cbf5",
   "metadata": {},
   "source": [
    "Adding labels\n",
    "If we give a chart with no labels to Officer Deshaun's supervisor, she won't know what the lines represent.\n",
    "\n",
    "We need to add labels to Officer Deshaun's plot of hours worked.\n",
    "\n",
    "Instructions\n",
    "\n",
    "Add a descriptive title to the chart.\n",
    "Add a label for the y-axis."
   ]
  },
  {
   "cell_type": "code",
   "execution_count": null,
   "id": "59f556fb",
   "metadata": {},
   "outputs": [],
   "source": [
    "# Lines\n",
    "plt.plot(deshaun.day_of_week, deshaun.hours_worked, label='Deshaun')\n",
    "plt.plot(aditya.day_of_week, aditya.hours_worked, label='Aditya')\n",
    "plt.plot(mengfei.day_of_week, mengfei.hours_worked, label='Mengfei')\n",
    "\n",
    "# Add a title\n",
    "plt.title('Officers hours work on this case')\n",
    "\n",
    "# Add y-axis label\n",
    "plt.ylabel(\"working hours\")\n",
    "\n",
    "# Legend\n",
    "plt.legend()\n",
    "# Display plot\n",
    "plt.show()"
   ]
  },
  {
   "cell_type": "markdown",
   "id": "33712449",
   "metadata": {},
   "source": [
    "Adding floating text\n",
    "Officer Deshaun is examining the number of hours that he worked over the past six months. The number for June is low because he only had data for the first week. Help Deshaun add an annotation to the graph to explain this.\n",
    "\n",
    "Instructions\n",
    "\n",
    "Place the annotation \"Missing June data\" at the point (2.5, 80)."
   ]
  },
  {
   "cell_type": "code",
   "execution_count": null,
   "id": "1f2a332a",
   "metadata": {},
   "outputs": [],
   "source": [
    "# Create plot\n",
    "plt.plot(six_months.month, six_months.hours_worked)\n",
    "\n",
    "# Add annotation \"Missing June data\" at (2.5, 80)\n",
    "plt.text(2.5,80,\"Missing June data\")\n",
    "\n",
    "# Display graph\n",
    "plt.show()"
   ]
  },
  {
   "cell_type": "markdown",
   "id": "ea08c56e",
   "metadata": {},
   "source": [
    "Tracking crime statistics\n",
    "Sergeant Laura wants to do some background research to help her better understand the cultural context for Bayes' kidnapping. She has plotted Burglary rates in three U.S. cities using data from the Uniform Crime Reporting Statistics.\n",
    "\n",
    "She wants to present this data to her officers, and she wants the image to be as beautiful as possible to effectively tell her data story.\n",
    "\n",
    "Recall:\n",
    "\n",
    "You can change linestyle to dotted (':'), dashed('--'), or no line ('').\n",
    "You can change the marker to circle ('o'), diamond('d'), or square ('s').\n",
    "Instructions\n",
    "\n",
    "Change the color of Phoenix to \"DarkCyan\".\n",
    "Make the Los Angeles line dotted.\n",
    "Add square markers to Philadelphia."
   ]
  },
  {
   "cell_type": "code",
   "execution_count": null,
   "id": "b666ae84",
   "metadata": {},
   "outputs": [],
   "source": [
    "# Change the color of Phoenix to `\"DarkCyan\"`\n",
    "plt.plot(data[\"Year\"], data[\"Phoenix Police Dept\"],color = 'DarkCyan' , label=\"Phoenix\", linestyle = ':', marker = 'o')\n",
    "\n",
    "# Make the Los Angeles line dotted\n",
    "plt.plot(data[\"Year\"], data[\"Los Angeles Police Dept\"], color='Magenta', label=\"Los Angeles\", linestyle = ':', marker = 'd')\n",
    "\n",
    "# Add square markers to Philedelphia\n",
    "plt.plot(data[\"Year\"], data[\"Philadelphia Police Dept\"], label=\"Philadelphia\",color=\"Yellow\" , linestyle = '--', marker='s')\n",
    "\n",
    "# Add a legend\n",
    "plt.legend()\n",
    "\n",
    "# Display the plot\n",
    "plt.show()"
   ]
  },
  {
   "cell_type": "markdown",
   "id": "877aac37",
   "metadata": {},
   "source": [
    "Playing with styles\n",
    "Help Sergeant Laura try out a few different style options. Changing the plotting style is a fast way to change the entire look of your plot without having to update individual colors or line styles. Some popular styles include:\n",
    "\n",
    "'fivethirtyeight' - Based on the color scheme of the popular website\n",
    "'grayscale' - Great for when you don't have a color printer!\n",
    "'seaborn' - Based on another Python visualization library\n",
    "'classic' - The default color scheme for Matplotlib\n",
    "Instructions\n",
    "\n",
    "Change the plotting style to \"fivethirtyeight\".\n",
    "Change the plotting style to \"ggplot\".\n",
    "View all styles by typing print(plt.style.available) in the console.\n",
    "Pick one of those styles and see what it looks like."
   ]
  },
  {
   "cell_type": "code",
   "execution_count": null,
   "id": "96026980",
   "metadata": {},
   "outputs": [],
   "source": [
    "# Change the style to fivethirtyeight\n",
    "plt.style.use('fivethirtyeight')\n",
    "\n",
    "# Plot lines\n",
    "plt.plot(data[\"Year\"], data[\"Phoenix Police Dept\"], label=\"Phoenix\")\n",
    "plt.plot(data[\"Year\"], data[\"Los Angeles Police Dept\"], label=\"Los Angeles\")\n",
    "plt.plot(data[\"Year\"], data[\"Philadelphia Police Dept\"], label=\"Philadelphia\")\n",
    "\n",
    "# Add a legend\n",
    "plt.legend()\n",
    "\n",
    "# Display the plot\n",
    "plt.show()\n",
    "\n",
    "# Change the style to ggplot\n",
    "plt.style.use('ggplot')\n",
    "\n",
    "# Plot lines\n",
    "plt.plot(data[\"Year\"], data[\"Phoenix Police Dept\"], label=\"Phoenix\")\n",
    "plt.plot(data[\"Year\"], data[\"Los Angeles Police Dept\"], label=\"Los Angeles\")\n",
    "plt.plot(data[\"Year\"], data[\"Philadelphia Police Dept\"], label=\"Philadelphia\")\n",
    "\n",
    "# Add a legend\n",
    "plt.legend()\n",
    "\n",
    "# Display the plot\n",
    "plt.show()\n",
    "\n",
    "# Choose any of the styles\n",
    "print(plt.style.available)\n",
    "plt.style.use('Solarize_Light2')\n",
    "\n",
    "# Plot lines\n",
    "plt.plot(data[\"Year\"], data[\"Phoenix Police Dept\"], label=\"Phoenix\")\n",
    "plt.plot(data[\"Year\"], data[\"Los Angeles Police Dept\"], label=\"Los Angeles\")\n",
    "plt.plot(data[\"Year\"], data[\"Philadelphia Police Dept\"], label=\"Philadelphia\")\n",
    "\n",
    "# Add a legend\n",
    "plt.legend()\n",
    "\n",
    "# Display the plot\n",
    "plt.show()"
   ]
  },
  {
   "cell_type": "markdown",
   "id": "f9987e7b",
   "metadata": {},
   "source": [
    "Identifying Bayes' kidnapper\n",
    "We've narrowed the possible kidnappers down to two suspects:\n",
    "\n",
    "Fred Frequentist (suspect1)\n",
    "Gertrude Cox (suspect2)\n",
    "The kidnapper left a long ransom note containing several unusual phrases. Help DataCamp by using a line plot to compare the frequency of letters in the ransom note to samples from the two main suspects.\n",
    "\n",
    "Three DataFrames have been loaded:\n",
    "\n",
    "ransom contains the letter frequencies for the ransom note.\n",
    "suspect1 contains the letter frequencies for the sample from Fred Frequentist.\n",
    "suspect2 contains the letter frequencies for the sample from Gertrude Cox.\n",
    "Each DataFrame contain two columns letter and frequency.\n",
    "\n",
    "Instructions\n",
    "\n",
    "Plot the letter frequencies from the ransom note. The x-values should be ransom.letter. The y-values should be ransom.frequency. The label should be the string 'Ransom'. The line should be dotted and gray.\n",
    "Plot a line for the data in suspect1. Use a keyword argument to label that line 'Fred Frequentist').\n",
    "Plot a line for the data in suspect2 (labeled 'Gertrude Cox')."
   ]
  },
  {
   "cell_type": "code",
   "execution_count": null,
   "id": "a31d550a",
   "metadata": {},
   "outputs": [],
   "source": [
    "# Plot each line\n",
    "plt.plot(ransom.letter, ransom.frequency,\n",
    "         label='Ransom', linestyle=':', color='gray')\n",
    "plt.plot(suspect1.letter, suspect1.frequency,\n",
    "         label='Fred Frequentist')\n",
    "\n",
    "# X-values should be suspect2.letter\n",
    "# Y-values should be suspect2.frequency\n",
    "# Label should be \"Gertrude Cox\"\n",
    "plt.plot(suspect2.letter, suspect2.frequency, label=\"Gertrude Cox\")\n",
    "\n",
    "# Display plot\n",
    "plt.show()"
   ]
  },
  {
   "cell_type": "markdown",
   "id": "2c8dee4a",
   "metadata": {},
   "source": [
    "Charting cellphone data\n",
    "We know that Freddy Frequentist is the one who kidnapped Bayes the Golden Retriever. Now we need to learn where he is hiding.\n",
    "\n",
    "Our friends at the police station have acquired cell phone data, which gives some of Freddie's locations over the past three weeks. It's stored in the DataFrame cellphone. The x-coordinates are in the column 'x' and the y-coordinates are in the column 'y'.\n",
    "\n",
    "The matplotlib module has been imported under the alias plt.\n",
    "\n",
    "Instructions\n",
    "\n",
    "Display the first five rows of the DataFrame and determine which columns to plot.\n",
    "Create a scatter plot of the data in cellphone."
   ]
  },
  {
   "cell_type": "code",
   "execution_count": null,
   "id": "bc009024",
   "metadata": {},
   "outputs": [],
   "source": [
    "# Explore the data\n",
    "print(cellphone.head())\n",
    "\n",
    "# Create a scatter plot of the data from the DataFrame cellphone\n",
    "plt.scatter(cellphone.x, cellphone.y)\n",
    "\n",
    "# Add labels\n",
    "plt.ylabel('Latitude')\n",
    "plt.xlabel('Longitude')\n",
    "\n",
    "# Display the plot\n",
    "plt.show()"
   ]
  },
  {
   "cell_type": "markdown",
   "id": "edf3cfaa",
   "metadata": {},
   "source": [
    "Modifying a scatterplot\n",
    "In the previous exercise, we created a scatter plot to show Freddy Frequentist's cell phone data.\n",
    "\n",
    "In this exercise, we've done some magic so that the plot will appear over a map of our town. If we just plot the data as we did before, we won't be able to see the map or pick out the areas with the most points. We can fix this by changing the colors, markers, and transparency of the scatter plot.\n",
    "\n",
    "As before, the matplotlib.pyplot module has been imported under the alias plt, and the cellphone data is in the DataFrame cellphone.\n",
    "\n",
    "Instructions\n",
    "\n",
    "Change the color of the points to 'red'.\n",
    "Change the marker shape to square.\n",
    "Change the transparency of the scatterplot to 0.1."
   ]
  },
  {
   "cell_type": "code",
   "execution_count": null,
   "id": "fdffb6ad",
   "metadata": {},
   "outputs": [],
   "source": [
    "# Change the transparency to 0.1\n",
    "plt.scatter(cellphone.x, cellphone.y,\n",
    "           color='red',\n",
    "           marker='s',\n",
    "           alpha=0.1)\n",
    "\n",
    "# Add labels\n",
    "plt.ylabel('Latitude')\n",
    "plt.xlabel('Longitude')\n",
    "\n",
    "# Display the plot\n",
    "plt.show()"
   ]
  },
  {
   "cell_type": "markdown",
   "id": "dd9415c3",
   "metadata": {},
   "source": [
    "Build a simple bar chart\n",
    "Officer Deshaun wants to plot the average number of hours worked per week for him and his coworkers. He has stored the hours worked in a DataFrame called hours, which has columns officer and avg_hours_worked. Recall that the function plt.bar() takes two arguments: the labels for each bar, and the height of each bar. Both of these can be found in our DataFrame.\n",
    "\n",
    "Instructions\n",
    "\n",
    "Display the DataFrame hours using a print command.\n",
    "Create a bar chart of the column avg_hours_worked for each officer from the DataFrame hours.\n",
    "Use the column std_hours_worked (the standard deviation of the hours worked) to add error bars to the bar chart."
   ]
  },
  {
   "cell_type": "code",
   "execution_count": null,
   "id": "9b65602a",
   "metadata": {},
   "outputs": [],
   "source": [
    "# Display the DataFrame hours using print\n",
    "print(hours)\n",
    "\n",
    "# Create a bar plot from the DataFrame hours\n",
    "plt.bar(hours.officer, hours.avg_hours_worked,\n",
    "        # Add error bars\n",
    "        yerr=hours.std_hours_worked)\n",
    "\n",
    "# Display the plot\n",
    "plt.show()"
   ]
  },
  {
   "cell_type": "markdown",
   "id": "f79147a6",
   "metadata": {},
   "source": [
    "Where did the time go?\n",
    "Officer Deshaun wants to compare the hours spent on field work and desk work between him and his colleagues. In this DataFrame, he has split out the average hours worked per week into desk_work and field_work.\n",
    "\n",
    "You can use the same DataFrame containing the hours worked from the previous exercise (hours).\n",
    "\n",
    "Instructions\n",
    "\n",
    "Create a bar plot of the time each officer spends on desk_work.\n",
    "Label that bar plot \"Desk Work\".\n",
    "Create a bar plot for field_work whose bottom is the height of desk_work.\n",
    "Label the field_work bars as \"Field Work\" and add a legend."
   ]
  },
  {
   "cell_type": "code",
   "execution_count": null,
   "id": "c542bf73",
   "metadata": {},
   "outputs": [],
   "source": [
    "# Plot the number of hours spent on desk work\n",
    "plt.bar(hours.officer, hours.desk_work, label='Desk Work')\n",
    "plt.bar(hours.officer, hours.field_work, label = \"Field Work\", bottom = hours.desk_work)\n",
    "\n",
    "\n",
    "# Add a legend\n",
    "plt.legend()\n",
    "\n",
    "# Display the plot\n",
    "plt.show()"
   ]
  },
  {
   "cell_type": "markdown",
   "id": "e5ba92e4",
   "metadata": {},
   "source": [
    "Modifying histograms\n",
    "Let's explore how changes to keyword parameters in a histogram can change the output. Recall that:\n",
    "\n",
    "range sets the minimum and maximum datapoints that we will include in our histogram.\n",
    "bins sets the number of points in our histogram.\n",
    "We'll be exploring the weights of various puppies from the DataFrame puppies. matplotlib has been loaded under the alias plt.\n",
    "\n",
    "Instructions\n",
    "\n",
    "Create a histogram of the column weight from the DataFrame puppies.\n",
    "Change the number of bins to 50.\n",
    "Change the range to start at 5 and end at 35."
   ]
  },
  {
   "cell_type": "code",
   "execution_count": null,
   "id": "d97ad97e",
   "metadata": {},
   "outputs": [],
   "source": [
    "# Change the number of bins to 50\n",
    "plt.hist(puppies.weight,\n",
    "        bins=50)\n",
    "\n",
    "# Add labels\n",
    "plt.xlabel('Puppy Weight (lbs)')\n",
    "plt.ylabel('Number of Puppies')\n",
    "\n",
    "# Display\n",
    "plt.show()\n",
    "\n",
    "# Change the range to start at 5 and end at 35\n",
    "plt.hist(puppies.weight,\n",
    "        range=(5, 35))\n",
    "\n",
    "# Add labels\n",
    "plt.xlabel('Puppy Weight (lbs)')\n",
    "plt.ylabel('Number of Puppies')\n",
    "\n",
    "# Display\n",
    "plt.show()"
   ]
  },
  {
   "cell_type": "markdown",
   "id": "df0feda8",
   "metadata": {},
   "source": [
    "Heroes with histograms\n",
    "We've identified that the kidnapper is Fred Frequentist. Now we need to know where Fred is hiding Bayes.\n",
    "\n",
    "A shoe print at the crime scene contains a specific type of gravel. Based on the distribution of gravel radii, we can determine where the kidnapper recently visited. It might be: Blue Meadows Park, Shady Groves Campsite or Happy Mountain Trailhead.\n",
    "\n",
    "The radii of individual gravel pieces has been loaded into the DataFrame gravel, and matplotlib has been loaded under the alias plt.\n",
    "\n",
    "Instructions\n",
    "\n",
    "Create a histogram of gravel.radius.\n",
    "Modify the histogram such that the histogram is divided into 40 bins and the range is from 2 to 8.\n",
    "Normalize your histogram so that the sum of the bins adds to 1.\n",
    "Label the x-axis (Gravel Radius (mm)), the y-axis (Frequency), and add the title (Sample from Shoeprint)."
   ]
  },
  {
   "cell_type": "code",
   "execution_count": null,
   "id": "c83f3e97",
   "metadata": {},
   "outputs": [],
   "source": [
    "# Create a histogram\n",
    "plt.hist(gravel.radius,\n",
    "         bins=40,\n",
    "         range=(2, 8),\n",
    "         density=True)\n",
    "\n",
    "# Label plot\n",
    "plt.xlabel('Gravel Radius (mm)')\n",
    "plt.ylabel('Frequency')\n",
    "plt.title('Sample from Shoeprint')\n",
    "\n",
    "# Display histogram\n",
    "plt.show()"
   ]
  }
 ],
 "metadata": {
  "kernelspec": {
   "display_name": "Python 3 (ipykernel)",
   "language": "python",
   "name": "python3"
  },
  "language_info": {
   "codemirror_mode": {
    "name": "ipython",
    "version": 3
   },
   "file_extension": ".py",
   "mimetype": "text/x-python",
   "name": "python",
   "nbconvert_exporter": "python",
   "pygments_lexer": "ipython3",
   "version": "3.9.12"
  }
 },
 "nbformat": 4,
 "nbformat_minor": 5
}
