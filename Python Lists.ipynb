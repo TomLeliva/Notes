{
 "cells": [
  {
   "cell_type": "markdown",
   "id": "e2525bbb",
   "metadata": {},
   "source": [
    "Create a list\n",
    "As opposed to int, bool etc., a list is a compound data type; you can group values together:\n",
    "\n",
    "a = \"is\"\n",
    "b = \"nice\"\n",
    "my_list = [\"my\", \"list\", a, b]\n",
    "After measuring the height of your family, you decide to collect some information on the house you're living in. The areas of the different parts of your house are stored in separate variables for now, as shown in the script.\n",
    "\n",
    "Instructions\n",
    "100 XP\n",
    "Create a list, areas, that contains the area of the hallway (hall), kitchen (kit), living room (liv), bedroom (bed) and bathroom (bath), in this order. Use the predefined variables.\n",
    "Print areas with the print() function."
   ]
  },
  {
   "cell_type": "code",
   "execution_count": null,
   "id": "4f682dee",
   "metadata": {},
   "outputs": [],
   "source": [
    "# area variables (in square meters)\n",
    "hall = 11.25\n",
    "kit = 18.0\n",
    "liv = 20.0\n",
    "bed = 10.75\n",
    "bath = 9.50\n",
    "\n",
    "# Create list areas\n",
    "areas = [hall, kit, liv, bed, bath]\n",
    "\n",
    "# Print areas\n",
    "print(areas)\n"
   ]
  },
  {
   "cell_type": "markdown",
   "id": "1be31dd9",
   "metadata": {},
   "source": [
    "Create list with different types\n",
    "A list can contain any Python type. Although it's not really common, a list can also contain a mix of Python types including strings, floats, booleans, etc.\n",
    "\n",
    "The printout of the previous exercise wasn't really satisfying. It's just a list of numbers representing the areas, but you can't tell which area corresponds to which part of your house.\n",
    "\n",
    "The code in the editor is the start of a solution. For some of the areas, the name of the corresponding room is already placed in front. Pay attention here! \"bathroom\" is a string, while bath is a variable that represents the float 9.50 you specified earlier.\n",
    "\n",
    "Instructions\n",
    "100 XP\n",
    "Finish the code that creates the areas list. Build the list so that the list first contains the name of each room as a string and then its area. In other words, add the strings \"hallway\", \"kitchen\" and \"bedroom\" at the appropriate locations.\n",
    "Print areas again; is the printout more informative this time?"
   ]
  },
  {
   "cell_type": "code",
   "execution_count": null,
   "id": "5c131624",
   "metadata": {},
   "outputs": [],
   "source": [
    "# area variables (in square meters)\n",
    "hall = 11.25\n",
    "kit = 18.0\n",
    "liv = 20.0\n",
    "bed = 10.75\n",
    "bath = 9.50\n",
    "\n",
    "# Adapt list areas\n",
    "areas = ['hallway', hall, 'kitchen', kit, \"living room\", liv, 'bedroom', bed, \"bathroom\", bath]\n",
    "\n",
    "# Print areas\n",
    "print(areas)"
   ]
  },
  {
   "cell_type": "markdown",
   "id": "d321b476",
   "metadata": {},
   "source": [
    "List of lists\n",
    "As a data scientist, you'll often be dealing with a lot of data, and it will make sense to group some of this data.\n",
    "\n",
    "Instead of creating a flat list containing strings and floats, representing the names and areas of the rooms in your house, you can create a list of lists. The script in the editor can already give you an idea.\n",
    "\n",
    "Don't get confused here: \"hallway\" is a string, while hall is a variable that represents the float 11.25 you specified earlier.\n",
    "\n",
    "Instructions\n",
    "100 XP\n",
    "Finish the list of lists so that it also contains the bedroom and bathroom data. Make sure you enter these in order!\n",
    "Print out house; does this way of structuring your data make more sense?\n",
    "Print out the type of house. Are you still dealing with a list?"
   ]
  },
  {
   "cell_type": "code",
   "execution_count": null,
   "id": "a068fa59",
   "metadata": {},
   "outputs": [],
   "source": [
    "# area variables (in square meters)\n",
    "hall = 11.25\n",
    "kit = 18.0\n",
    "liv = 20.0\n",
    "bed = 10.75\n",
    "bath = 9.50\n",
    "\n",
    "# house information as list of lists\n",
    "house = [[\"hallway\", hall],\n",
    "         [\"kitchen\", kit],\n",
    "         [\"living room\", liv],\n",
    "         ['bedroom', bed],\n",
    "         ['bathroom', bath]]\n",
    "\n",
    "# Print out house\n",
    "print(house)\n",
    "\n",
    "# Print out the type of house\n",
    "print(type(house))"
   ]
  },
  {
   "cell_type": "markdown",
   "id": "86dec1aa",
   "metadata": {},
   "source": [
    "Subset and conquer\n",
    "Subsetting Python lists is a piece of cake. Take the code sample below, which creates a list x and then selects \"b\" from it. Remember that this is the second element, so it has index 1. You can also use negative indexing.\n",
    "\n",
    "x = [\"a\", \"b\", \"c\", \"d\"]\n",
    "x[1]\n",
    "x[-3] # same result!\n",
    "Remember the areas list from before, containing both strings and floats? Its definition is already in the script. Can you add the correct code to do some Python subsetting?\n",
    "\n",
    "Instructions\n",
    "100 XP\n",
    "Print out the second element from the areas list (it has the value 11.25).\n",
    "Subset and print out the last element of areas, being 9.50. Using a negative index makes sense here!\n",
    "Select the number representing the area of the living room (20.0) and print it out."
   ]
  },
  {
   "cell_type": "code",
   "execution_count": null,
   "id": "9333ae92",
   "metadata": {},
   "outputs": [],
   "source": [
    "# Create the areas list\n",
    "areas = [\"hallway\", 11.25, \"kitchen\", 18.0, \"living room\", 20.0, \"bedroom\", 10.75, \"bathroom\", 9.50]\n",
    "\n",
    "# Print out second element from areas\n",
    "print(areas[1])\n",
    "\n",
    "# Print out last element from areas\n",
    "print(areas[-1])\n",
    "\n",
    "# Print out the area of the living room\n",
    "print(areas[-5])"
   ]
  },
  {
   "cell_type": "markdown",
   "id": "5e7be9f2",
   "metadata": {},
   "source": [
    "Subset and calculate\n",
    "After you've extracted values from a list, you can use them to perform additional calculations. Take this example, where the second and fourth element of a list x are extracted. The strings that result are pasted together using the + operator:\n",
    "\n",
    "x = [\"a\", \"b\", \"c\", \"d\"]\n",
    "print(x[1] + x[3])\n",
    "Instructions\n",
    "100 XP\n",
    "Using a combination of list subsetting and variable assignment, create a new variable, eat_sleep_area, that contains the sum of the area of the kitchen and the area of the bedroom.\n",
    "Print the new variable eat_sleep_area."
   ]
  },
  {
   "cell_type": "code",
   "execution_count": null,
   "id": "401e03d9",
   "metadata": {},
   "outputs": [],
   "source": [
    "# Create the areas list\n",
    "areas = [\"hallway\", 11.25, \"kitchen\", 18.0, \"living room\", 20.0, \"bedroom\", 10.75, \"bathroom\", 9.50]\n",
    "\n",
    "# Sum of kitchen and bedroom area: eat_sleep_area\n",
    "eat_sleep_area = areas[-3]+areas[3]\n",
    "\n",
    "# Print the variable eat_sleep_area\n",
    "print(eat_sleep_area)"
   ]
  },
  {
   "cell_type": "markdown",
   "id": "97d1f156",
   "metadata": {},
   "source": [
    "Slicing and dicing\n",
    "Selecting single values from a list is just one part of the story. It's also possible to slice your list, which means selecting multiple elements from your list. Use the following syntax:\n",
    "\n",
    "my_list[start:end]\n",
    "The start index will be included, while the end index is not.\n",
    "\n",
    "The code sample below shows an example. A list with \"b\" and \"c\", corresponding to indexes 1 and 2, are selected from a list x:\n",
    "\n",
    "x = [\"a\", \"b\", \"c\", \"d\"]\n",
    "x[1:3]\n",
    "The elements with index 1 and 2 are included, while the element with index 3 is not.\n",
    "\n",
    "Instructions\n",
    "100 XP\n",
    "Use slicing to create a list, downstairs, that contains the first 6 elements of areas.\n",
    "Do a similar thing to create a new variable, upstairs, that contains the last 4 elements of areas.\n",
    "Print both downstairs and upstairs using print()."
   ]
  },
  {
   "cell_type": "code",
   "execution_count": null,
   "id": "92840af6",
   "metadata": {},
   "outputs": [],
   "source": [
    "# Create the areas list\n",
    "areas = [\"hallway\", 11.25, \"kitchen\", 18.0, \"living room\", 20.0, \"bedroom\", 10.75, \"bathroom\", 9.50]\n",
    "\n",
    "# Use slicing to create downstairs\n",
    "downstairs = areas[0:6]\n",
    "\n",
    "# Use slicing to create upstairs\n",
    "upstairs = areas[6:10]\n",
    "\n",
    "# Print out downstairs and upstairs\n",
    "print(downstairs)\n",
    "print(upstairs)"
   ]
  },
  {
   "cell_type": "markdown",
   "id": "0951c574",
   "metadata": {},
   "source": [
    "Slicing and dicing (2)\n",
    "In the video, Hugo first discussed the syntax where you specify both where to begin and end the slice of your list:\n",
    "\n",
    "my_list[begin:end]\n",
    "However, it's also possible not to specify these indexes. If you don't specify the begin index, Python figures out that you want to start your slice at the beginning of your list. If you don't specify the end index, the slice will go all the way to the last element of your list. To experiment with this, try the following commands in the IPython Shell:\n",
    "\n",
    "x = [\"a\", \"b\", \"c\", \"d\"]\n",
    "x[:2]\n",
    "x[2:]\n",
    "x[:]\n",
    "Instructions\n",
    "100 XP\n",
    "Create downstairs again, as the first 6 elements of areas. This time, simplify the slicing by omitting the begin index.\n",
    "Create upstairs again, as the last 4 elements of areas. This time, simplify the slicing by omitting the end index."
   ]
  },
  {
   "cell_type": "code",
   "execution_count": null,
   "id": "a65a71e7",
   "metadata": {},
   "outputs": [],
   "source": [
    "# Create the areas list\n",
    "areas = [\"hallway\", 11.25, \"kitchen\", 18.0, \"living room\", 20.0, \"bedroom\", 10.75, \"bathroom\", 9.50]\n",
    "\n",
    "# Alternative slicing to create downstairs\n",
    "downstairs= areas[:6]\n",
    "\n",
    "# Alternative slicing to create upstairs\n",
    "upstairs = areas[6:]"
   ]
  },
  {
   "cell_type": "markdown",
   "id": "35758dca",
   "metadata": {},
   "source": [
    "Replace list elements\n",
    "Replacing list elements is pretty easy. Simply subset the list and assign new values to the subset. You can select single elements or you can change entire list slices at once.\n",
    "\n",
    "Use the IPython Shell to experiment with the commands below. Can you tell what's happening and why?\n",
    "\n",
    "x = [\"a\", \"b\", \"c\", \"d\"]\n",
    "x[1] = \"r\"\n",
    "x[2:] = [\"s\", \"t\"]\n",
    "For this and the following exercises, you'll continue working on the areas list that contains the names and areas of different rooms in a house.\n",
    "\n",
    "Instructions\n",
    "100 XP\n",
    "Update the area of the bathroom area to be 10.50 square meters instead of 9.50.\n",
    "Make the areas list more trendy! Change \"living room\" to \"chill zone\"."
   ]
  },
  {
   "cell_type": "code",
   "execution_count": null,
   "id": "df869722",
   "metadata": {},
   "outputs": [],
   "source": [
    "# Create the areas list\n",
    "areas = [\"hallway\", 11.25, \"kitchen\", 18.0, \"living room\", 20.0, \"bedroom\", 10.75, \"bathroom\", 9.50]\n",
    "\n",
    "# Correct the bathroom area\n",
    "areas[-1] = 10.50\n",
    "\n",
    "# Change \"living room\" to \"chill zone\"\n",
    "areas[4] = 'chill zone'"
   ]
  },
  {
   "cell_type": "markdown",
   "id": "68b1f128",
   "metadata": {},
   "source": [
    "Extend a list\n",
    "If you can change elements in a list, you sure want to be able to add elements to it, right? You can use the + operator:\n",
    "\n",
    "x = [\"a\", \"b\", \"c\", \"d\"]\n",
    "y = x + [\"e\", \"f\"]\n",
    "You just won the lottery, awesome! You decide to build a poolhouse and a garage. Can you add the information to the areas list?\n",
    "\n",
    "Instructions\n",
    "100 XP\n",
    "Use the + operator to paste the list [\"poolhouse\", 24.5] to the end of the areas list. Store the resulting list as areas_1.\n",
    "Further extend areas_1 by adding data on your garage. Add the string \"garage\" and float 15.45. Name the resulting list areas_2."
   ]
  },
  {
   "cell_type": "code",
   "execution_count": null,
   "id": "da4d1fe2",
   "metadata": {},
   "outputs": [],
   "source": [
    "# Create the areas list and make some changes\n",
    "areas = [\"hallway\", 11.25, \"kitchen\", 18.0, \"chill zone\", 20.0,\n",
    "         \"bedroom\", 10.75, \"bathroom\", 10.50]\n",
    "\n",
    "# Add poolhouse data to areas, new list is areas_1\n",
    "areas_1 = areas + ['poolhouse', 24.5]\n",
    "\n",
    "# Add garage data to areas_1, new list is areas_2\n",
    "areas_2 = areas_1 + ['garage', 15.45]"
   ]
  },
  {
   "cell_type": "markdown",
   "id": "80761335",
   "metadata": {},
   "source": [
    "Inner workings of lists\n",
    "At the end of the video, Hugo explained how Python lists work behind the scenes. In this exercise you'll get some hands-on experience with this.\n",
    "\n",
    "The Python code in the script already creates a list with the name areas and a copy named areas_copy. Next, the first element in the areas_copy list is changed and the areas list is printed out. If you hit Run Code you'll see that, although you've changed areas_copy, the change also takes effect in the areas list. That's because areas and areas_copy point to the same list.\n",
    "\n",
    "If you want to prevent changes in areas_copy from also taking effect in areas, you'll have to do a more explicit copy of the areas list. You can do this with list() or by using [:].\n",
    "\n",
    "Instructions\n",
    "100 XP\n",
    "Change the second command, that creates the variable areas_copy, such that areas_copy is an explicit copy of areas. After your edit, changes made to areas_copy shouldn't affect areas. Submit the answer to check this."
   ]
  },
  {
   "cell_type": "code",
   "execution_count": null,
   "id": "84b349bf",
   "metadata": {},
   "outputs": [],
   "source": [
    "# Create list areas\n",
    "areas = [11.25, 18.0, 20.0, 10.75, 9.50]\n",
    "\n",
    "# Create areas_copy\n",
    "areas_copy = areas[:]\n",
    "\n",
    "# Change areas_copy\n",
    "areas_copy[0] = 5.0\n",
    "\n",
    "# Print areas\n",
    "print(areas)\n",
    "\n"
   ]
  }
 ],
 "metadata": {
  "kernelspec": {
   "display_name": "Python 3 (ipykernel)",
   "language": "python",
   "name": "python3"
  },
  "language_info": {
   "codemirror_mode": {
    "name": "ipython",
    "version": 3
   },
   "file_extension": ".py",
   "mimetype": "text/x-python",
   "name": "python",
   "nbconvert_exporter": "python",
   "pygments_lexer": "ipython3",
   "version": "3.9.12"
  }
 },
 "nbformat": 4,
 "nbformat_minor": 5
}
